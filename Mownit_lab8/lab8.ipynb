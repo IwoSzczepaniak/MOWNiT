{
 "cells": [
  {
   "cell_type": "code",
   "execution_count": 187,
   "metadata": {},
   "outputs": [],
   "source": [
    "using Pkg\n",
    "using Roots  \n",
    "using Plots\n",
    "using ForwardDiff\n",
    "using DataFrames"
   ]
  },
  {
   "attachments": {},
   "cell_type": "markdown",
   "metadata": {},
   "source": [
    "## ZAD A \n",
    "Wybrać trzy metody poszukiwania pierwiastków: \n",
    "\n",
    "* wykorzystującą przedział i zmianę znaku, \n",
    "* wykorzystującą pochodną, \n",
    "* wykorzystującą przybliżenie pochodnej"
   ]
  },
  {
   "attachments": {},
   "cell_type": "markdown",
   "metadata": {},
   "source": [
    "### 1. \n",
    "Każdą z trzech wybranych metod przetestować (ilość iteracji, ilość wywołań funkcji) na sześciu wybranych  funkcjach ze zbioru http://people.sc.fsu.edu/~jburkardt/py_src/test_zero/test_zero.html Wyniki przedstawić w formie tabelki. <b>Pamiętać o sprawdzeniu czy wynik jest poprawny poprzez obliczenie wartości funkcji dla znalezionego pierwiastka !</b> (3 pkt)"
   ]
  },
  {
   "cell_type": "code",
   "execution_count": 188,
   "metadata": {},
   "outputs": [],
   "source": [
    "bisection(f) = find_zero(f, (0, 1), Bisection(), tracks = tracker) \n",
    "D(f) = x->ForwardDiff.derivative(f, float(x))\n",
    "newtonMethod(f) = find_zero((f, D(f)),0, Roots.Newton(),tracks = tracker)\n",
    "steffenson(f) = find_zero(f, 0, Order2(),tracks = tracker)\n",
    "\n",
    "tracker = Roots.Tracks();"
   ]
  },
  {
   "cell_type": "code",
   "execution_count": 189,
   "metadata": {},
   "outputs": [
    {
     "name": "stdout",
     "output_type": "stream",
     "text": [
      "Error ocured inf3 newtonMethod with value: 4.564959859473074e-16\n",
      "Error ocured inf3 steffenson with value: 5.483192153677992e-16\n",
      "Error ocured inf5 newtonMethod with value: -1.176323879061277e-8\n",
      "Error ocured inf5 steffenson with value: -8.570793117762626e-9\n",
      "Error ocured inf6 newtonMethod with value: -1.1102230246251565e-16\n",
      "\n",
      "\u001b[1m18×5 DataFrame\u001b[0m\n",
      "\u001b[1m Row \u001b[0m│\u001b[1m Function \u001b[0m\u001b[1m Method       \u001b[0m\u001b[1m Iterations \u001b[0m\u001b[1m Calls   \u001b[0m\u001b[1m Result \u001b[0m\n",
      "     │\u001b[90m Function \u001b[0m\u001b[90m Function     \u001b[0m\u001b[90m Float64    \u001b[0m\u001b[90m Float64 \u001b[0m\u001b[90m String \u001b[0m\n",
      "─────┼─────────────────────────────────────────────────────\n",
      "   1 │ f1        bisection            0.0      3.0  OK\n",
      "   2 │ f1        newtonMethod         1.0      5.0  OK\n",
      "   3 │ f1        steffenson           1.0      7.0  OK\n",
      "   4 │ f2        bisection           61.0     70.0  OK\n",
      "   5 │ f2        newtonMethod        66.0     80.0  OK\n",
      "   6 │ f2        steffenson          72.0     90.0  OK\n",
      "   7 │ f3        bisection           72.0     93.0  OK\n",
      "   8 │ f3        newtonMethod        98.0    145.0  ERROR\n",
      "   9 │ f3        steffenson         126.0    195.0  ERROR\n",
      "  10 │ f4        bisection          126.0    198.0  OK\n",
      "  11 │ f4        newtonMethod       127.0    200.0  OK\n",
      "  12 │ f4        steffenson         127.0    202.0  OK\n",
      "  13 │ f5        bisection          127.0    205.0  OK\n",
      "  14 │ f5        newtonMethod       151.0    253.0  ERROR\n",
      "  15 │ f5        steffenson         177.0    301.0  ERROR\n",
      "  16 │ f6        bisection          238.0    365.0  OK\n",
      "  17 │ f6        newtonMethod       242.0    373.0  ERROR\n",
      "  18 │ f6        steffenson         247.0    382.0  OK\n"
     ]
    }
   ],
   "source": [
    "f1(x) = sin(x) - x/2\n",
    "f2(x) = cos(x) - x\n",
    "f3(x) = (x+3)*(x-1)^2\n",
    "f4(x) =  20.0*x/(100.0*x*x + 1.0)\n",
    "f5(x) =  (20.0*(x-1)/(100.0*(x-1)*(x-1)+1.0))\n",
    "f6(x) = 2*x-exp(-x)\n",
    "\n",
    "\n",
    "df = DataFrame(Function=Function[],Method=Function[],Iterations=Float64[],Calls=Float64[], Result = String[])\n",
    "for func in [f1, f2, f3, f4, f5, f6]\n",
    "    flag = \"OK\"\n",
    "    res1 = bisection(func)\n",
    "    if func(res1) != 0\n",
    "        println(\"Error ocured in\",func,\" \", bisection,\" with value: \", func(res1))\n",
    "        flag = \"ERROR\"\n",
    "    end\n",
    "    push!(df,(func,bisection,tracker.steps,tracker.fncalls, flag))\n",
    "\n",
    "    flag = \"OK\"\n",
    "    res2 = newtonMethod(func)\n",
    "    if func(res2) != 0\n",
    "        println(\"Error ocured in\",func,\" \", newtonMethod,\" with value: \", func(res2))\n",
    "        flag = \"ERROR\"\n",
    "    end\n",
    "    push!(df,(func,newtonMethod,tracker.steps, tracker.fncalls, flag))\n",
    "\n",
    "    flag = \"OK\"\n",
    "    res3 = steffenson(func)\n",
    "    if func(res3) != 0\n",
    "        println(\"Error ocured in\",func,\" \", steffenson,\" with value: \", func(res3))\n",
    "        flag = \"ERROR\"\n",
    "    end\n",
    "    push!(df,(func,steffenson,tracker.steps, tracker.fncalls, flag))\n",
    "end\n",
    "println()\n",
    "println(df)"
   ]
  },
  {
   "attachments": {},
   "cell_type": "markdown",
   "metadata": {},
   "source": [
    "### 2. \n",
    "Zademonstrować wybrany, ciekawy przykład trudnej funkcji z p.1 i działania metod na niej. (1 pkt)"
   ]
  },
  {
   "cell_type": "code",
   "execution_count": 190,
   "metadata": {},
   "outputs": [
    {
     "data": {
      "image/svg+xml": [
       "<?xml version=\"1.0\" encoding=\"utf-8\"?>\n",
       "<svg xmlns=\"http://www.w3.org/2000/svg\" xmlns:xlink=\"http://www.w3.org/1999/xlink\" width=\"600\" height=\"400\" viewBox=\"0 0 2400 1600\">\n",
       "<defs>\n",
       "  <clipPath id=\"clip340\">\n",
       "    <rect x=\"0\" y=\"0\" width=\"2400\" height=\"1600\"/>\n",
       "  </clipPath>\n",
       "</defs>\n",
       "<path clip-path=\"url(#clip340)\" d=\"M0 1600 L2400 1600 L2400 0 L0 0  Z\" fill=\"#ffffff\" fill-rule=\"evenodd\" fill-opacity=\"1\"/>\n",
       "<defs>\n",
       "  <clipPath id=\"clip341\">\n",
       "    <rect x=\"480\" y=\"0\" width=\"1681\" height=\"1600\"/>\n",
       "  </clipPath>\n",
       "</defs>\n",
       "<path clip-path=\"url(#clip340)\" d=\"M193.936 1486.45 L2352.76 1486.45 L2352.76 47.2441 L193.936 47.2441  Z\" fill=\"#ffffff\" fill-rule=\"evenodd\" fill-opacity=\"1\"/>\n",
       "<defs>\n",
       "  <clipPath id=\"clip342\">\n",
       "    <rect x=\"193\" y=\"47\" width=\"2160\" height=\"1440\"/>\n",
       "  </clipPath>\n",
       "</defs>\n",
       "<polyline clip-path=\"url(#clip342)\" style=\"stroke:#000000; stroke-linecap:round; stroke-linejoin:round; stroke-width:2; stroke-opacity:0.1; fill:none\" points=\"458.697,1486.45 458.697,47.2441 \"/>\n",
       "<polyline clip-path=\"url(#clip342)\" style=\"stroke:#000000; stroke-linecap:round; stroke-linejoin:round; stroke-width:2; stroke-opacity:0.1; fill:none\" points=\"866.021,1486.45 866.021,47.2441 \"/>\n",
       "<polyline clip-path=\"url(#clip342)\" style=\"stroke:#000000; stroke-linecap:round; stroke-linejoin:round; stroke-width:2; stroke-opacity:0.1; fill:none\" points=\"1273.35,1486.45 1273.35,47.2441 \"/>\n",
       "<polyline clip-path=\"url(#clip342)\" style=\"stroke:#000000; stroke-linecap:round; stroke-linejoin:round; stroke-width:2; stroke-opacity:0.1; fill:none\" points=\"1680.67,1486.45 1680.67,47.2441 \"/>\n",
       "<polyline clip-path=\"url(#clip342)\" style=\"stroke:#000000; stroke-linecap:round; stroke-linejoin:round; stroke-width:2; stroke-opacity:0.1; fill:none\" points=\"2087.99,1486.45 2087.99,47.2441 \"/>\n",
       "<polyline clip-path=\"url(#clip340)\" style=\"stroke:#000000; stroke-linecap:round; stroke-linejoin:round; stroke-width:4; stroke-opacity:1; fill:none\" points=\"193.936,1486.45 2352.76,1486.45 \"/>\n",
       "<polyline clip-path=\"url(#clip340)\" style=\"stroke:#000000; stroke-linecap:round; stroke-linejoin:round; stroke-width:4; stroke-opacity:1; fill:none\" points=\"458.697,1486.45 458.697,1467.55 \"/>\n",
       "<polyline clip-path=\"url(#clip340)\" style=\"stroke:#000000; stroke-linecap:round; stroke-linejoin:round; stroke-width:4; stroke-opacity:1; fill:none\" points=\"866.021,1486.45 866.021,1467.55 \"/>\n",
       "<polyline clip-path=\"url(#clip340)\" style=\"stroke:#000000; stroke-linecap:round; stroke-linejoin:round; stroke-width:4; stroke-opacity:1; fill:none\" points=\"1273.35,1486.45 1273.35,1467.55 \"/>\n",
       "<polyline clip-path=\"url(#clip340)\" style=\"stroke:#000000; stroke-linecap:round; stroke-linejoin:round; stroke-width:4; stroke-opacity:1; fill:none\" points=\"1680.67,1486.45 1680.67,1467.55 \"/>\n",
       "<polyline clip-path=\"url(#clip340)\" style=\"stroke:#000000; stroke-linecap:round; stroke-linejoin:round; stroke-width:4; stroke-opacity:1; fill:none\" points=\"2087.99,1486.45 2087.99,1467.55 \"/>\n",
       "<path clip-path=\"url(#clip340)\" d=\"M427.598 1532.02 L457.273 1532.02 L457.273 1535.95 L427.598 1535.95 L427.598 1532.02 Z\" fill=\"#000000\" fill-rule=\"evenodd\" fill-opacity=\"1\" /><path clip-path=\"url(#clip340)\" d=\"M480.213 1518.36 L468.408 1536.81 L480.213 1536.81 L480.213 1518.36 M478.986 1514.29 L484.866 1514.29 L484.866 1536.81 L489.796 1536.81 L489.796 1540.7 L484.866 1540.7 L484.866 1548.85 L480.213 1548.85 L480.213 1540.7 L464.611 1540.7 L464.611 1536.19 L478.986 1514.29 Z\" fill=\"#000000\" fill-rule=\"evenodd\" fill-opacity=\"1\" /><path clip-path=\"url(#clip340)\" d=\"M835.964 1532.02 L865.639 1532.02 L865.639 1535.95 L835.964 1535.95 L835.964 1532.02 Z\" fill=\"#000000\" fill-rule=\"evenodd\" fill-opacity=\"1\" /><path clip-path=\"url(#clip340)\" d=\"M879.76 1544.91 L896.079 1544.91 L896.079 1548.85 L874.135 1548.85 L874.135 1544.91 Q876.797 1542.16 881.38 1537.53 Q885.987 1532.88 887.167 1531.53 Q889.413 1529.01 890.292 1527.27 Q891.195 1525.51 891.195 1523.82 Q891.195 1521.07 889.25 1519.33 Q887.329 1517.6 884.227 1517.6 Q882.028 1517.6 879.575 1518.36 Q877.144 1519.13 874.366 1520.68 L874.366 1515.95 Q877.19 1514.82 879.644 1514.24 Q882.098 1513.66 884.135 1513.66 Q889.505 1513.66 892.7 1516.35 Q895.894 1519.03 895.894 1523.52 Q895.894 1525.65 895.084 1527.57 Q894.297 1529.47 892.19 1532.07 Q891.612 1532.74 888.51 1535.95 Q885.408 1539.15 879.76 1544.91 Z\" fill=\"#000000\" fill-rule=\"evenodd\" fill-opacity=\"1\" /><path clip-path=\"url(#clip340)\" d=\"M1273.35 1517.37 Q1269.73 1517.37 1267.91 1520.93 Q1266.1 1524.47 1266.1 1531.6 Q1266.1 1538.71 1267.91 1542.27 Q1269.73 1545.82 1273.35 1545.82 Q1276.98 1545.82 1278.79 1542.27 Q1280.61 1538.71 1280.61 1531.6 Q1280.61 1524.47 1278.79 1520.93 Q1276.98 1517.37 1273.35 1517.37 M1273.35 1513.66 Q1279.16 1513.66 1282.21 1518.27 Q1285.29 1522.85 1285.29 1531.6 Q1285.29 1540.33 1282.21 1544.94 Q1279.16 1549.52 1273.35 1549.52 Q1267.54 1549.52 1264.46 1544.94 Q1261.4 1540.33 1261.4 1531.6 Q1261.4 1522.85 1264.46 1518.27 Q1267.54 1513.66 1273.35 1513.66 Z\" fill=\"#000000\" fill-rule=\"evenodd\" fill-opacity=\"1\" /><path clip-path=\"url(#clip340)\" d=\"M1675.32 1544.91 L1691.64 1544.91 L1691.64 1548.85 L1669.7 1548.85 L1669.7 1544.91 Q1672.36 1542.16 1676.94 1537.53 Q1681.55 1532.88 1682.73 1531.53 Q1684.98 1529.01 1685.86 1527.27 Q1686.76 1525.51 1686.76 1523.82 Q1686.76 1521.07 1684.81 1519.33 Q1682.89 1517.6 1679.79 1517.6 Q1677.59 1517.6 1675.14 1518.36 Q1672.71 1519.13 1669.93 1520.68 L1669.93 1515.95 Q1672.75 1514.82 1675.21 1514.24 Q1677.66 1513.66 1679.7 1513.66 Q1685.07 1513.66 1688.26 1516.35 Q1691.46 1519.03 1691.46 1523.52 Q1691.46 1525.65 1690.65 1527.57 Q1689.86 1529.47 1687.75 1532.07 Q1687.18 1532.74 1684.07 1535.95 Q1680.97 1539.15 1675.32 1544.91 Z\" fill=\"#000000\" fill-rule=\"evenodd\" fill-opacity=\"1\" /><path clip-path=\"url(#clip340)\" d=\"M2091 1518.36 L2079.2 1536.81 L2091 1536.81 L2091 1518.36 M2089.78 1514.29 L2095.66 1514.29 L2095.66 1536.81 L2100.59 1536.81 L2100.59 1540.7 L2095.66 1540.7 L2095.66 1548.85 L2091 1548.85 L2091 1540.7 L2075.4 1540.7 L2075.4 1536.19 L2089.78 1514.29 Z\" fill=\"#000000\" fill-rule=\"evenodd\" fill-opacity=\"1\" /><polyline clip-path=\"url(#clip342)\" style=\"stroke:#000000; stroke-linecap:round; stroke-linejoin:round; stroke-width:2; stroke-opacity:0.1; fill:none\" points=\"193.936,1445.9 2352.76,1445.9 \"/>\n",
       "<polyline clip-path=\"url(#clip342)\" style=\"stroke:#000000; stroke-linecap:round; stroke-linejoin:round; stroke-width:2; stroke-opacity:0.1; fill:none\" points=\"193.936,1106.42 2352.76,1106.42 \"/>\n",
       "<polyline clip-path=\"url(#clip342)\" style=\"stroke:#000000; stroke-linecap:round; stroke-linejoin:round; stroke-width:2; stroke-opacity:0.1; fill:none\" points=\"193.936,766.936 2352.76,766.936 \"/>\n",
       "<polyline clip-path=\"url(#clip342)\" style=\"stroke:#000000; stroke-linecap:round; stroke-linejoin:round; stroke-width:2; stroke-opacity:0.1; fill:none\" points=\"193.936,427.456 2352.76,427.456 \"/>\n",
       "<polyline clip-path=\"url(#clip342)\" style=\"stroke:#000000; stroke-linecap:round; stroke-linejoin:round; stroke-width:2; stroke-opacity:0.1; fill:none\" points=\"193.936,87.9762 2352.76,87.9762 \"/>\n",
       "<polyline clip-path=\"url(#clip340)\" style=\"stroke:#000000; stroke-linecap:round; stroke-linejoin:round; stroke-width:4; stroke-opacity:1; fill:none\" points=\"193.936,1486.45 193.936,47.2441 \"/>\n",
       "<polyline clip-path=\"url(#clip340)\" style=\"stroke:#000000; stroke-linecap:round; stroke-linejoin:round; stroke-width:4; stroke-opacity:1; fill:none\" points=\"193.936,1445.9 212.834,1445.9 \"/>\n",
       "<polyline clip-path=\"url(#clip340)\" style=\"stroke:#000000; stroke-linecap:round; stroke-linejoin:round; stroke-width:4; stroke-opacity:1; fill:none\" points=\"193.936,1106.42 212.834,1106.42 \"/>\n",
       "<polyline clip-path=\"url(#clip340)\" style=\"stroke:#000000; stroke-linecap:round; stroke-linejoin:round; stroke-width:4; stroke-opacity:1; fill:none\" points=\"193.936,766.936 212.834,766.936 \"/>\n",
       "<polyline clip-path=\"url(#clip340)\" style=\"stroke:#000000; stroke-linecap:round; stroke-linejoin:round; stroke-width:4; stroke-opacity:1; fill:none\" points=\"193.936,427.456 212.834,427.456 \"/>\n",
       "<polyline clip-path=\"url(#clip340)\" style=\"stroke:#000000; stroke-linecap:round; stroke-linejoin:round; stroke-width:4; stroke-opacity:1; fill:none\" points=\"193.936,87.9762 212.834,87.9762 \"/>\n",
       "<path clip-path=\"url(#clip340)\" d=\"M50.9921 1446.35 L80.6679 1446.35 L80.6679 1450.28 L50.9921 1450.28 L50.9921 1446.35 Z\" fill=\"#000000\" fill-rule=\"evenodd\" fill-opacity=\"1\" /><path clip-path=\"url(#clip340)\" d=\"M91.5706 1459.24 L99.2095 1459.24 L99.2095 1432.87 L90.8993 1434.54 L90.8993 1430.28 L99.1632 1428.62 L103.839 1428.62 L103.839 1459.24 L111.478 1459.24 L111.478 1463.18 L91.5706 1463.18 L91.5706 1459.24 Z\" fill=\"#000000\" fill-rule=\"evenodd\" fill-opacity=\"1\" /><path clip-path=\"url(#clip340)\" d=\"M120.922 1457.3 L125.807 1457.3 L125.807 1463.18 L120.922 1463.18 L120.922 1457.3 Z\" fill=\"#000000\" fill-rule=\"evenodd\" fill-opacity=\"1\" /><path clip-path=\"url(#clip340)\" d=\"M145.992 1431.69 Q142.381 1431.69 140.552 1435.26 Q138.746 1438.8 138.746 1445.93 Q138.746 1453.04 140.552 1456.6 Q142.381 1460.14 145.992 1460.14 Q149.626 1460.14 151.431 1456.6 Q153.26 1453.04 153.26 1445.93 Q153.26 1438.8 151.431 1435.26 Q149.626 1431.69 145.992 1431.69 M145.992 1427.99 Q151.802 1427.99 154.857 1432.6 Q157.936 1437.18 157.936 1445.93 Q157.936 1454.66 154.857 1459.26 Q151.802 1463.85 145.992 1463.85 Q140.181 1463.85 137.103 1459.26 Q134.047 1454.66 134.047 1445.93 Q134.047 1437.18 137.103 1432.6 Q140.181 1427.99 145.992 1427.99 Z\" fill=\"#000000\" fill-rule=\"evenodd\" fill-opacity=\"1\" /><path clip-path=\"url(#clip340)\" d=\"M51.9875 1106.87 L81.6633 1106.87 L81.6633 1110.8 L51.9875 1110.8 L51.9875 1106.87 Z\" fill=\"#000000\" fill-rule=\"evenodd\" fill-opacity=\"1\" /><path clip-path=\"url(#clip340)\" d=\"M101.756 1092.21 Q98.1447 1092.21 96.316 1095.78 Q94.5104 1099.32 94.5104 1106.45 Q94.5104 1113.56 96.316 1117.12 Q98.1447 1120.66 101.756 1120.66 Q105.39 1120.66 107.196 1117.12 Q109.024 1113.56 109.024 1106.45 Q109.024 1099.32 107.196 1095.78 Q105.39 1092.21 101.756 1092.21 M101.756 1088.51 Q107.566 1088.51 110.621 1093.12 Q113.7 1097.7 113.7 1106.45 Q113.7 1115.18 110.621 1119.78 Q107.566 1124.37 101.756 1124.37 Q95.9456 1124.37 92.8669 1119.78 Q89.8114 1115.18 89.8114 1106.45 Q89.8114 1097.7 92.8669 1093.12 Q95.9456 1088.51 101.756 1088.51 Z\" fill=\"#000000\" fill-rule=\"evenodd\" fill-opacity=\"1\" /><path clip-path=\"url(#clip340)\" d=\"M121.918 1117.82 L126.802 1117.82 L126.802 1123.7 L121.918 1123.7 L121.918 1117.82 Z\" fill=\"#000000\" fill-rule=\"evenodd\" fill-opacity=\"1\" /><path clip-path=\"url(#clip340)\" d=\"M137.033 1089.14 L155.39 1089.14 L155.39 1093.07 L141.316 1093.07 L141.316 1101.54 Q142.334 1101.2 143.353 1101.03 Q144.371 1100.85 145.39 1100.85 Q151.177 1100.85 154.556 1104.02 Q157.936 1107.19 157.936 1112.61 Q157.936 1118.19 154.464 1121.29 Q150.992 1124.37 144.672 1124.37 Q142.496 1124.37 140.228 1124 Q137.982 1123.63 135.575 1122.89 L135.575 1118.19 Q137.658 1119.32 139.881 1119.88 Q142.103 1120.43 144.58 1120.43 Q148.584 1120.43 150.922 1118.33 Q153.26 1116.22 153.26 1112.61 Q153.26 1109 150.922 1106.89 Q148.584 1104.78 144.58 1104.78 Q142.705 1104.78 140.83 1105.2 Q138.978 1105.62 137.033 1106.5 L137.033 1089.14 Z\" fill=\"#000000\" fill-rule=\"evenodd\" fill-opacity=\"1\" /><path clip-path=\"url(#clip340)\" d=\"M100.76 752.735 Q97.1493 752.735 95.3206 756.299 Q93.515 759.841 93.515 766.971 Q93.515 774.077 95.3206 777.642 Q97.1493 781.183 100.76 781.183 Q104.395 781.183 106.2 777.642 Q108.029 774.077 108.029 766.971 Q108.029 759.841 106.2 756.299 Q104.395 752.735 100.76 752.735 M100.76 749.031 Q106.571 749.031 109.626 753.637 Q112.705 758.221 112.705 766.971 Q112.705 775.697 109.626 780.304 Q106.571 784.887 100.76 784.887 Q94.9502 784.887 91.8715 780.304 Q88.816 775.697 88.816 766.971 Q88.816 758.221 91.8715 753.637 Q94.9502 749.031 100.76 749.031 Z\" fill=\"#000000\" fill-rule=\"evenodd\" fill-opacity=\"1\" /><path clip-path=\"url(#clip340)\" d=\"M120.922 778.336 L125.807 778.336 L125.807 784.216 L120.922 784.216 L120.922 778.336 Z\" fill=\"#000000\" fill-rule=\"evenodd\" fill-opacity=\"1\" /><path clip-path=\"url(#clip340)\" d=\"M145.992 752.735 Q142.381 752.735 140.552 756.299 Q138.746 759.841 138.746 766.971 Q138.746 774.077 140.552 777.642 Q142.381 781.183 145.992 781.183 Q149.626 781.183 151.431 777.642 Q153.26 774.077 153.26 766.971 Q153.26 759.841 151.431 756.299 Q149.626 752.735 145.992 752.735 M145.992 749.031 Q151.802 749.031 154.857 753.637 Q157.936 758.221 157.936 766.971 Q157.936 775.697 154.857 780.304 Q151.802 784.887 145.992 784.887 Q140.181 784.887 137.103 780.304 Q134.047 775.697 134.047 766.971 Q134.047 758.221 137.103 753.637 Q140.181 749.031 145.992 749.031 Z\" fill=\"#000000\" fill-rule=\"evenodd\" fill-opacity=\"1\" /><path clip-path=\"url(#clip340)\" d=\"M101.756 413.255 Q98.1447 413.255 96.316 416.819 Q94.5104 420.361 94.5104 427.491 Q94.5104 434.597 96.316 438.162 Q98.1447 441.704 101.756 441.704 Q105.39 441.704 107.196 438.162 Q109.024 434.597 109.024 427.491 Q109.024 420.361 107.196 416.819 Q105.39 413.255 101.756 413.255 M101.756 409.551 Q107.566 409.551 110.621 414.157 Q113.7 418.741 113.7 427.491 Q113.7 436.218 110.621 440.824 Q107.566 445.407 101.756 445.407 Q95.9456 445.407 92.8669 440.824 Q89.8114 436.218 89.8114 427.491 Q89.8114 418.741 92.8669 414.157 Q95.9456 409.551 101.756 409.551 Z\" fill=\"#000000\" fill-rule=\"evenodd\" fill-opacity=\"1\" /><path clip-path=\"url(#clip340)\" d=\"M121.918 438.856 L126.802 438.856 L126.802 444.736 L121.918 444.736 L121.918 438.856 Z\" fill=\"#000000\" fill-rule=\"evenodd\" fill-opacity=\"1\" /><path clip-path=\"url(#clip340)\" d=\"M137.033 410.176 L155.39 410.176 L155.39 414.111 L141.316 414.111 L141.316 422.583 Q142.334 422.236 143.353 422.074 Q144.371 421.889 145.39 421.889 Q151.177 421.889 154.556 425.06 Q157.936 428.231 157.936 433.648 Q157.936 439.227 154.464 442.329 Q150.992 445.407 144.672 445.407 Q142.496 445.407 140.228 445.037 Q137.982 444.667 135.575 443.926 L135.575 439.227 Q137.658 440.361 139.881 440.917 Q142.103 441.472 144.58 441.472 Q148.584 441.472 150.922 439.366 Q153.26 437.259 153.26 433.648 Q153.26 430.037 150.922 427.931 Q148.584 425.824 144.58 425.824 Q142.705 425.824 140.83 426.241 Q138.978 426.657 137.033 427.537 L137.033 410.176 Z\" fill=\"#000000\" fill-rule=\"evenodd\" fill-opacity=\"1\" /><path clip-path=\"url(#clip340)\" d=\"M91.5706 101.321 L99.2095 101.321 L99.2095 74.9554 L90.8993 76.6221 L90.8993 72.3628 L99.1632 70.6962 L103.839 70.6962 L103.839 101.321 L111.478 101.321 L111.478 105.256 L91.5706 105.256 L91.5706 101.321 Z\" fill=\"#000000\" fill-rule=\"evenodd\" fill-opacity=\"1\" /><path clip-path=\"url(#clip340)\" d=\"M120.922 99.3766 L125.807 99.3766 L125.807 105.256 L120.922 105.256 L120.922 99.3766 Z\" fill=\"#000000\" fill-rule=\"evenodd\" fill-opacity=\"1\" /><path clip-path=\"url(#clip340)\" d=\"M145.992 73.7749 Q142.381 73.7749 140.552 77.3397 Q138.746 80.8813 138.746 88.0109 Q138.746 95.1174 140.552 98.6821 Q142.381 102.224 145.992 102.224 Q149.626 102.224 151.431 98.6821 Q153.26 95.1174 153.26 88.0109 Q153.26 80.8813 151.431 77.3397 Q149.626 73.7749 145.992 73.7749 M145.992 70.0712 Q151.802 70.0712 154.857 74.6776 Q157.936 79.261 157.936 88.0109 Q157.936 96.7377 154.857 101.344 Q151.802 105.927 145.992 105.927 Q140.181 105.927 137.103 101.344 Q134.047 96.7377 134.047 88.0109 Q134.047 79.261 137.103 74.6776 Q140.181 70.0712 145.992 70.0712 Z\" fill=\"#000000\" fill-rule=\"evenodd\" fill-opacity=\"1\" /><polyline clip-path=\"url(#clip342)\" style=\"stroke:#009af9; stroke-linecap:round; stroke-linejoin:round; stroke-width:4; stroke-opacity:1; fill:none\" points=\"255.035,789.562 268.294,789.81 390.898,792.39 464.577,794.241 526.872,796.03 594.542,798.258 656.928,800.638 723.812,803.627 801.304,807.827 870.17,812.458 930.558,817.475 996.398,824.376 1062.63,833.515 1099.24,839.932 1135.86,847.714 1170.69,856.824 1205.53,868.237 1223.64,875.388 1241.75,883.618 1259.86,893.187 1277.98,904.447 1293.22,915.588 1308.47,928.663 1316.09,936.088 1323.71,944.215 1331.34,953.145 1338.96,963 1348.27,976.505 1357.57,991.945 1366.88,1009.75 1376.19,1030.48 1380.84,1042.16 1385.49,1054.87 1390.15,1068.73 1394.8,1083.89 1399.45,1100.52 1404.11,1118.82 1408.76,1139.02 1413.41,1161.35 1417.67,1183.91 1421.94,1208.7 1426.2,1235.9 1430.46,1265.63 1434.73,1297.84 1438.99,1332.15 1443.25,1367.57 1447.51,1401.86 1449.65,1417.33 1451.78,1430.61 1452.84,1436.08 1453.91,1440.55 1454.97,1443.8 1456.04,1445.61 1457.11,1445.72 1458.17,1443.83 1459.24,1439.64 1460.3,1432.78 1460.84,1428.24 1461.37,1422.9 1461.9,1416.69 1462.43,1409.58 1462.97,1401.51 1463.5,1392.44 1464.03,1382.31 1464.57,1371.07 1465.1,1358.68 1465.63,1345.09 1466.16,1330.27 1466.7,1314.18 1467.23,1296.79 1467.76,1278.07 1468.3,1258 1468.83,1236.59 1469.36,1213.82 1469.89,1189.71 1470.43,1164.28 1470.96,1137.56 1471.49,1109.59 1472.02,1080.43 1472.56,1050.14 1473.09,1018.82 1474.16,953.429 1475.22,885.122 1476.29,814.916 1477.35,743.928 1478.42,673.316 1479.48,604.218 1480.55,537.692 1481.62,474.664 1482.11,446.956 1482.6,420.219 1483.09,394.505 1483.58,369.857 1484.08,346.309 1484.57,323.888 1485.06,302.61 1485.55,282.484 1486.05,263.513 1486.54,245.691 1487.03,229.009 1487.52,213.448 1488.01,198.99 1488.51,185.606 1489,173.269 1489.49,161.947 1489.98,151.604 1490.47,142.204 1490.97,133.709 1491.46,126.081 1492.44,113.264 1493.43,103.435 1494.41,96.283 1495.4,91.5077 1496.38,88.8264 1497.36,87.9763 1498.35,88.7162 1499.33,90.827 1500.32,94.1114 1501.3,98.3931 1503.27,109.34 1505.24,122.625 1509.17,153.204 1513.11,185.841 1517.05,218.209 1520.99,249.13 1524.92,278.072 1528.86,304.861 1532.8,329.509 1536.73,352.124 1540.67,372.856 1544.61,391.869 1548.6,409.542 1552.58,425.777 1556.57,440.718 1560.56,454.499 1564.55,467.236 1568.54,479.034 1572.52,489.987 1576.51,500.175 1584.49,518.544 1592.46,534.63 1600.44,548.818 1608.42,561.416 1617.36,573.948 1626.29,585.068 1635.23,594.997 1644.17,603.915 1662.05,619.268 1679.93,632.006 1696.13,641.804 1712.33,650.286 1728.53,657.698 1744.73,664.23 1781.83,676.61 1818.92,686.337 1853.27,693.649 1887.62,699.748 1921.48,704.845 1955.34,709.224 1988.22,712.923 2021.1,716.178 2088.51,721.76 2162.36,726.619 2269.65,732.068 2291.66,733.009 \"/>\n",
       "<path clip-path=\"url(#clip340)\" d=\"M2012.48 198.898 L2280.8 198.898 L2280.8 95.2176 L2012.48 95.2176  Z\" fill=\"#ffffff\" fill-rule=\"evenodd\" fill-opacity=\"1\"/>\n",
       "<polyline clip-path=\"url(#clip340)\" style=\"stroke:#000000; stroke-linecap:round; stroke-linejoin:round; stroke-width:4; stroke-opacity:1; fill:none\" points=\"2012.48,198.898 2280.8,198.898 2280.8,95.2176 2012.48,95.2176 2012.48,198.898 \"/>\n",
       "<polyline clip-path=\"url(#clip340)\" style=\"stroke:#009af9; stroke-linecap:round; stroke-linejoin:round; stroke-width:4; stroke-opacity:1; fill:none\" points=\"2036.47,147.058 2180.39,147.058 \"/>\n",
       "<path clip-path=\"url(#clip340)\" d=\"M2218.22 166.745 Q2216.42 171.375 2214.7 172.787 Q2212.99 174.199 2210.12 174.199 L2206.72 174.199 L2206.72 170.634 L2209.22 170.634 Q2210.98 170.634 2211.95 169.8 Q2212.92 168.967 2214.1 165.865 L2214.86 163.921 L2204.38 138.412 L2208.89 138.412 L2216.99 158.689 L2225.1 138.412 L2229.61 138.412 L2218.22 166.745 Z\" fill=\"#000000\" fill-rule=\"evenodd\" fill-opacity=\"1\" /><path clip-path=\"url(#clip340)\" d=\"M2236.9 160.402 L2244.54 160.402 L2244.54 134.037 L2236.23 135.703 L2236.23 131.444 L2244.49 129.778 L2249.17 129.778 L2249.17 160.402 L2256.81 160.402 L2256.81 164.338 L2236.9 164.338 L2236.9 160.402 Z\" fill=\"#000000\" fill-rule=\"evenodd\" fill-opacity=\"1\" /></svg>\n"
      ]
     },
     "execution_count": 190,
     "metadata": {},
     "output_type": "execute_result"
    }
   ],
   "source": [
    "plot(f5)"
   ]
  },
  {
   "cell_type": "code",
   "execution_count": 191,
   "metadata": {},
   "outputs": [
    {
     "name": "stdout",
     "output_type": "stream",
     "text": [
      "Error ocured inf5 newtonMethod with value: -1.176323879061277e-8\n",
      "Error ocured inf5 steffenson with value: -8.570793117762626e-9\n",
      "\u001b[1m3×5 DataFrame\u001b[0m\n",
      "\u001b[1m Row \u001b[0m│\u001b[1m Function \u001b[0m\u001b[1m Method       \u001b[0m\u001b[1m Iterations \u001b[0m\u001b[1m Calls   \u001b[0m\u001b[1m Result \u001b[0m\n",
      "     │\u001b[90m Function \u001b[0m\u001b[90m Function     \u001b[0m\u001b[90m Float64    \u001b[0m\u001b[90m Float64 \u001b[0m\u001b[90m String \u001b[0m\n",
      "─────┼─────────────────────────────────────────────────────\n",
      "   1 │ f5        bisection          247.0    385.0  OK\n",
      "   2 │ f5        newtonMethod       271.0    433.0  ERROR\n",
      "   3 │ f5        steffenson         297.0    481.0  ERROR\n"
     ]
    }
   ],
   "source": [
    "df = DataFrame(Function=Function[],Method=Function[],Iterations=Float64[],Calls=Float64[], Result = String[])\n",
    "func = f5\n",
    "\n",
    "flag = \"OK\"\n",
    "res1 = bisection(func)\n",
    "if func(res1) != 0\n",
    "    println(\"Error ocured in\",func,\" \", bisection,\" with value: \", func(res1))\n",
    "    flag = \"ERROR\"\n",
    "end\n",
    "push!(df,(func,bisection,tracker.steps,tracker.fncalls, flag))\n",
    "\n",
    "flag = \"OK\"\n",
    "res2 = newtonMethod(func)\n",
    "if func(res2) != 0\n",
    "    println(\"Error ocured in\",func,\" \", newtonMethod,\" with value: \", func(res2))\n",
    "    flag = \"ERROR\"\n",
    "end\n",
    "push!(df,(func,newtonMethod,tracker.steps, tracker.fncalls, flag))\n",
    "\n",
    "flag = \"OK\"\n",
    "res3 = steffenson(func)\n",
    "if func(res3) != 0\n",
    "    println(\"Error ocured in\",func,\" \", steffenson,\" with value: \", func(res3))\n",
    "    flag = \"ERROR\"\n",
    "end\n",
    "push!(df,(func,steffenson,tracker.steps, tracker.fncalls, flag))\n",
    "\n",
    "println(df)"
   ]
  },
  {
   "attachments": {},
   "cell_type": "markdown",
   "metadata": {},
   "source": [
    "Newton Baffler"
   ]
  },
  {
   "cell_type": "code",
   "execution_count": 192,
   "metadata": {},
   "outputs": [
    {
     "data": {
      "image/svg+xml": [
       "<?xml version=\"1.0\" encoding=\"utf-8\"?>\n",
       "<svg xmlns=\"http://www.w3.org/2000/svg\" xmlns:xlink=\"http://www.w3.org/1999/xlink\" width=\"600\" height=\"400\" viewBox=\"0 0 2400 1600\">\n",
       "<defs>\n",
       "  <clipPath id=\"clip380\">\n",
       "    <rect x=\"0\" y=\"0\" width=\"2400\" height=\"1600\"/>\n",
       "  </clipPath>\n",
       "</defs>\n",
       "<path clip-path=\"url(#clip380)\" d=\"M0 1600 L2400 1600 L2400 0 L0 0  Z\" fill=\"#ffffff\" fill-rule=\"evenodd\" fill-opacity=\"1\"/>\n",
       "<defs>\n",
       "  <clipPath id=\"clip381\">\n",
       "    <rect x=\"480\" y=\"0\" width=\"1681\" height=\"1600\"/>\n",
       "  </clipPath>\n",
       "</defs>\n",
       "<path clip-path=\"url(#clip380)\" d=\"M224.098 1486.45 L2352.76 1486.45 L2352.76 47.2441 L224.098 47.2441  Z\" fill=\"#ffffff\" fill-rule=\"evenodd\" fill-opacity=\"1\"/>\n",
       "<defs>\n",
       "  <clipPath id=\"clip382\">\n",
       "    <rect x=\"224\" y=\"47\" width=\"2130\" height=\"1440\"/>\n",
       "  </clipPath>\n",
       "</defs>\n",
       "<polyline clip-path=\"url(#clip382)\" style=\"stroke:#000000; stroke-linecap:round; stroke-linejoin:round; stroke-width:2; stroke-opacity:0.1; fill:none\" points=\"284.343,1486.45 284.343,47.2441 \"/>\n",
       "<polyline clip-path=\"url(#clip382)\" style=\"stroke:#000000; stroke-linecap:round; stroke-linejoin:round; stroke-width:2; stroke-opacity:0.1; fill:none\" points=\"786.385,1486.45 786.385,47.2441 \"/>\n",
       "<polyline clip-path=\"url(#clip382)\" style=\"stroke:#000000; stroke-linecap:round; stroke-linejoin:round; stroke-width:2; stroke-opacity:0.1; fill:none\" points=\"1288.43,1486.45 1288.43,47.2441 \"/>\n",
       "<polyline clip-path=\"url(#clip382)\" style=\"stroke:#000000; stroke-linecap:round; stroke-linejoin:round; stroke-width:2; stroke-opacity:0.1; fill:none\" points=\"1790.47,1486.45 1790.47,47.2441 \"/>\n",
       "<polyline clip-path=\"url(#clip382)\" style=\"stroke:#000000; stroke-linecap:round; stroke-linejoin:round; stroke-width:2; stroke-opacity:0.1; fill:none\" points=\"2292.51,1486.45 2292.51,47.2441 \"/>\n",
       "<polyline clip-path=\"url(#clip380)\" style=\"stroke:#000000; stroke-linecap:round; stroke-linejoin:round; stroke-width:4; stroke-opacity:1; fill:none\" points=\"224.098,1486.45 2352.76,1486.45 \"/>\n",
       "<polyline clip-path=\"url(#clip380)\" style=\"stroke:#000000; stroke-linecap:round; stroke-linejoin:round; stroke-width:4; stroke-opacity:1; fill:none\" points=\"284.343,1486.45 284.343,1467.55 \"/>\n",
       "<polyline clip-path=\"url(#clip380)\" style=\"stroke:#000000; stroke-linecap:round; stroke-linejoin:round; stroke-width:4; stroke-opacity:1; fill:none\" points=\"786.385,1486.45 786.385,1467.55 \"/>\n",
       "<polyline clip-path=\"url(#clip380)\" style=\"stroke:#000000; stroke-linecap:round; stroke-linejoin:round; stroke-width:4; stroke-opacity:1; fill:none\" points=\"1288.43,1486.45 1288.43,1467.55 \"/>\n",
       "<polyline clip-path=\"url(#clip380)\" style=\"stroke:#000000; stroke-linecap:round; stroke-linejoin:round; stroke-width:4; stroke-opacity:1; fill:none\" points=\"1790.47,1486.45 1790.47,1467.55 \"/>\n",
       "<polyline clip-path=\"url(#clip380)\" style=\"stroke:#000000; stroke-linecap:round; stroke-linejoin:round; stroke-width:4; stroke-opacity:1; fill:none\" points=\"2292.51,1486.45 2292.51,1467.55 \"/>\n",
       "<path clip-path=\"url(#clip380)\" d=\"M251.507 1514.29 L269.864 1514.29 L269.864 1518.22 L255.79 1518.22 L255.79 1526.7 Q256.808 1526.35 257.827 1526.19 Q258.845 1526 259.864 1526 Q265.651 1526 269.03 1529.17 Q272.41 1532.34 272.41 1537.76 Q272.41 1543.34 268.938 1546.44 Q265.466 1549.52 259.146 1549.52 Q256.97 1549.52 254.702 1549.15 Q252.457 1548.78 250.049 1548.04 L250.049 1543.34 Q252.132 1544.47 254.355 1545.03 Q256.577 1545.58 259.054 1545.58 Q263.058 1545.58 265.396 1543.48 Q267.734 1541.37 267.734 1537.76 Q267.734 1534.15 265.396 1532.04 Q263.058 1529.94 259.054 1529.94 Q257.179 1529.94 255.304 1530.35 Q253.452 1530.77 251.507 1531.65 L251.507 1514.29 Z\" fill=\"#000000\" fill-rule=\"evenodd\" fill-opacity=\"1\" /><path clip-path=\"url(#clip380)\" d=\"M281.623 1542.97 L286.507 1542.97 L286.507 1548.85 L281.623 1548.85 L281.623 1542.97 Z\" fill=\"#000000\" fill-rule=\"evenodd\" fill-opacity=\"1\" /><path clip-path=\"url(#clip380)\" d=\"M306.692 1517.37 Q303.081 1517.37 301.253 1520.93 Q299.447 1524.47 299.447 1531.6 Q299.447 1538.71 301.253 1542.27 Q303.081 1545.82 306.692 1545.82 Q310.327 1545.82 312.132 1542.27 Q313.961 1538.71 313.961 1531.6 Q313.961 1524.47 312.132 1520.93 Q310.327 1517.37 306.692 1517.37 M306.692 1513.66 Q312.502 1513.66 315.558 1518.27 Q318.637 1522.85 318.637 1531.6 Q318.637 1540.33 315.558 1544.94 Q312.502 1549.52 306.692 1549.52 Q300.882 1549.52 297.803 1544.94 Q294.748 1540.33 294.748 1531.6 Q294.748 1522.85 297.803 1518.27 Q300.882 1513.66 306.692 1513.66 Z\" fill=\"#000000\" fill-rule=\"evenodd\" fill-opacity=\"1\" /><path clip-path=\"url(#clip380)\" d=\"M754.047 1514.29 L772.403 1514.29 L772.403 1518.22 L758.329 1518.22 L758.329 1526.7 Q759.348 1526.35 760.367 1526.19 Q761.385 1526 762.404 1526 Q768.191 1526 771.57 1529.17 Q774.95 1532.34 774.95 1537.76 Q774.95 1543.34 771.478 1546.44 Q768.005 1549.52 761.686 1549.52 Q759.51 1549.52 757.242 1549.15 Q754.996 1548.78 752.589 1548.04 L752.589 1543.34 Q754.672 1544.47 756.894 1545.03 Q759.117 1545.58 761.593 1545.58 Q765.598 1545.58 767.936 1543.48 Q770.274 1541.37 770.274 1537.76 Q770.274 1534.15 767.936 1532.04 Q765.598 1529.94 761.593 1529.94 Q759.718 1529.94 757.843 1530.35 Q755.992 1530.77 754.047 1531.65 L754.047 1514.29 Z\" fill=\"#000000\" fill-rule=\"evenodd\" fill-opacity=\"1\" /><path clip-path=\"url(#clip380)\" d=\"M784.163 1542.97 L789.047 1542.97 L789.047 1548.85 L784.163 1548.85 L784.163 1542.97 Z\" fill=\"#000000\" fill-rule=\"evenodd\" fill-opacity=\"1\" /><path clip-path=\"url(#clip380)\" d=\"M799.278 1514.29 L817.635 1514.29 L817.635 1518.22 L803.561 1518.22 L803.561 1526.7 Q804.579 1526.35 805.598 1526.19 Q806.616 1526 807.635 1526 Q813.422 1526 816.801 1529.17 Q820.181 1532.34 820.181 1537.76 Q820.181 1543.34 816.709 1546.44 Q813.237 1549.52 806.917 1549.52 Q804.741 1549.52 802.473 1549.15 Q800.227 1548.78 797.82 1548.04 L797.82 1543.34 Q799.903 1544.47 802.126 1545.03 Q804.348 1545.58 806.825 1545.58 Q810.829 1545.58 813.167 1543.48 Q815.505 1541.37 815.505 1537.76 Q815.505 1534.15 813.167 1532.04 Q810.829 1529.94 806.825 1529.94 Q804.95 1529.94 803.075 1530.35 Q801.223 1530.77 799.278 1531.65 L799.278 1514.29 Z\" fill=\"#000000\" fill-rule=\"evenodd\" fill-opacity=\"1\" /><path clip-path=\"url(#clip380)\" d=\"M1266.3 1529.7 Q1263.15 1529.7 1261.3 1531.86 Q1259.47 1534.01 1259.47 1537.76 Q1259.47 1541.49 1261.3 1543.66 Q1263.15 1545.82 1266.3 1545.82 Q1269.45 1545.82 1271.27 1543.66 Q1273.13 1541.49 1273.13 1537.76 Q1273.13 1534.01 1271.27 1531.86 Q1269.45 1529.7 1266.3 1529.7 M1275.58 1515.05 L1275.58 1519.31 Q1273.82 1518.48 1272.01 1518.04 Q1270.23 1517.6 1268.47 1517.6 Q1263.84 1517.6 1261.39 1520.72 Q1258.96 1523.85 1258.61 1530.17 Q1259.98 1528.15 1262.04 1527.09 Q1264.1 1526 1266.58 1526 Q1271.78 1526 1274.79 1529.17 Q1277.83 1532.32 1277.83 1537.76 Q1277.83 1543.08 1274.68 1546.3 Q1271.53 1549.52 1266.3 1549.52 Q1260.3 1549.52 1257.13 1544.94 Q1253.96 1540.33 1253.96 1531.6 Q1253.96 1523.41 1257.85 1518.55 Q1261.74 1513.66 1268.29 1513.66 Q1270.05 1513.66 1271.83 1514.01 Q1273.64 1514.36 1275.58 1515.05 Z\" fill=\"#000000\" fill-rule=\"evenodd\" fill-opacity=\"1\" /><path clip-path=\"url(#clip380)\" d=\"M1285.88 1542.97 L1290.76 1542.97 L1290.76 1548.85 L1285.88 1548.85 L1285.88 1542.97 Z\" fill=\"#000000\" fill-rule=\"evenodd\" fill-opacity=\"1\" /><path clip-path=\"url(#clip380)\" d=\"M1310.95 1517.37 Q1307.34 1517.37 1305.51 1520.93 Q1303.7 1524.47 1303.7 1531.6 Q1303.7 1538.71 1305.51 1542.27 Q1307.34 1545.82 1310.95 1545.82 Q1314.58 1545.82 1316.39 1542.27 Q1318.22 1538.71 1318.22 1531.6 Q1318.22 1524.47 1316.39 1520.93 Q1314.58 1517.37 1310.95 1517.37 M1310.95 1513.66 Q1316.76 1513.66 1319.82 1518.27 Q1322.89 1522.85 1322.89 1531.6 Q1322.89 1540.33 1319.82 1544.94 Q1316.76 1549.52 1310.95 1549.52 Q1305.14 1549.52 1302.06 1544.94 Q1299.01 1540.33 1299.01 1531.6 Q1299.01 1522.85 1302.06 1518.27 Q1305.14 1513.66 1310.95 1513.66 Z\" fill=\"#000000\" fill-rule=\"evenodd\" fill-opacity=\"1\" /><path clip-path=\"url(#clip380)\" d=\"M1768.84 1529.7 Q1765.69 1529.7 1763.84 1531.86 Q1762.01 1534.01 1762.01 1537.76 Q1762.01 1541.49 1763.84 1543.66 Q1765.69 1545.82 1768.84 1545.82 Q1771.99 1545.82 1773.81 1543.66 Q1775.67 1541.49 1775.67 1537.76 Q1775.67 1534.01 1773.81 1531.86 Q1771.99 1529.7 1768.84 1529.7 M1778.12 1515.05 L1778.12 1519.31 Q1776.36 1518.48 1774.55 1518.04 Q1772.77 1517.6 1771.01 1517.6 Q1766.38 1517.6 1763.93 1520.72 Q1761.5 1523.85 1761.15 1530.17 Q1762.52 1528.15 1764.58 1527.09 Q1766.64 1526 1769.11 1526 Q1774.32 1526 1777.33 1529.17 Q1780.36 1532.32 1780.36 1537.76 Q1780.36 1543.08 1777.22 1546.3 Q1774.07 1549.52 1768.84 1549.52 Q1762.84 1549.52 1759.67 1544.94 Q1756.5 1540.33 1756.5 1531.6 Q1756.5 1523.41 1760.39 1518.55 Q1764.28 1513.66 1770.83 1513.66 Q1772.59 1513.66 1774.37 1514.01 Q1776.17 1514.36 1778.12 1515.05 Z\" fill=\"#000000\" fill-rule=\"evenodd\" fill-opacity=\"1\" /><path clip-path=\"url(#clip380)\" d=\"M1788.42 1542.97 L1793.3 1542.97 L1793.3 1548.85 L1788.42 1548.85 L1788.42 1542.97 Z\" fill=\"#000000\" fill-rule=\"evenodd\" fill-opacity=\"1\" /><path clip-path=\"url(#clip380)\" d=\"M1803.54 1514.29 L1821.89 1514.29 L1821.89 1518.22 L1807.82 1518.22 L1807.82 1526.7 Q1808.84 1526.35 1809.86 1526.19 Q1810.87 1526 1811.89 1526 Q1817.68 1526 1821.06 1529.17 Q1824.44 1532.34 1824.44 1537.76 Q1824.44 1543.34 1820.97 1546.44 Q1817.49 1549.52 1811.17 1549.52 Q1809 1549.52 1806.73 1549.15 Q1804.49 1548.78 1802.08 1548.04 L1802.08 1543.34 Q1804.16 1544.47 1806.38 1545.03 Q1808.61 1545.58 1811.08 1545.58 Q1815.09 1545.58 1817.42 1543.48 Q1819.76 1541.37 1819.76 1537.76 Q1819.76 1534.15 1817.42 1532.04 Q1815.09 1529.94 1811.08 1529.94 Q1809.21 1529.94 1807.33 1530.35 Q1805.48 1530.77 1803.54 1531.65 L1803.54 1514.29 Z\" fill=\"#000000\" fill-rule=\"evenodd\" fill-opacity=\"1\" /><path clip-path=\"url(#clip380)\" d=\"M2258.33 1514.29 L2280.55 1514.29 L2280.55 1516.28 L2268.01 1548.85 L2263.12 1548.85 L2274.93 1518.22 L2258.33 1518.22 L2258.33 1514.29 Z\" fill=\"#000000\" fill-rule=\"evenodd\" fill-opacity=\"1\" /><path clip-path=\"url(#clip380)\" d=\"M2289.68 1542.97 L2294.56 1542.97 L2294.56 1548.85 L2289.68 1548.85 L2289.68 1542.97 Z\" fill=\"#000000\" fill-rule=\"evenodd\" fill-opacity=\"1\" /><path clip-path=\"url(#clip380)\" d=\"M2314.74 1517.37 Q2311.13 1517.37 2309.3 1520.93 Q2307.5 1524.47 2307.5 1531.6 Q2307.5 1538.71 2309.3 1542.27 Q2311.13 1545.82 2314.74 1545.82 Q2318.38 1545.82 2320.18 1542.27 Q2322.01 1538.71 2322.01 1531.6 Q2322.01 1524.47 2320.18 1520.93 Q2318.38 1517.37 2314.74 1517.37 M2314.74 1513.66 Q2320.55 1513.66 2323.61 1518.27 Q2326.69 1522.85 2326.69 1531.6 Q2326.69 1540.33 2323.61 1544.94 Q2320.55 1549.52 2314.74 1549.52 Q2308.93 1549.52 2305.86 1544.94 Q2302.8 1540.33 2302.8 1531.6 Q2302.8 1522.85 2305.86 1518.27 Q2308.93 1513.66 2314.74 1513.66 Z\" fill=\"#000000\" fill-rule=\"evenodd\" fill-opacity=\"1\" /><polyline clip-path=\"url(#clip382)\" style=\"stroke:#000000; stroke-linecap:round; stroke-linejoin:round; stroke-width:2; stroke-opacity:0.1; fill:none\" points=\"224.098,1276 2352.76,1276 \"/>\n",
       "<polyline clip-path=\"url(#clip382)\" style=\"stroke:#000000; stroke-linecap:round; stroke-linejoin:round; stroke-width:2; stroke-opacity:0.1; fill:none\" points=\"224.098,1049.71 2352.76,1049.71 \"/>\n",
       "<polyline clip-path=\"url(#clip382)\" style=\"stroke:#000000; stroke-linecap:round; stroke-linejoin:round; stroke-width:2; stroke-opacity:0.1; fill:none\" points=\"224.098,823.418 2352.76,823.418 \"/>\n",
       "<polyline clip-path=\"url(#clip382)\" style=\"stroke:#000000; stroke-linecap:round; stroke-linejoin:round; stroke-width:2; stroke-opacity:0.1; fill:none\" points=\"224.098,597.129 2352.76,597.129 \"/>\n",
       "<polyline clip-path=\"url(#clip382)\" style=\"stroke:#000000; stroke-linecap:round; stroke-linejoin:round; stroke-width:2; stroke-opacity:0.1; fill:none\" points=\"224.098,370.839 2352.76,370.839 \"/>\n",
       "<polyline clip-path=\"url(#clip382)\" style=\"stroke:#000000; stroke-linecap:round; stroke-linejoin:round; stroke-width:2; stroke-opacity:0.1; fill:none\" points=\"224.098,144.549 2352.76,144.549 \"/>\n",
       "<polyline clip-path=\"url(#clip380)\" style=\"stroke:#000000; stroke-linecap:round; stroke-linejoin:round; stroke-width:4; stroke-opacity:1; fill:none\" points=\"224.098,1486.45 224.098,47.2441 \"/>\n",
       "<polyline clip-path=\"url(#clip380)\" style=\"stroke:#000000; stroke-linecap:round; stroke-linejoin:round; stroke-width:4; stroke-opacity:1; fill:none\" points=\"224.098,1276 242.996,1276 \"/>\n",
       "<polyline clip-path=\"url(#clip380)\" style=\"stroke:#000000; stroke-linecap:round; stroke-linejoin:round; stroke-width:4; stroke-opacity:1; fill:none\" points=\"224.098,1049.71 242.996,1049.71 \"/>\n",
       "<polyline clip-path=\"url(#clip380)\" style=\"stroke:#000000; stroke-linecap:round; stroke-linejoin:round; stroke-width:4; stroke-opacity:1; fill:none\" points=\"224.098,823.418 242.996,823.418 \"/>\n",
       "<polyline clip-path=\"url(#clip380)\" style=\"stroke:#000000; stroke-linecap:round; stroke-linejoin:round; stroke-width:4; stroke-opacity:1; fill:none\" points=\"224.098,597.129 242.996,597.129 \"/>\n",
       "<polyline clip-path=\"url(#clip380)\" style=\"stroke:#000000; stroke-linecap:round; stroke-linejoin:round; stroke-width:4; stroke-opacity:1; fill:none\" points=\"224.098,370.839 242.996,370.839 \"/>\n",
       "<polyline clip-path=\"url(#clip380)\" style=\"stroke:#000000; stroke-linecap:round; stroke-linejoin:round; stroke-width:4; stroke-opacity:1; fill:none\" points=\"224.098,144.549 242.996,144.549 \"/>\n",
       "<path clip-path=\"url(#clip380)\" d=\"M51.9875 1276.45 L81.6633 1276.45 L81.6633 1280.38 L51.9875 1280.38 L51.9875 1276.45 Z\" fill=\"#000000\" fill-rule=\"evenodd\" fill-opacity=\"1\" /><path clip-path=\"url(#clip380)\" d=\"M101.756 1261.8 Q98.1447 1261.8 96.316 1265.36 Q94.5104 1268.9 94.5104 1276.03 Q94.5104 1283.14 96.316 1286.7 Q98.1447 1290.25 101.756 1290.25 Q105.39 1290.25 107.196 1286.7 Q109.024 1283.14 109.024 1276.03 Q109.024 1268.9 107.196 1265.36 Q105.39 1261.8 101.756 1261.8 M101.756 1258.09 Q107.566 1258.09 110.621 1262.7 Q113.7 1267.28 113.7 1276.03 Q113.7 1284.76 110.621 1289.37 Q107.566 1293.95 101.756 1293.95 Q95.9456 1293.95 92.8669 1289.37 Q89.8114 1284.76 89.8114 1276.03 Q89.8114 1267.28 92.8669 1262.7 Q95.9456 1258.09 101.756 1258.09 Z\" fill=\"#000000\" fill-rule=\"evenodd\" fill-opacity=\"1\" /><path clip-path=\"url(#clip380)\" d=\"M121.918 1287.4 L126.802 1287.4 L126.802 1293.28 L121.918 1293.28 L121.918 1287.4 Z\" fill=\"#000000\" fill-rule=\"evenodd\" fill-opacity=\"1\" /><path clip-path=\"url(#clip380)\" d=\"M135.806 1258.72 L158.029 1258.72 L158.029 1260.71 L145.482 1293.28 L140.598 1293.28 L152.404 1262.65 L135.806 1262.65 L135.806 1258.72 Z\" fill=\"#000000\" fill-rule=\"evenodd\" fill-opacity=\"1\" /><path clip-path=\"url(#clip380)\" d=\"M167.195 1258.72 L185.552 1258.72 L185.552 1262.65 L171.478 1262.65 L171.478 1271.13 Q172.496 1270.78 173.515 1270.62 Q174.533 1270.43 175.552 1270.43 Q181.339 1270.43 184.718 1273.6 Q188.098 1276.77 188.098 1282.19 Q188.098 1287.77 184.626 1290.87 Q181.153 1293.95 174.834 1293.95 Q172.658 1293.95 170.39 1293.58 Q168.144 1293.21 165.737 1292.47 L165.737 1287.77 Q167.82 1288.9 170.042 1289.46 Q172.265 1290.01 174.741 1290.01 Q178.746 1290.01 181.084 1287.91 Q183.422 1285.8 183.422 1282.19 Q183.422 1278.58 181.084 1276.47 Q178.746 1274.37 174.741 1274.37 Q172.866 1274.37 170.991 1274.78 Q169.14 1275.2 167.195 1276.08 L167.195 1258.72 Z\" fill=\"#000000\" fill-rule=\"evenodd\" fill-opacity=\"1\" /><path clip-path=\"url(#clip380)\" d=\"M50.9921 1050.16 L80.6679 1050.16 L80.6679 1054.09 L50.9921 1054.09 L50.9921 1050.16 Z\" fill=\"#000000\" fill-rule=\"evenodd\" fill-opacity=\"1\" /><path clip-path=\"url(#clip380)\" d=\"M100.76 1035.51 Q97.1493 1035.51 95.3206 1039.07 Q93.515 1042.61 93.515 1049.74 Q93.515 1056.85 95.3206 1060.41 Q97.1493 1063.96 100.76 1063.96 Q104.395 1063.96 106.2 1060.41 Q108.029 1056.85 108.029 1049.74 Q108.029 1042.61 106.2 1039.07 Q104.395 1035.51 100.76 1035.51 M100.76 1031.8 Q106.571 1031.8 109.626 1036.41 Q112.705 1040.99 112.705 1049.74 Q112.705 1058.47 109.626 1063.08 Q106.571 1067.66 100.76 1067.66 Q94.9502 1067.66 91.8715 1063.08 Q88.816 1058.47 88.816 1049.74 Q88.816 1040.99 91.8715 1036.41 Q94.9502 1031.8 100.76 1031.8 Z\" fill=\"#000000\" fill-rule=\"evenodd\" fill-opacity=\"1\" /><path clip-path=\"url(#clip380)\" d=\"M120.922 1061.11 L125.807 1061.11 L125.807 1066.99 L120.922 1066.99 L120.922 1061.11 Z\" fill=\"#000000\" fill-rule=\"evenodd\" fill-opacity=\"1\" /><path clip-path=\"url(#clip380)\" d=\"M136.038 1032.43 L154.394 1032.43 L154.394 1036.36 L140.32 1036.36 L140.32 1044.84 Q141.339 1044.49 142.357 1044.33 Q143.376 1044.14 144.394 1044.14 Q150.181 1044.14 153.561 1047.31 Q156.941 1050.48 156.941 1055.9 Q156.941 1061.48 153.468 1064.58 Q149.996 1067.66 143.677 1067.66 Q141.501 1067.66 139.232 1067.29 Q136.987 1066.92 134.58 1066.18 L134.58 1061.48 Q136.663 1062.61 138.885 1063.17 Q141.107 1063.72 143.584 1063.72 Q147.589 1063.72 149.927 1061.62 Q152.265 1059.51 152.265 1055.9 Q152.265 1052.29 149.927 1050.18 Q147.589 1048.08 143.584 1048.08 Q141.709 1048.08 139.834 1048.49 Q137.982 1048.91 136.038 1049.79 L136.038 1032.43 Z\" fill=\"#000000\" fill-rule=\"evenodd\" fill-opacity=\"1\" /><path clip-path=\"url(#clip380)\" d=\"M176.153 1035.51 Q172.542 1035.51 170.714 1039.07 Q168.908 1042.61 168.908 1049.74 Q168.908 1056.85 170.714 1060.41 Q172.542 1063.96 176.153 1063.96 Q179.788 1063.96 181.593 1060.41 Q183.422 1056.85 183.422 1049.74 Q183.422 1042.61 181.593 1039.07 Q179.788 1035.51 176.153 1035.51 M176.153 1031.8 Q181.964 1031.8 185.019 1036.41 Q188.098 1040.99 188.098 1049.74 Q188.098 1058.47 185.019 1063.08 Q181.964 1067.66 176.153 1067.66 Q170.343 1067.66 167.265 1063.08 Q164.209 1058.47 164.209 1049.74 Q164.209 1040.99 167.265 1036.41 Q170.343 1031.8 176.153 1031.8 Z\" fill=\"#000000\" fill-rule=\"evenodd\" fill-opacity=\"1\" /><path clip-path=\"url(#clip380)\" d=\"M51.9875 823.87 L81.6633 823.87 L81.6633 827.805 L51.9875 827.805 L51.9875 823.87 Z\" fill=\"#000000\" fill-rule=\"evenodd\" fill-opacity=\"1\" /><path clip-path=\"url(#clip380)\" d=\"M101.756 809.217 Q98.1447 809.217 96.316 812.782 Q94.5104 816.324 94.5104 823.453 Q94.5104 830.56 96.316 834.124 Q98.1447 837.666 101.756 837.666 Q105.39 837.666 107.196 834.124 Q109.024 830.56 109.024 823.453 Q109.024 816.324 107.196 812.782 Q105.39 809.217 101.756 809.217 M101.756 805.513 Q107.566 805.513 110.621 810.12 Q113.7 814.703 113.7 823.453 Q113.7 832.18 110.621 836.786 Q107.566 841.37 101.756 841.37 Q95.9456 841.37 92.8669 836.786 Q89.8114 832.18 89.8114 823.453 Q89.8114 814.703 92.8669 810.12 Q95.9456 805.513 101.756 805.513 Z\" fill=\"#000000\" fill-rule=\"evenodd\" fill-opacity=\"1\" /><path clip-path=\"url(#clip380)\" d=\"M121.918 834.819 L126.802 834.819 L126.802 840.698 L121.918 840.698 L121.918 834.819 Z\" fill=\"#000000\" fill-rule=\"evenodd\" fill-opacity=\"1\" /><path clip-path=\"url(#clip380)\" d=\"M141.015 836.763 L157.334 836.763 L157.334 840.698 L135.39 840.698 L135.39 836.763 Q138.052 834.009 142.635 829.379 Q147.242 824.726 148.422 823.384 Q150.668 820.861 151.547 819.125 Q152.45 817.365 152.45 815.675 Q152.45 812.921 150.505 811.185 Q148.584 809.449 145.482 809.449 Q143.283 809.449 140.83 810.213 Q138.399 810.976 135.621 812.527 L135.621 807.805 Q138.445 806.671 140.899 806.092 Q143.353 805.513 145.39 805.513 Q150.76 805.513 153.955 808.199 Q157.149 810.884 157.149 815.375 Q157.149 817.504 156.339 819.425 Q155.552 821.324 153.445 823.916 Q152.867 824.587 149.765 827.805 Q146.663 830.999 141.015 836.763 Z\" fill=\"#000000\" fill-rule=\"evenodd\" fill-opacity=\"1\" /><path clip-path=\"url(#clip380)\" d=\"M167.195 806.138 L185.552 806.138 L185.552 810.074 L171.478 810.074 L171.478 818.546 Q172.496 818.199 173.515 818.037 Q174.533 817.851 175.552 817.851 Q181.339 817.851 184.718 821.023 Q188.098 824.194 188.098 829.611 Q188.098 835.189 184.626 838.291 Q181.153 841.37 174.834 841.37 Q172.658 841.37 170.39 840.999 Q168.144 840.629 165.737 839.888 L165.737 835.189 Q167.82 836.323 170.042 836.879 Q172.265 837.435 174.741 837.435 Q178.746 837.435 181.084 835.328 Q183.422 833.222 183.422 829.611 Q183.422 825.999 181.084 823.893 Q178.746 821.787 174.741 821.787 Q172.866 821.787 170.991 822.203 Q169.14 822.62 167.195 823.499 L167.195 806.138 Z\" fill=\"#000000\" fill-rule=\"evenodd\" fill-opacity=\"1\" /><path clip-path=\"url(#clip380)\" d=\"M100.76 582.927 Q97.1493 582.927 95.3206 586.492 Q93.515 590.034 93.515 597.163 Q93.515 604.27 95.3206 607.835 Q97.1493 611.376 100.76 611.376 Q104.395 611.376 106.2 607.835 Q108.029 604.27 108.029 597.163 Q108.029 590.034 106.2 586.492 Q104.395 582.927 100.76 582.927 M100.76 579.224 Q106.571 579.224 109.626 583.83 Q112.705 588.413 112.705 597.163 Q112.705 605.89 109.626 610.497 Q106.571 615.08 100.76 615.08 Q94.9502 615.08 91.8715 610.497 Q88.816 605.89 88.816 597.163 Q88.816 588.413 91.8715 583.83 Q94.9502 579.224 100.76 579.224 Z\" fill=\"#000000\" fill-rule=\"evenodd\" fill-opacity=\"1\" /><path clip-path=\"url(#clip380)\" d=\"M120.922 608.529 L125.807 608.529 L125.807 614.409 L120.922 614.409 L120.922 608.529 Z\" fill=\"#000000\" fill-rule=\"evenodd\" fill-opacity=\"1\" /><path clip-path=\"url(#clip380)\" d=\"M145.992 582.927 Q142.381 582.927 140.552 586.492 Q138.746 590.034 138.746 597.163 Q138.746 604.27 140.552 607.835 Q142.381 611.376 145.992 611.376 Q149.626 611.376 151.431 607.835 Q153.26 604.27 153.26 597.163 Q153.26 590.034 151.431 586.492 Q149.626 582.927 145.992 582.927 M145.992 579.224 Q151.802 579.224 154.857 583.83 Q157.936 588.413 157.936 597.163 Q157.936 605.89 154.857 610.497 Q151.802 615.08 145.992 615.08 Q140.181 615.08 137.103 610.497 Q134.047 605.89 134.047 597.163 Q134.047 588.413 137.103 583.83 Q140.181 579.224 145.992 579.224 Z\" fill=\"#000000\" fill-rule=\"evenodd\" fill-opacity=\"1\" /><path clip-path=\"url(#clip380)\" d=\"M176.153 582.927 Q172.542 582.927 170.714 586.492 Q168.908 590.034 168.908 597.163 Q168.908 604.27 170.714 607.835 Q172.542 611.376 176.153 611.376 Q179.788 611.376 181.593 607.835 Q183.422 604.27 183.422 597.163 Q183.422 590.034 181.593 586.492 Q179.788 582.927 176.153 582.927 M176.153 579.224 Q181.964 579.224 185.019 583.83 Q188.098 588.413 188.098 597.163 Q188.098 605.89 185.019 610.497 Q181.964 615.08 176.153 615.08 Q170.343 615.08 167.265 610.497 Q164.209 605.89 164.209 597.163 Q164.209 588.413 167.265 583.83 Q170.343 579.224 176.153 579.224 Z\" fill=\"#000000\" fill-rule=\"evenodd\" fill-opacity=\"1\" /><path clip-path=\"url(#clip380)\" d=\"M101.756 356.637 Q98.1447 356.637 96.316 360.202 Q94.5104 363.744 94.5104 370.873 Q94.5104 377.98 96.316 381.545 Q98.1447 385.086 101.756 385.086 Q105.39 385.086 107.196 381.545 Q109.024 377.98 109.024 370.873 Q109.024 363.744 107.196 360.202 Q105.39 356.637 101.756 356.637 M101.756 352.934 Q107.566 352.934 110.621 357.54 Q113.7 362.123 113.7 370.873 Q113.7 379.6 110.621 384.207 Q107.566 388.79 101.756 388.79 Q95.9456 388.79 92.8669 384.207 Q89.8114 379.6 89.8114 370.873 Q89.8114 362.123 92.8669 357.54 Q95.9456 352.934 101.756 352.934 Z\" fill=\"#000000\" fill-rule=\"evenodd\" fill-opacity=\"1\" /><path clip-path=\"url(#clip380)\" d=\"M121.918 382.239 L126.802 382.239 L126.802 388.119 L121.918 388.119 L121.918 382.239 Z\" fill=\"#000000\" fill-rule=\"evenodd\" fill-opacity=\"1\" /><path clip-path=\"url(#clip380)\" d=\"M141.015 384.183 L157.334 384.183 L157.334 388.119 L135.39 388.119 L135.39 384.183 Q138.052 381.429 142.635 376.799 Q147.242 372.147 148.422 370.804 Q150.668 368.281 151.547 366.545 Q152.45 364.785 152.45 363.096 Q152.45 360.341 150.505 358.605 Q148.584 356.869 145.482 356.869 Q143.283 356.869 140.83 357.633 Q138.399 358.397 135.621 359.948 L135.621 355.225 Q138.445 354.091 140.899 353.512 Q143.353 352.934 145.39 352.934 Q150.76 352.934 153.955 355.619 Q157.149 358.304 157.149 362.795 Q157.149 364.924 156.339 366.846 Q155.552 368.744 153.445 371.336 Q152.867 372.008 149.765 375.225 Q146.663 378.42 141.015 384.183 Z\" fill=\"#000000\" fill-rule=\"evenodd\" fill-opacity=\"1\" /><path clip-path=\"url(#clip380)\" d=\"M167.195 353.559 L185.552 353.559 L185.552 357.494 L171.478 357.494 L171.478 365.966 Q172.496 365.619 173.515 365.457 Q174.533 365.272 175.552 365.272 Q181.339 365.272 184.718 368.443 Q188.098 371.614 188.098 377.031 Q188.098 382.609 184.626 385.711 Q181.153 388.79 174.834 388.79 Q172.658 388.79 170.39 388.42 Q168.144 388.049 165.737 387.308 L165.737 382.609 Q167.82 383.744 170.042 384.299 Q172.265 384.855 174.741 384.855 Q178.746 384.855 181.084 382.748 Q183.422 380.642 183.422 377.031 Q183.422 373.42 181.084 371.313 Q178.746 369.207 174.741 369.207 Q172.866 369.207 170.991 369.623 Q169.14 370.04 167.195 370.92 L167.195 353.559 Z\" fill=\"#000000\" fill-rule=\"evenodd\" fill-opacity=\"1\" /><path clip-path=\"url(#clip380)\" d=\"M100.76 130.347 Q97.1493 130.347 95.3206 133.912 Q93.515 137.454 93.515 144.583 Q93.515 151.69 95.3206 155.255 Q97.1493 158.796 100.76 158.796 Q104.395 158.796 106.2 155.255 Q108.029 151.69 108.029 144.583 Q108.029 137.454 106.2 133.912 Q104.395 130.347 100.76 130.347 M100.76 126.644 Q106.571 126.644 109.626 131.25 Q112.705 135.834 112.705 144.583 Q112.705 153.31 109.626 157.917 Q106.571 162.5 100.76 162.5 Q94.9502 162.5 91.8715 157.917 Q88.816 153.31 88.816 144.583 Q88.816 135.834 91.8715 131.25 Q94.9502 126.644 100.76 126.644 Z\" fill=\"#000000\" fill-rule=\"evenodd\" fill-opacity=\"1\" /><path clip-path=\"url(#clip380)\" d=\"M120.922 155.949 L125.807 155.949 L125.807 161.829 L120.922 161.829 L120.922 155.949 Z\" fill=\"#000000\" fill-rule=\"evenodd\" fill-opacity=\"1\" /><path clip-path=\"url(#clip380)\" d=\"M136.038 127.269 L154.394 127.269 L154.394 131.204 L140.32 131.204 L140.32 139.676 Q141.339 139.329 142.357 139.167 Q143.376 138.982 144.394 138.982 Q150.181 138.982 153.561 142.153 Q156.941 145.324 156.941 150.741 Q156.941 156.32 153.468 159.421 Q149.996 162.5 143.677 162.5 Q141.501 162.5 139.232 162.13 Q136.987 161.759 134.58 161.019 L134.58 156.32 Q136.663 157.454 138.885 158.009 Q141.107 158.565 143.584 158.565 Q147.589 158.565 149.927 156.458 Q152.265 154.352 152.265 150.741 Q152.265 147.13 149.927 145.023 Q147.589 142.917 143.584 142.917 Q141.709 142.917 139.834 143.333 Q137.982 143.75 136.038 144.63 L136.038 127.269 Z\" fill=\"#000000\" fill-rule=\"evenodd\" fill-opacity=\"1\" /><path clip-path=\"url(#clip380)\" d=\"M176.153 130.347 Q172.542 130.347 170.714 133.912 Q168.908 137.454 168.908 144.583 Q168.908 151.69 170.714 155.255 Q172.542 158.796 176.153 158.796 Q179.788 158.796 181.593 155.255 Q183.422 151.69 183.422 144.583 Q183.422 137.454 181.593 133.912 Q179.788 130.347 176.153 130.347 M176.153 126.644 Q181.964 126.644 185.019 131.25 Q188.098 135.834 188.098 144.583 Q188.098 153.31 185.019 157.917 Q181.964 162.5 176.153 162.5 Q170.343 162.5 167.265 157.917 Q164.209 153.31 164.209 144.583 Q164.209 135.834 167.265 131.25 Q170.343 126.644 176.153 126.644 Z\" fill=\"#000000\" fill-rule=\"evenodd\" fill-opacity=\"1\" /><polyline clip-path=\"url(#clip382)\" style=\"stroke:#009af9; stroke-linecap:round; stroke-linejoin:round; stroke-width:4; stroke-opacity:1; fill:none\" points=\"284.343,1445.72 297.417,1436.88 418.308,1355.14 490.958,1306.02 552.383,1264.49 619.107,1219.38 680.621,1177.79 746.571,1133.2 822.98,1081.54 890.883,1035.63 950.429,995.37 1015.35,951.476 1080.65,907.322 1116.76,882.913 1152.86,858.505 1187.21,835.28 1221.56,812.056 1239.42,799.982 1257.28,787.908 1266.2,781.87 1275.13,775.833 1277.37,774.324 1279.6,772.815 1281.83,771.306 1284.06,769.796 1285.18,769.042 1286.3,768.287 1286.85,767.91 1287.41,767.533 1287.97,767.155 1288.53,1049.53 1289.09,1048.52 1289.64,1047.51 1290.2,1046.51 1290.76,1045.5 1291.88,1043.49 1292.99,1041.48 1296.75,1034.7 1300.51,1027.93 1304.27,1021.15 1308.02,1014.37 1315.54,1000.82 1323.06,987.271 1338.09,960.167 1353.12,933.064 1426.54,800.703 1493.79,679.453 1555.9,567.468 1618.82,454.032 1654.07,390.466 1689.33,326.901 1721.28,269.3 1753.22,211.7 1762.37,195.213 1771.51,178.726 1776.09,170.482 1780.66,162.238 1782.94,158.117 1785.23,153.995 1786.37,151.934 1787.52,149.873 1788.09,148.843 1788.66,147.812 1789.23,146.782 1789.8,145.751 1790.37,144.721 1790.94,427.089 1791.52,426.703 1792.09,426.316 1793.23,425.544 1794.37,424.771 1796.66,423.225 1798.95,421.679 1803.52,418.588 1808.09,415.497 1817.24,409.314 1826.38,403.131 1843.31,391.682 1860.25,380.233 1877.18,368.784 1894.12,357.334 1960.9,312.184 2025.73,268.347 2092.2,223.408 2165.02,174.172 2270.81,102.649 2292.51,87.9763 \"/>\n",
       "<path clip-path=\"url(#clip380)\" d=\"M295.053 198.898 L560.349 198.898 L560.349 95.2176 L295.053 95.2176  Z\" fill=\"#ffffff\" fill-rule=\"evenodd\" fill-opacity=\"1\"/>\n",
       "<polyline clip-path=\"url(#clip380)\" style=\"stroke:#000000; stroke-linecap:round; stroke-linejoin:round; stroke-width:4; stroke-opacity:1; fill:none\" points=\"295.053,198.898 560.349,198.898 560.349,95.2176 295.053,95.2176 295.053,198.898 \"/>\n",
       "<polyline clip-path=\"url(#clip380)\" style=\"stroke:#009af9; stroke-linecap:round; stroke-linejoin:round; stroke-width:4; stroke-opacity:1; fill:none\" points=\"318.705,147.058 460.615,147.058 \"/>\n",
       "<path clip-path=\"url(#clip380)\" d=\"M498.11 166.745 Q496.304 171.375 494.591 172.787 Q492.878 174.199 490.008 174.199 L486.605 174.199 L486.605 170.634 L489.105 170.634 Q490.864 170.634 491.837 169.8 Q492.809 168.967 493.989 165.865 L494.753 163.921 L484.267 138.412 L488.781 138.412 L496.883 158.689 L504.985 138.412 L509.499 138.412 L498.11 166.745 Z\" fill=\"#000000\" fill-rule=\"evenodd\" fill-opacity=\"1\" /><path clip-path=\"url(#clip380)\" d=\"M516.79 160.402 L524.429 160.402 L524.429 134.037 L516.119 135.703 L516.119 131.444 L524.383 129.778 L529.059 129.778 L529.059 160.402 L536.697 160.402 L536.697 164.338 L516.79 164.338 L516.79 160.402 Z\" fill=\"#000000\" fill-rule=\"evenodd\" fill-opacity=\"1\" /></svg>\n"
      ]
     },
     "execution_count": 192,
     "metadata": {},
     "output_type": "execute_result"
    }
   ],
   "source": [
    "bisection(f) = find_zero(f, (5, 7), Bisection(), tracks = tracker) \n",
    "\n",
    "function NewtonBaffler(x)\n",
    "    if x < 6.0\n",
    "        fx = 0.75 * ( x - 6.25 )\n",
    "    elseif x <= 6.50 \n",
    "        fx = 2.00 * ( x - 6.25 )\n",
    "    else\n",
    "        fx = 0.75 * ( x - 6.25 ) \n",
    "    end\n",
    "    return fx\n",
    "end\n",
    "\n",
    "xs = range(5.0, stop=7.0, step=0.00001)\n",
    "plot(NewtonBaffler, extrema(xs)...)"
   ]
  },
  {
   "cell_type": "code",
   "execution_count": 193,
   "metadata": {},
   "outputs": [
    {
     "name": "stdout",
     "output_type": "stream",
     "text": [
      "\u001b[1m3×5 DataFrame\u001b[0m\n",
      "\u001b[1m Row \u001b[0m│\u001b[1m Function      \u001b[0m\u001b[1m Method       \u001b[0m\u001b[1m Iterations \u001b[0m\u001b[1m Calls   \u001b[0m\u001b[1m Result \u001b[0m\n",
      "     │\u001b[90m Function      \u001b[0m\u001b[90m Function     \u001b[0m\u001b[90m Float64    \u001b[0m\u001b[90m Float64 \u001b[0m\u001b[90m String \u001b[0m\n",
      "─────┼──────────────────────────────────────────────────────────\n",
      "   1 │ NewtonBaffler  bisection          299.0    486.0  OK\n",
      "   2 │ NewtonBaffler  newtonMethod       300.0    488.0  OK\n",
      "   3 │ NewtonBaffler  steffenson         302.0    493.0  OK\n"
     ]
    }
   ],
   "source": [
    "df = DataFrame(Function=Function[],Method=Function[],Iterations=Float64[],Calls=Float64[], Result = String[])\n",
    "func = NewtonBaffler\n",
    "\n",
    "flag = \"OK\"\n",
    "res1 = bisection(func)\n",
    "if func(res1) != 0\n",
    "    println(\"Error ocured in\",func,\" \", bisection,\" with value: \", func(res1))\n",
    "    flag = \"ERROR\"\n",
    "end\n",
    "push!(df,(func,bisection,tracker.steps,tracker.fncalls, flag))\n",
    "\n",
    "flag = \"OK\"\n",
    "res2 = newtonMethod(func)\n",
    "if func(res2) != 0\n",
    "    println(\"Error ocured in\",func,\" \", newtonMethod,\" with value: \", func(res2))\n",
    "    flag = \"ERROR\"\n",
    "end\n",
    "push!(df,(func,newtonMethod,tracker.steps, tracker.fncalls, flag))\n",
    "\n",
    "flag = \"OK\"\n",
    "res3 = steffenson(func)\n",
    "if func(res3) != 0\n",
    "    println(\"Error ocured in\",func,\" \", steffenson,\" with value: \", func(res3))\n",
    "    flag = \"ERROR\"\n",
    "end\n",
    "push!(df,(func,steffenson,tracker.steps, tracker.fncalls, flag))\n",
    "\n",
    "println(df)"
   ]
  },
  {
   "attachments": {},
   "cell_type": "markdown",
   "metadata": {},
   "source": [
    "\n",
    "### 3. \n",
    "Dla każdej z wybranych metod zademonstrować i wyjaśnić po jednym  przykładzie, dla którego nie działają (można na podstawie p.1 lub wymyślić własny)(1 pkt)"
   ]
  },
  {
   "attachments": {},
   "cell_type": "markdown",
   "metadata": {},
   "source": [
    "Bisection Method\n",
    " - funkcja nie jest ciągła na podanym przedziale"
   ]
  },
  {
   "cell_type": "code",
   "execution_count": 194,
   "metadata": {},
   "outputs": [
    {
     "name": "stdout",
     "output_type": "stream",
     "text": [
      "func x/(x-2) - 1 | x:1.9999999999999998 f(x):-9.007199254740992e15\n"
     ]
    },
    {
     "data": {
      "image/svg+xml": [
       "<?xml version=\"1.0\" encoding=\"utf-8\"?>\n",
       "<svg xmlns=\"http://www.w3.org/2000/svg\" xmlns:xlink=\"http://www.w3.org/1999/xlink\" width=\"600\" height=\"400\" viewBox=\"0 0 2400 1600\">\n",
       "<defs>\n",
       "  <clipPath id=\"clip420\">\n",
       "    <rect x=\"0\" y=\"0\" width=\"2400\" height=\"1600\"/>\n",
       "  </clipPath>\n",
       "</defs>\n",
       "<path clip-path=\"url(#clip420)\" d=\"M0 1600 L2400 1600 L2400 0 L0 0  Z\" fill=\"#ffffff\" fill-rule=\"evenodd\" fill-opacity=\"1\"/>\n",
       "<defs>\n",
       "  <clipPath id=\"clip421\">\n",
       "    <rect x=\"480\" y=\"0\" width=\"1681\" height=\"1600\"/>\n",
       "  </clipPath>\n",
       "</defs>\n",
       "<path clip-path=\"url(#clip420)\" d=\"M178.867 1486.45 L2352.76 1486.45 L2352.76 47.2441 L178.867 47.2441  Z\" fill=\"#ffffff\" fill-rule=\"evenodd\" fill-opacity=\"1\"/>\n",
       "<defs>\n",
       "  <clipPath id=\"clip422\">\n",
       "    <rect x=\"178\" y=\"47\" width=\"2175\" height=\"1440\"/>\n",
       "  </clipPath>\n",
       "</defs>\n",
       "<polyline clip-path=\"url(#clip422)\" style=\"stroke:#000000; stroke-linecap:round; stroke-linejoin:round; stroke-width:2; stroke-opacity:0.1; fill:none\" points=\"445.476,1486.45 445.476,47.2441 \"/>\n",
       "<polyline clip-path=\"url(#clip422)\" style=\"stroke:#000000; stroke-linecap:round; stroke-linejoin:round; stroke-width:2; stroke-opacity:0.1; fill:none\" points=\"855.643,1486.45 855.643,47.2441 \"/>\n",
       "<polyline clip-path=\"url(#clip422)\" style=\"stroke:#000000; stroke-linecap:round; stroke-linejoin:round; stroke-width:2; stroke-opacity:0.1; fill:none\" points=\"1265.81,1486.45 1265.81,47.2441 \"/>\n",
       "<polyline clip-path=\"url(#clip422)\" style=\"stroke:#000000; stroke-linecap:round; stroke-linejoin:round; stroke-width:2; stroke-opacity:0.1; fill:none\" points=\"1675.98,1486.45 1675.98,47.2441 \"/>\n",
       "<polyline clip-path=\"url(#clip422)\" style=\"stroke:#000000; stroke-linecap:round; stroke-linejoin:round; stroke-width:2; stroke-opacity:0.1; fill:none\" points=\"2086.15,1486.45 2086.15,47.2441 \"/>\n",
       "<polyline clip-path=\"url(#clip420)\" style=\"stroke:#000000; stroke-linecap:round; stroke-linejoin:round; stroke-width:4; stroke-opacity:1; fill:none\" points=\"178.867,1486.45 2352.76,1486.45 \"/>\n",
       "<polyline clip-path=\"url(#clip420)\" style=\"stroke:#000000; stroke-linecap:round; stroke-linejoin:round; stroke-width:4; stroke-opacity:1; fill:none\" points=\"445.476,1486.45 445.476,1467.55 \"/>\n",
       "<polyline clip-path=\"url(#clip420)\" style=\"stroke:#000000; stroke-linecap:round; stroke-linejoin:round; stroke-width:4; stroke-opacity:1; fill:none\" points=\"855.643,1486.45 855.643,1467.55 \"/>\n",
       "<polyline clip-path=\"url(#clip420)\" style=\"stroke:#000000; stroke-linecap:round; stroke-linejoin:round; stroke-width:4; stroke-opacity:1; fill:none\" points=\"1265.81,1486.45 1265.81,1467.55 \"/>\n",
       "<polyline clip-path=\"url(#clip420)\" style=\"stroke:#000000; stroke-linecap:round; stroke-linejoin:round; stroke-width:4; stroke-opacity:1; fill:none\" points=\"1675.98,1486.45 1675.98,1467.55 \"/>\n",
       "<polyline clip-path=\"url(#clip420)\" style=\"stroke:#000000; stroke-linecap:round; stroke-linejoin:round; stroke-width:4; stroke-opacity:1; fill:none\" points=\"2086.15,1486.45 2086.15,1467.55 \"/>\n",
       "<path clip-path=\"url(#clip420)\" d=\"M414.376 1532.02 L444.052 1532.02 L444.052 1535.95 L414.376 1535.95 L414.376 1532.02 Z\" fill=\"#000000\" fill-rule=\"evenodd\" fill-opacity=\"1\" /><path clip-path=\"url(#clip420)\" d=\"M466.992 1518.36 L455.186 1536.81 L466.992 1536.81 L466.992 1518.36 M465.765 1514.29 L471.645 1514.29 L471.645 1536.81 L476.575 1536.81 L476.575 1540.7 L471.645 1540.7 L471.645 1548.85 L466.992 1548.85 L466.992 1540.7 L451.39 1540.7 L451.39 1536.19 L465.765 1514.29 Z\" fill=\"#000000\" fill-rule=\"evenodd\" fill-opacity=\"1\" /><path clip-path=\"url(#clip420)\" d=\"M825.586 1532.02 L855.262 1532.02 L855.262 1535.95 L825.586 1535.95 L825.586 1532.02 Z\" fill=\"#000000\" fill-rule=\"evenodd\" fill-opacity=\"1\" /><path clip-path=\"url(#clip420)\" d=\"M869.382 1544.91 L885.701 1544.91 L885.701 1548.85 L863.757 1548.85 L863.757 1544.91 Q866.419 1542.16 871.002 1537.53 Q875.609 1532.88 876.789 1531.53 Q879.035 1529.01 879.914 1527.27 Q880.817 1525.51 880.817 1523.82 Q880.817 1521.07 878.873 1519.33 Q876.951 1517.6 873.849 1517.6 Q871.65 1517.6 869.197 1518.36 Q866.766 1519.13 863.988 1520.68 L863.988 1515.95 Q866.812 1514.82 869.266 1514.24 Q871.72 1513.66 873.757 1513.66 Q879.127 1513.66 882.322 1516.35 Q885.516 1519.03 885.516 1523.52 Q885.516 1525.65 884.706 1527.57 Q883.919 1529.47 881.812 1532.07 Q881.234 1532.74 878.132 1535.95 Q875.03 1539.15 869.382 1544.91 Z\" fill=\"#000000\" fill-rule=\"evenodd\" fill-opacity=\"1\" /><path clip-path=\"url(#clip420)\" d=\"M1265.81 1517.37 Q1262.2 1517.37 1260.37 1520.93 Q1258.57 1524.47 1258.57 1531.6 Q1258.57 1538.71 1260.37 1542.27 Q1262.2 1545.82 1265.81 1545.82 Q1269.45 1545.82 1271.25 1542.27 Q1273.08 1538.71 1273.08 1531.6 Q1273.08 1524.47 1271.25 1520.93 Q1269.45 1517.37 1265.81 1517.37 M1265.81 1513.66 Q1271.62 1513.66 1274.68 1518.27 Q1277.76 1522.85 1277.76 1531.6 Q1277.76 1540.33 1274.68 1544.94 Q1271.62 1549.52 1265.81 1549.52 Q1260 1549.52 1256.92 1544.94 Q1253.87 1540.33 1253.87 1531.6 Q1253.87 1522.85 1256.92 1518.27 Q1260 1513.66 1265.81 1513.66 Z\" fill=\"#000000\" fill-rule=\"evenodd\" fill-opacity=\"1\" /><path clip-path=\"url(#clip420)\" d=\"M1670.63 1544.91 L1686.95 1544.91 L1686.95 1548.85 L1665.01 1548.85 L1665.01 1544.91 Q1667.67 1542.16 1672.25 1537.53 Q1676.86 1532.88 1678.04 1531.53 Q1680.28 1529.01 1681.16 1527.27 Q1682.07 1525.51 1682.07 1523.82 Q1682.07 1521.07 1680.12 1519.33 Q1678.2 1517.6 1675.1 1517.6 Q1672.9 1517.6 1670.45 1518.36 Q1668.02 1519.13 1665.24 1520.68 L1665.24 1515.95 Q1668.06 1514.82 1670.52 1514.24 Q1672.97 1513.66 1675.01 1513.66 Q1680.38 1513.66 1683.57 1516.35 Q1686.77 1519.03 1686.77 1523.52 Q1686.77 1525.65 1685.96 1527.57 Q1685.17 1529.47 1683.06 1532.07 Q1682.48 1532.74 1679.38 1535.95 Q1676.28 1539.15 1670.63 1544.91 Z\" fill=\"#000000\" fill-rule=\"evenodd\" fill-opacity=\"1\" /><path clip-path=\"url(#clip420)\" d=\"M2089.16 1518.36 L2077.35 1536.81 L2089.16 1536.81 L2089.16 1518.36 M2087.93 1514.29 L2093.81 1514.29 L2093.81 1536.81 L2098.74 1536.81 L2098.74 1540.7 L2093.81 1540.7 L2093.81 1548.85 L2089.16 1548.85 L2089.16 1540.7 L2073.55 1540.7 L2073.55 1536.19 L2087.93 1514.29 Z\" fill=\"#000000\" fill-rule=\"evenodd\" fill-opacity=\"1\" /><polyline clip-path=\"url(#clip422)\" style=\"stroke:#000000; stroke-linecap:round; stroke-linejoin:round; stroke-width:2; stroke-opacity:0.1; fill:none\" points=\"178.867,1486.45 2352.76,1486.45 \"/>\n",
       "<polyline clip-path=\"url(#clip422)\" style=\"stroke:#000000; stroke-linecap:round; stroke-linejoin:round; stroke-width:2; stroke-opacity:0.1; fill:none\" points=\"178.867,1126.65 2352.76,1126.65 \"/>\n",
       "<polyline clip-path=\"url(#clip422)\" style=\"stroke:#000000; stroke-linecap:round; stroke-linejoin:round; stroke-width:2; stroke-opacity:0.1; fill:none\" points=\"178.867,766.846 2352.76,766.846 \"/>\n",
       "<polyline clip-path=\"url(#clip422)\" style=\"stroke:#000000; stroke-linecap:round; stroke-linejoin:round; stroke-width:2; stroke-opacity:0.1; fill:none\" points=\"178.867,407.045 2352.76,407.045 \"/>\n",
       "<polyline clip-path=\"url(#clip422)\" style=\"stroke:#000000; stroke-linecap:round; stroke-linejoin:round; stroke-width:2; stroke-opacity:0.1; fill:none\" points=\"178.867,47.2441 2352.76,47.2441 \"/>\n",
       "<polyline clip-path=\"url(#clip420)\" style=\"stroke:#000000; stroke-linecap:round; stroke-linejoin:round; stroke-width:4; stroke-opacity:1; fill:none\" points=\"178.867,1486.45 178.867,47.2441 \"/>\n",
       "<polyline clip-path=\"url(#clip420)\" style=\"stroke:#000000; stroke-linecap:round; stroke-linejoin:round; stroke-width:4; stroke-opacity:1; fill:none\" points=\"178.867,1486.45 197.764,1486.45 \"/>\n",
       "<polyline clip-path=\"url(#clip420)\" style=\"stroke:#000000; stroke-linecap:round; stroke-linejoin:round; stroke-width:4; stroke-opacity:1; fill:none\" points=\"178.867,1126.65 197.764,1126.65 \"/>\n",
       "<polyline clip-path=\"url(#clip420)\" style=\"stroke:#000000; stroke-linecap:round; stroke-linejoin:round; stroke-width:4; stroke-opacity:1; fill:none\" points=\"178.867,766.846 197.764,766.846 \"/>\n",
       "<polyline clip-path=\"url(#clip420)\" style=\"stroke:#000000; stroke-linecap:round; stroke-linejoin:round; stroke-width:4; stroke-opacity:1; fill:none\" points=\"178.867,407.045 197.764,407.045 \"/>\n",
       "<polyline clip-path=\"url(#clip420)\" style=\"stroke:#000000; stroke-linecap:round; stroke-linejoin:round; stroke-width:4; stroke-opacity:1; fill:none\" points=\"178.867,47.2441 197.764,47.2441 \"/>\n",
       "<path clip-path=\"url(#clip420)\" d=\"M50.9921 1486.9 L80.6679 1486.9 L80.6679 1490.83 L50.9921 1490.83 L50.9921 1486.9 Z\" fill=\"#000000\" fill-rule=\"evenodd\" fill-opacity=\"1\" /><path clip-path=\"url(#clip420)\" d=\"M91.5706 1499.79 L99.2095 1499.79 L99.2095 1473.43 L90.8993 1475.09 L90.8993 1470.83 L99.1632 1469.17 L103.839 1469.17 L103.839 1499.79 L111.478 1499.79 L111.478 1503.73 L91.5706 1503.73 L91.5706 1499.79 Z\" fill=\"#000000\" fill-rule=\"evenodd\" fill-opacity=\"1\" /><path clip-path=\"url(#clip420)\" d=\"M130.922 1472.25 Q127.311 1472.25 125.482 1475.81 Q123.677 1479.35 123.677 1486.48 Q123.677 1493.59 125.482 1497.15 Q127.311 1500.7 130.922 1500.7 Q134.556 1500.7 136.362 1497.15 Q138.191 1493.59 138.191 1486.48 Q138.191 1479.35 136.362 1475.81 Q134.556 1472.25 130.922 1472.25 M130.922 1468.54 Q136.732 1468.54 139.788 1473.15 Q142.867 1477.73 142.867 1486.48 Q142.867 1495.21 139.788 1499.82 Q136.732 1504.4 130.922 1504.4 Q125.112 1504.4 122.033 1499.82 Q118.978 1495.21 118.978 1486.48 Q118.978 1477.73 122.033 1473.15 Q125.112 1468.54 130.922 1468.54 Z\" fill=\"#000000\" fill-rule=\"evenodd\" fill-opacity=\"1\" /><path clip-path=\"url(#clip420)\" d=\"M82.1494 1127.1 L111.825 1127.1 L111.825 1131.03 L82.1494 1131.03 L82.1494 1127.1 Z\" fill=\"#000000\" fill-rule=\"evenodd\" fill-opacity=\"1\" /><path clip-path=\"url(#clip420)\" d=\"M121.964 1109.37 L140.32 1109.37 L140.32 1113.3 L126.246 1113.3 L126.246 1121.77 Q127.265 1121.43 128.283 1121.27 Q129.302 1121.08 130.32 1121.08 Q136.107 1121.08 139.487 1124.25 Q142.867 1127.42 142.867 1132.84 Q142.867 1138.42 139.394 1141.52 Q135.922 1144.6 129.603 1144.6 Q127.427 1144.6 125.158 1144.23 Q122.913 1143.86 120.506 1143.12 L120.506 1138.42 Q122.589 1139.55 124.811 1140.11 Q127.033 1140.66 129.51 1140.66 Q133.515 1140.66 135.853 1138.56 Q138.191 1136.45 138.191 1132.84 Q138.191 1129.23 135.853 1127.12 Q133.515 1125.01 129.51 1125.01 Q127.635 1125.01 125.76 1125.43 Q123.908 1125.85 121.964 1126.73 L121.964 1109.37 Z\" fill=\"#000000\" fill-rule=\"evenodd\" fill-opacity=\"1\" /><path clip-path=\"url(#clip420)\" d=\"M130.922 752.645 Q127.311 752.645 125.482 756.209 Q123.677 759.751 123.677 766.881 Q123.677 773.987 125.482 777.552 Q127.311 781.094 130.922 781.094 Q134.556 781.094 136.362 777.552 Q138.191 773.987 138.191 766.881 Q138.191 759.751 136.362 756.209 Q134.556 752.645 130.922 752.645 M130.922 748.941 Q136.732 748.941 139.788 753.547 Q142.867 758.131 142.867 766.881 Q142.867 775.608 139.788 780.214 Q136.732 784.797 130.922 784.797 Q125.112 784.797 122.033 780.214 Q118.978 775.608 118.978 766.881 Q118.978 758.131 122.033 753.547 Q125.112 748.941 130.922 748.941 Z\" fill=\"#000000\" fill-rule=\"evenodd\" fill-opacity=\"1\" /><path clip-path=\"url(#clip420)\" d=\"M121.964 389.765 L140.32 389.765 L140.32 393.7 L126.246 393.7 L126.246 402.172 Q127.265 401.825 128.283 401.663 Q129.302 401.478 130.32 401.478 Q136.107 401.478 139.487 404.649 Q142.867 407.82 142.867 413.237 Q142.867 418.816 139.394 421.918 Q135.922 424.996 129.603 424.996 Q127.427 424.996 125.158 424.626 Q122.913 424.256 120.506 423.515 L120.506 418.816 Q122.589 419.95 124.811 420.506 Q127.033 421.061 129.51 421.061 Q133.515 421.061 135.853 418.955 Q138.191 416.848 138.191 413.237 Q138.191 409.626 135.853 407.52 Q133.515 405.413 129.51 405.413 Q127.635 405.413 125.76 405.83 Q123.908 406.246 121.964 407.126 L121.964 389.765 Z\" fill=\"#000000\" fill-rule=\"evenodd\" fill-opacity=\"1\" /><path clip-path=\"url(#clip420)\" d=\"M91.5706 60.5889 L99.2095 60.5889 L99.2095 34.2233 L90.8993 35.89 L90.8993 31.6308 L99.1632 29.9641 L103.839 29.9641 L103.839 60.5889 L111.478 60.5889 L111.478 64.5241 L91.5706 64.5241 L91.5706 60.5889 Z\" fill=\"#000000\" fill-rule=\"evenodd\" fill-opacity=\"1\" /><path clip-path=\"url(#clip420)\" d=\"M130.922 33.0428 Q127.311 33.0428 125.482 36.6076 Q123.677 40.1492 123.677 47.2788 Q123.677 54.3853 125.482 57.9501 Q127.311 61.4917 130.922 61.4917 Q134.556 61.4917 136.362 57.9501 Q138.191 54.3853 138.191 47.2788 Q138.191 40.1492 136.362 36.6076 Q134.556 33.0428 130.922 33.0428 M130.922 29.3391 Q136.732 29.3391 139.788 33.9456 Q142.867 38.5289 142.867 47.2788 Q142.867 56.0056 139.788 60.6121 Q136.732 65.1954 130.922 65.1954 Q125.112 65.1954 122.033 60.6121 Q118.978 56.0056 118.978 47.2788 Q118.978 38.5289 122.033 33.9456 Q125.112 29.3391 130.922 29.3391 Z\" fill=\"#000000\" fill-rule=\"evenodd\" fill-opacity=\"1\" /><polyline clip-path=\"url(#clip422)\" style=\"stroke:#009af9; stroke-linecap:round; stroke-linejoin:round; stroke-width:4; stroke-opacity:1; fill:none\" points=\"240.392,859.366 253.744,859.559 377.203,861.532 451.397,862.909 514.127,864.21 582.269,865.793 645.091,867.438 712.442,869.439 790.474,872.138 859.821,874.97 920.631,877.882 986.931,881.642 1053.62,886.232 1127.36,892.607 1197.52,900.496 1270.47,911.594 1331.88,924.584 1406.86,948.48 1475.54,986.058 1507.25,1013.74 1538.97,1054.23 1571.09,1120.22 1603.22,1244.47 1612.22,1301.75 1621.22,1377.85 1630.22,1483.9 1639.23,1641.89 1643.73,1753.95 1648.23,1902.37 1652.73,2108.24 1657.23,2412.94 1659.48,2627.62 1661.73,2910.12 1662.85,3087.69 1663.98,3298.56 1665.1,3553.07 1666.23,3866.33 1667.36,4261.33 1668.48,4774.87 1669.61,5469.72 1670.73,6462.5 1671.29,7137.67 1671.86,7997.09 1672.42,9128.08 1672.98,10683.5 1673.54,12957.5 1674.11,16597.6 1674.67,23363.3 1675.23,40309 1675.74,124850 1676.25,-107761 1676.76,-36925.6 1677.27,-22017.4 1677.78,-15548.3 1678.29,-11933.3 1678.8,-9625.02 1679.31,-8023.36 1679.82,-6846.94 1680.33,-5946.24 1680.84,-5234.51 1681.35,-4657.92 1682.37,-3780.77 1683.39,-3145.04 1684.41,-2663.11 1685.43,-2285.2 1686.45,-1980.91 1687.47,-1730.64 1689.51,-1343.28 1691.54,-1057.42 1693.58,-837.778 1695.62,-663.737 1697.66,-522.431 1699.7,-405.419 1703.78,-222.891 1707.86,-87.0661 1716.01,101.567 1724.17,226.347 1732.33,315.002 1740.48,381.237 1759.16,483.978 1777.84,549.041 1796.52,593.94 1815.2,626.792 1849.78,668.984 1884.37,697.17 1952.57,732.093 2018.78,752.706 2086.66,766.937 2161.03,777.956 2269.07,789.04 2291.23,790.833 \"/>\n",
       "<path clip-path=\"url(#clip420)\" d=\"M2010.47 198.898 L2280.29 198.898 L2280.29 95.2176 L2010.47 95.2176  Z\" fill=\"#ffffff\" fill-rule=\"evenodd\" fill-opacity=\"1\"/>\n",
       "<polyline clip-path=\"url(#clip420)\" style=\"stroke:#000000; stroke-linecap:round; stroke-linejoin:round; stroke-width:4; stroke-opacity:1; fill:none\" points=\"2010.47,198.898 2280.29,198.898 2280.29,95.2176 2010.47,95.2176 2010.47,198.898 \"/>\n",
       "<polyline clip-path=\"url(#clip420)\" style=\"stroke:#009af9; stroke-linecap:round; stroke-linejoin:round; stroke-width:4; stroke-opacity:1; fill:none\" points=\"2034.63,147.058 2179.55,147.058 \"/>\n",
       "<path clip-path=\"url(#clip420)\" d=\"M2217.55 166.745 Q2215.75 171.375 2214.03 172.787 Q2212.32 174.199 2209.45 174.199 L2206.05 174.199 L2206.05 170.634 L2208.55 170.634 Q2210.31 170.634 2211.28 169.8 Q2212.25 168.967 2213.43 165.865 L2214.19 163.921 L2203.71 138.412 L2208.22 138.412 L2216.32 158.689 L2224.43 138.412 L2228.94 138.412 L2217.55 166.745 Z\" fill=\"#000000\" fill-rule=\"evenodd\" fill-opacity=\"1\" /><path clip-path=\"url(#clip420)\" d=\"M2236.23 160.402 L2243.87 160.402 L2243.87 134.037 L2235.56 135.703 L2235.56 131.444 L2243.82 129.778 L2248.5 129.778 L2248.5 160.402 L2256.14 160.402 L2256.14 164.338 L2236.23 164.338 L2236.23 160.402 Z\" fill=\"#000000\" fill-rule=\"evenodd\" fill-opacity=\"1\" /></svg>\n"
      ]
     },
     "execution_count": 194,
     "metadata": {},
     "output_type": "execute_result"
    }
   ],
   "source": [
    "f(x) = x/(x-2) - 2\n",
    "res = find_zero(f,(1,2),Bisection())\n",
    "println(\"func x/(x-2) - 1 | x:\", res, \" f(x):\", f(res))\n",
    "plot(f, ylim = (-10,10))\n"
   ]
  },
  {
   "attachments": {},
   "cell_type": "markdown",
   "metadata": {},
   "source": [
    "Steffenson Method"
   ]
  },
  {
   "cell_type": "code",
   "execution_count": 195,
   "metadata": {},
   "outputs": [
    {
     "data": {
      "image/svg+xml": [
       "<?xml version=\"1.0\" encoding=\"utf-8\"?>\n",
       "<svg xmlns=\"http://www.w3.org/2000/svg\" xmlns:xlink=\"http://www.w3.org/1999/xlink\" width=\"600\" height=\"400\" viewBox=\"0 0 2400 1600\">\n",
       "<defs>\n",
       "  <clipPath id=\"clip460\">\n",
       "    <rect x=\"0\" y=\"0\" width=\"2400\" height=\"1600\"/>\n",
       "  </clipPath>\n",
       "</defs>\n",
       "<path clip-path=\"url(#clip460)\" d=\"M0 1600 L2400 1600 L2400 0 L0 0  Z\" fill=\"#ffffff\" fill-rule=\"evenodd\" fill-opacity=\"1\"/>\n",
       "<defs>\n",
       "  <clipPath id=\"clip461\">\n",
       "    <rect x=\"480\" y=\"0\" width=\"1681\" height=\"1600\"/>\n",
       "  </clipPath>\n",
       "</defs>\n",
       "<path clip-path=\"url(#clip460)\" d=\"M178.867 1486.45 L2352.76 1486.45 L2352.76 47.2441 L178.867 47.2441  Z\" fill=\"#ffffff\" fill-rule=\"evenodd\" fill-opacity=\"1\"/>\n",
       "<defs>\n",
       "  <clipPath id=\"clip462\">\n",
       "    <rect x=\"178\" y=\"47\" width=\"2175\" height=\"1440\"/>\n",
       "  </clipPath>\n",
       "</defs>\n",
       "<polyline clip-path=\"url(#clip462)\" style=\"stroke:#000000; stroke-linecap:round; stroke-linejoin:round; stroke-width:2; stroke-opacity:0.1; fill:none\" points=\"445.476,1486.45 445.476,47.2441 \"/>\n",
       "<polyline clip-path=\"url(#clip462)\" style=\"stroke:#000000; stroke-linecap:round; stroke-linejoin:round; stroke-width:2; stroke-opacity:0.1; fill:none\" points=\"855.643,1486.45 855.643,47.2441 \"/>\n",
       "<polyline clip-path=\"url(#clip462)\" style=\"stroke:#000000; stroke-linecap:round; stroke-linejoin:round; stroke-width:2; stroke-opacity:0.1; fill:none\" points=\"1265.81,1486.45 1265.81,47.2441 \"/>\n",
       "<polyline clip-path=\"url(#clip462)\" style=\"stroke:#000000; stroke-linecap:round; stroke-linejoin:round; stroke-width:2; stroke-opacity:0.1; fill:none\" points=\"1675.98,1486.45 1675.98,47.2441 \"/>\n",
       "<polyline clip-path=\"url(#clip462)\" style=\"stroke:#000000; stroke-linecap:round; stroke-linejoin:round; stroke-width:2; stroke-opacity:0.1; fill:none\" points=\"2086.15,1486.45 2086.15,47.2441 \"/>\n",
       "<polyline clip-path=\"url(#clip460)\" style=\"stroke:#000000; stroke-linecap:round; stroke-linejoin:round; stroke-width:4; stroke-opacity:1; fill:none\" points=\"178.867,1486.45 2352.76,1486.45 \"/>\n",
       "<polyline clip-path=\"url(#clip460)\" style=\"stroke:#000000; stroke-linecap:round; stroke-linejoin:round; stroke-width:4; stroke-opacity:1; fill:none\" points=\"445.476,1486.45 445.476,1467.55 \"/>\n",
       "<polyline clip-path=\"url(#clip460)\" style=\"stroke:#000000; stroke-linecap:round; stroke-linejoin:round; stroke-width:4; stroke-opacity:1; fill:none\" points=\"855.643,1486.45 855.643,1467.55 \"/>\n",
       "<polyline clip-path=\"url(#clip460)\" style=\"stroke:#000000; stroke-linecap:round; stroke-linejoin:round; stroke-width:4; stroke-opacity:1; fill:none\" points=\"1265.81,1486.45 1265.81,1467.55 \"/>\n",
       "<polyline clip-path=\"url(#clip460)\" style=\"stroke:#000000; stroke-linecap:round; stroke-linejoin:round; stroke-width:4; stroke-opacity:1; fill:none\" points=\"1675.98,1486.45 1675.98,1467.55 \"/>\n",
       "<polyline clip-path=\"url(#clip460)\" style=\"stroke:#000000; stroke-linecap:round; stroke-linejoin:round; stroke-width:4; stroke-opacity:1; fill:none\" points=\"2086.15,1486.45 2086.15,1467.55 \"/>\n",
       "<path clip-path=\"url(#clip460)\" d=\"M414.376 1532.02 L444.052 1532.02 L444.052 1535.95 L414.376 1535.95 L414.376 1532.02 Z\" fill=\"#000000\" fill-rule=\"evenodd\" fill-opacity=\"1\" /><path clip-path=\"url(#clip460)\" d=\"M466.992 1518.36 L455.186 1536.81 L466.992 1536.81 L466.992 1518.36 M465.765 1514.29 L471.645 1514.29 L471.645 1536.81 L476.575 1536.81 L476.575 1540.7 L471.645 1540.7 L471.645 1548.85 L466.992 1548.85 L466.992 1540.7 L451.39 1540.7 L451.39 1536.19 L465.765 1514.29 Z\" fill=\"#000000\" fill-rule=\"evenodd\" fill-opacity=\"1\" /><path clip-path=\"url(#clip460)\" d=\"M825.586 1532.02 L855.262 1532.02 L855.262 1535.95 L825.586 1535.95 L825.586 1532.02 Z\" fill=\"#000000\" fill-rule=\"evenodd\" fill-opacity=\"1\" /><path clip-path=\"url(#clip460)\" d=\"M869.382 1544.91 L885.701 1544.91 L885.701 1548.85 L863.757 1548.85 L863.757 1544.91 Q866.419 1542.16 871.002 1537.53 Q875.609 1532.88 876.789 1531.53 Q879.035 1529.01 879.914 1527.27 Q880.817 1525.51 880.817 1523.82 Q880.817 1521.07 878.873 1519.33 Q876.951 1517.6 873.849 1517.6 Q871.65 1517.6 869.197 1518.36 Q866.766 1519.13 863.988 1520.68 L863.988 1515.95 Q866.812 1514.82 869.266 1514.24 Q871.72 1513.66 873.757 1513.66 Q879.127 1513.66 882.322 1516.35 Q885.516 1519.03 885.516 1523.52 Q885.516 1525.65 884.706 1527.57 Q883.919 1529.47 881.812 1532.07 Q881.234 1532.74 878.132 1535.95 Q875.03 1539.15 869.382 1544.91 Z\" fill=\"#000000\" fill-rule=\"evenodd\" fill-opacity=\"1\" /><path clip-path=\"url(#clip460)\" d=\"M1265.81 1517.37 Q1262.2 1517.37 1260.37 1520.93 Q1258.57 1524.47 1258.57 1531.6 Q1258.57 1538.71 1260.37 1542.27 Q1262.2 1545.82 1265.81 1545.82 Q1269.45 1545.82 1271.25 1542.27 Q1273.08 1538.71 1273.08 1531.6 Q1273.08 1524.47 1271.25 1520.93 Q1269.45 1517.37 1265.81 1517.37 M1265.81 1513.66 Q1271.62 1513.66 1274.68 1518.27 Q1277.76 1522.85 1277.76 1531.6 Q1277.76 1540.33 1274.68 1544.94 Q1271.62 1549.52 1265.81 1549.52 Q1260 1549.52 1256.92 1544.94 Q1253.87 1540.33 1253.87 1531.6 Q1253.87 1522.85 1256.92 1518.27 Q1260 1513.66 1265.81 1513.66 Z\" fill=\"#000000\" fill-rule=\"evenodd\" fill-opacity=\"1\" /><path clip-path=\"url(#clip460)\" d=\"M1670.63 1544.91 L1686.95 1544.91 L1686.95 1548.85 L1665.01 1548.85 L1665.01 1544.91 Q1667.67 1542.16 1672.25 1537.53 Q1676.86 1532.88 1678.04 1531.53 Q1680.28 1529.01 1681.16 1527.27 Q1682.07 1525.51 1682.07 1523.82 Q1682.07 1521.07 1680.12 1519.33 Q1678.2 1517.6 1675.1 1517.6 Q1672.9 1517.6 1670.45 1518.36 Q1668.02 1519.13 1665.24 1520.68 L1665.24 1515.95 Q1668.06 1514.82 1670.52 1514.24 Q1672.97 1513.66 1675.01 1513.66 Q1680.38 1513.66 1683.57 1516.35 Q1686.77 1519.03 1686.77 1523.52 Q1686.77 1525.65 1685.96 1527.57 Q1685.17 1529.47 1683.06 1532.07 Q1682.48 1532.74 1679.38 1535.95 Q1676.28 1539.15 1670.63 1544.91 Z\" fill=\"#000000\" fill-rule=\"evenodd\" fill-opacity=\"1\" /><path clip-path=\"url(#clip460)\" d=\"M2089.16 1518.36 L2077.35 1536.81 L2089.16 1536.81 L2089.16 1518.36 M2087.93 1514.29 L2093.81 1514.29 L2093.81 1536.81 L2098.74 1536.81 L2098.74 1540.7 L2093.81 1540.7 L2093.81 1548.85 L2089.16 1548.85 L2089.16 1540.7 L2073.55 1540.7 L2073.55 1536.19 L2087.93 1514.29 Z\" fill=\"#000000\" fill-rule=\"evenodd\" fill-opacity=\"1\" /><polyline clip-path=\"url(#clip462)\" style=\"stroke:#000000; stroke-linecap:round; stroke-linejoin:round; stroke-width:2; stroke-opacity:0.1; fill:none\" points=\"178.867,1296.36 2352.76,1296.36 \"/>\n",
       "<polyline clip-path=\"url(#clip462)\" style=\"stroke:#000000; stroke-linecap:round; stroke-linejoin:round; stroke-width:2; stroke-opacity:0.1; fill:none\" points=\"178.867,956.93 2352.76,956.93 \"/>\n",
       "<polyline clip-path=\"url(#clip462)\" style=\"stroke:#000000; stroke-linecap:round; stroke-linejoin:round; stroke-width:2; stroke-opacity:0.1; fill:none\" points=\"178.867,617.495 2352.76,617.495 \"/>\n",
       "<polyline clip-path=\"url(#clip462)\" style=\"stroke:#000000; stroke-linecap:round; stroke-linejoin:round; stroke-width:2; stroke-opacity:0.1; fill:none\" points=\"178.867,278.06 2352.76,278.06 \"/>\n",
       "<polyline clip-path=\"url(#clip460)\" style=\"stroke:#000000; stroke-linecap:round; stroke-linejoin:round; stroke-width:4; stroke-opacity:1; fill:none\" points=\"178.867,1486.45 178.867,47.2441 \"/>\n",
       "<polyline clip-path=\"url(#clip460)\" style=\"stroke:#000000; stroke-linecap:round; stroke-linejoin:round; stroke-width:4; stroke-opacity:1; fill:none\" points=\"178.867,1296.36 197.764,1296.36 \"/>\n",
       "<polyline clip-path=\"url(#clip460)\" style=\"stroke:#000000; stroke-linecap:round; stroke-linejoin:round; stroke-width:4; stroke-opacity:1; fill:none\" points=\"178.867,956.93 197.764,956.93 \"/>\n",
       "<polyline clip-path=\"url(#clip460)\" style=\"stroke:#000000; stroke-linecap:round; stroke-linejoin:round; stroke-width:4; stroke-opacity:1; fill:none\" points=\"178.867,617.495 197.764,617.495 \"/>\n",
       "<polyline clip-path=\"url(#clip460)\" style=\"stroke:#000000; stroke-linecap:round; stroke-linejoin:round; stroke-width:4; stroke-opacity:1; fill:none\" points=\"178.867,278.06 197.764,278.06 \"/>\n",
       "<path clip-path=\"url(#clip460)\" d=\"M50.9921 1296.82 L80.6679 1296.82 L80.6679 1300.75 L50.9921 1300.75 L50.9921 1296.82 Z\" fill=\"#000000\" fill-rule=\"evenodd\" fill-opacity=\"1\" /><path clip-path=\"url(#clip460)\" d=\"M90.8067 1279.08 L109.163 1279.08 L109.163 1283.02 L95.0891 1283.02 L95.0891 1291.49 Q96.1076 1291.14 97.1261 1290.98 Q98.1447 1290.8 99.1632 1290.8 Q104.95 1290.8 108.33 1293.97 Q111.709 1297.14 111.709 1302.56 Q111.709 1308.14 108.237 1311.24 Q104.765 1314.32 98.4456 1314.32 Q96.2697 1314.32 94.0012 1313.95 Q91.7558 1313.57 89.3484 1312.83 L89.3484 1308.14 Q91.4317 1309.27 93.6539 1309.82 Q95.8761 1310.38 98.353 1310.38 Q102.358 1310.38 104.696 1308.27 Q107.033 1306.17 107.033 1302.56 Q107.033 1298.95 104.696 1296.84 Q102.358 1294.73 98.353 1294.73 Q96.478 1294.73 94.603 1295.15 Q92.7512 1295.57 90.8067 1296.45 L90.8067 1279.08 Z\" fill=\"#000000\" fill-rule=\"evenodd\" fill-opacity=\"1\" /><path clip-path=\"url(#clip460)\" d=\"M130.922 1282.16 Q127.311 1282.16 125.482 1285.73 Q123.677 1289.27 123.677 1296.4 Q123.677 1303.51 125.482 1307.07 Q127.311 1310.61 130.922 1310.61 Q134.556 1310.61 136.362 1307.07 Q138.191 1303.51 138.191 1296.4 Q138.191 1289.27 136.362 1285.73 Q134.556 1282.16 130.922 1282.16 M130.922 1278.46 Q136.732 1278.46 139.788 1283.07 Q142.867 1287.65 142.867 1296.4 Q142.867 1305.13 139.788 1309.73 Q136.732 1314.32 130.922 1314.32 Q125.112 1314.32 122.033 1309.73 Q118.978 1305.13 118.978 1296.4 Q118.978 1287.65 122.033 1283.07 Q125.112 1278.46 130.922 1278.46 Z\" fill=\"#000000\" fill-rule=\"evenodd\" fill-opacity=\"1\" /><path clip-path=\"url(#clip460)\" d=\"M130.922 942.728 Q127.311 942.728 125.482 946.293 Q123.677 949.835 123.677 956.964 Q123.677 964.071 125.482 967.635 Q127.311 971.177 130.922 971.177 Q134.556 971.177 136.362 967.635 Q138.191 964.071 138.191 956.964 Q138.191 949.835 136.362 946.293 Q134.556 942.728 130.922 942.728 M130.922 939.025 Q136.732 939.025 139.788 943.631 Q142.867 948.214 142.867 956.964 Q142.867 965.691 139.788 970.297 Q136.732 974.881 130.922 974.881 Q125.112 974.881 122.033 970.297 Q118.978 965.691 118.978 956.964 Q118.978 948.214 122.033 943.631 Q125.112 939.025 130.922 939.025 Z\" fill=\"#000000\" fill-rule=\"evenodd\" fill-opacity=\"1\" /><path clip-path=\"url(#clip460)\" d=\"M90.8067 600.215 L109.163 600.215 L109.163 604.15 L95.0891 604.15 L95.0891 612.622 Q96.1076 612.275 97.1261 612.113 Q98.1447 611.928 99.1632 611.928 Q104.95 611.928 108.33 615.099 Q111.709 618.27 111.709 623.687 Q111.709 629.265 108.237 632.367 Q104.765 635.446 98.4456 635.446 Q96.2697 635.446 94.0012 635.076 Q91.7558 634.705 89.3484 633.964 L89.3484 629.265 Q91.4317 630.4 93.6539 630.955 Q95.8761 631.511 98.353 631.511 Q102.358 631.511 104.696 629.404 Q107.033 627.298 107.033 623.687 Q107.033 620.076 104.696 617.969 Q102.358 615.863 98.353 615.863 Q96.478 615.863 94.603 616.279 Q92.7512 616.696 90.8067 617.576 L90.8067 600.215 Z\" fill=\"#000000\" fill-rule=\"evenodd\" fill-opacity=\"1\" /><path clip-path=\"url(#clip460)\" d=\"M130.922 603.293 Q127.311 603.293 125.482 606.858 Q123.677 610.4 123.677 617.529 Q123.677 624.636 125.482 628.201 Q127.311 631.742 130.922 631.742 Q134.556 631.742 136.362 628.201 Q138.191 624.636 138.191 617.529 Q138.191 610.4 136.362 606.858 Q134.556 603.293 130.922 603.293 M130.922 599.59 Q136.732 599.59 139.788 604.196 Q142.867 608.779 142.867 617.529 Q142.867 626.256 139.788 630.863 Q136.732 635.446 130.922 635.446 Q125.112 635.446 122.033 630.863 Q118.978 626.256 118.978 617.529 Q118.978 608.779 122.033 604.196 Q125.112 599.59 130.922 599.59 Z\" fill=\"#000000\" fill-rule=\"evenodd\" fill-opacity=\"1\" /><path clip-path=\"url(#clip460)\" d=\"M61.4087 291.405 L69.0476 291.405 L69.0476 265.039 L60.7374 266.706 L60.7374 262.446 L69.0013 260.78 L73.6772 260.78 L73.6772 291.405 L81.316 291.405 L81.316 295.34 L61.4087 295.34 L61.4087 291.405 Z\" fill=\"#000000\" fill-rule=\"evenodd\" fill-opacity=\"1\" /><path clip-path=\"url(#clip460)\" d=\"M100.76 263.858 Q97.1493 263.858 95.3206 267.423 Q93.515 270.965 93.515 278.095 Q93.515 285.201 95.3206 288.766 Q97.1493 292.307 100.76 292.307 Q104.395 292.307 106.2 288.766 Q108.029 285.201 108.029 278.095 Q108.029 270.965 106.2 267.423 Q104.395 263.858 100.76 263.858 M100.76 260.155 Q106.571 260.155 109.626 264.761 Q112.705 269.345 112.705 278.095 Q112.705 286.821 109.626 291.428 Q106.571 296.011 100.76 296.011 Q94.9502 296.011 91.8715 291.428 Q88.816 286.821 88.816 278.095 Q88.816 269.345 91.8715 264.761 Q94.9502 260.155 100.76 260.155 Z\" fill=\"#000000\" fill-rule=\"evenodd\" fill-opacity=\"1\" /><path clip-path=\"url(#clip460)\" d=\"M130.922 263.858 Q127.311 263.858 125.482 267.423 Q123.677 270.965 123.677 278.095 Q123.677 285.201 125.482 288.766 Q127.311 292.307 130.922 292.307 Q134.556 292.307 136.362 288.766 Q138.191 285.201 138.191 278.095 Q138.191 270.965 136.362 267.423 Q134.556 263.858 130.922 263.858 M130.922 260.155 Q136.732 260.155 139.788 264.761 Q142.867 269.345 142.867 278.095 Q142.867 286.821 139.788 291.428 Q136.732 296.011 130.922 296.011 Q125.112 296.011 122.033 291.428 Q118.978 286.821 118.978 278.095 Q118.978 269.345 122.033 264.761 Q125.112 260.155 130.922 260.155 Z\" fill=\"#000000\" fill-rule=\"evenodd\" fill-opacity=\"1\" /><polyline clip-path=\"url(#clip462)\" style=\"stroke:#009af9; stroke-linecap:round; stroke-linejoin:round; stroke-width:4; stroke-opacity:1; fill:none\" points=\"240.392,1445.72 243.73,1439.11 247.068,1432.56 250.406,1426.05 253.744,1419.6 284.609,1362.25 315.474,1309 330.906,1283.87 346.338,1259.72 361.771,1236.53 377.203,1214.27 395.752,1188.74 414.3,1164.52 432.849,1141.56 451.397,1119.85 482.762,1085.88 514.127,1055.22 531.163,1039.91 548.198,1025.52 565.234,1012.01 582.269,999.371 613.68,978.258 645.091,959.865 678.766,943 712.442,928.913 751.458,915.828 790.474,905.948 825.147,899.633 859.821,895.43 890.226,893.33 920.631,892.57 953.781,893.114 986.931,894.923 1020.28,897.844 1053.62,901.696 1127.36,912.644 1197.52,924.759 1270.47,937.331 1331.88,946.567 1369.37,951.098 1406.86,954.488 1441.2,956.381 1475.54,956.916 1507.25,956.038 1538.97,953.69 1571.09,949.656 1603.22,943.801 1639.23,934.882 1675.23,923.258 1707.86,910.204 1740.48,894.586 1759.16,884.426 1777.84,873.342 1796.52,861.301 1815.2,848.273 1832.49,835.304 1849.78,821.438 1867.08,806.651 1884.37,790.918 1901.42,774.457 1918.47,757.03 1935.52,738.614 1952.57,719.184 1969.12,699.328 1985.68,678.473 2002.23,656.598 2018.78,633.682 2035.75,609.087 2052.72,583.351 2069.69,556.453 2086.66,528.368 2105.26,496.209 2123.85,462.569 2142.44,427.416 2161.03,390.72 2188.04,334.604 2215.05,275.075 2242.06,212.041 2269.07,145.409 2274.61,131.286 2280.15,117.006 2285.69,102.57 2291.23,87.9763 \"/>\n",
       "<path clip-path=\"url(#clip460)\" d=\"M251.33 198.898 L521.149 198.898 L521.149 95.2176 L251.33 95.2176  Z\" fill=\"#ffffff\" fill-rule=\"evenodd\" fill-opacity=\"1\"/>\n",
       "<polyline clip-path=\"url(#clip460)\" style=\"stroke:#000000; stroke-linecap:round; stroke-linejoin:round; stroke-width:4; stroke-opacity:1; fill:none\" points=\"251.33,198.898 521.149,198.898 521.149,95.2176 251.33,95.2176 251.33,198.898 \"/>\n",
       "<polyline clip-path=\"url(#clip460)\" style=\"stroke:#009af9; stroke-linecap:round; stroke-linejoin:round; stroke-width:4; stroke-opacity:1; fill:none\" points=\"275.484,147.058 420.41,147.058 \"/>\n",
       "<path clip-path=\"url(#clip460)\" d=\"M458.407 166.745 Q456.601 171.375 454.888 172.787 Q453.175 174.199 450.305 174.199 L446.902 174.199 L446.902 170.634 L449.402 170.634 Q451.161 170.634 452.134 169.8 Q453.106 168.967 454.286 165.865 L455.05 163.921 L444.564 138.412 L449.078 138.412 L457.18 158.689 L465.282 138.412 L469.796 138.412 L458.407 166.745 Z\" fill=\"#000000\" fill-rule=\"evenodd\" fill-opacity=\"1\" /><path clip-path=\"url(#clip460)\" d=\"M477.087 160.402 L484.726 160.402 L484.726 134.037 L476.416 135.703 L476.416 131.444 L484.68 129.778 L489.356 129.778 L489.356 160.402 L496.994 160.402 L496.994 164.338 L477.087 164.338 L477.087 160.402 Z\" fill=\"#000000\" fill-rule=\"evenodd\" fill-opacity=\"1\" /></svg>\n"
      ]
     },
     "execution_count": 195,
     "metadata": {},
     "output_type": "execute_result"
    }
   ],
   "source": [
    "plot(f3)"
   ]
  },
  {
   "cell_type": "code",
   "execution_count": 196,
   "metadata": {},
   "outputs": [
    {
     "name": "stdout",
     "output_type": "stream",
     "text": [
      "func (x+3)*(x-1)^2 | x:0.9999999882918915 f(x):5.483192153677992e-16\n",
      "func (x+3)*(x-1)^2 | x:0.9999999893171166 f(x):4.564959859473074e-16\n"
     ]
    }
   ],
   "source": [
    "res = steffenson(f3)\n",
    "println(\"func (x+3)*(x-1)^2 | x:\", res, \" f(x):\", f3(res))\n",
    "res = newtonMethod(f3)\n",
    "println(\"func (x+3)*(x-1)^2 | x:\", res, \" f(x):\", f3(res))\n"
   ]
  },
  {
   "cell_type": "code",
   "execution_count": 197,
   "metadata": {},
   "outputs": [
    {
     "ename": "LoadError",
     "evalue": "ArgumentError: The interval [a,b] is not a bracketing interval.\nYou need f(a) and f(b) to have different signs (f(a) * f(b) < 0).\nConsider a different bracket or try fzero(f, c) with an initial guess c.\n\n",
     "output_type": "error",
     "traceback": [
      "ArgumentError: The interval [a,b] is not a bracketing interval.\nYou need f(a) and f(b) to have different signs (f(a) * f(b) < 0).\nConsider a different bracket or try fzero(f, c) with an initial guess c.\n\n",
      "",
      "Stacktrace:",
      " [1] assert_bracket",
      "   @ C:\\Users\\iwosz\\.julia\\packages\\Roots\\4RnyE\\src\\Bracketing\\bracketing.jl:52 [inlined]",
      " [2] #init_state#59",
      "   @ C:\\Users\\iwosz\\.julia\\packages\\Roots\\4RnyE\\src\\Bracketing\\bisection.jl:50 [inlined]",
      " [3] init_state(::Bisection, F::Roots.Callable_Function{Val{1}, Val{false}, typeof(f3), Nothing}, x₀::Float64, x₁::Float64, fx₀::Float64, fx₁::Float64)",
      "   @ Roots C:\\Users\\iwosz\\.julia\\packages\\Roots\\4RnyE\\src\\Bracketing\\bisection.jl:34",
      " [4] init_state",
      "   @ C:\\Users\\iwosz\\.julia\\packages\\Roots\\4RnyE\\src\\Bracketing\\bracketing.jl:6 [inlined]",
      " [5] init(𝑭𝑿::ZeroProblem{typeof(f3), Tuple{Int64, Int64}}, M::Bisection, p′::Nothing; p::Nothing, verbose::Bool, tracks::Roots.Tracks{Float64, Float64}, kwargs::Base.Pairs{Symbol, Union{}, Tuple{}, NamedTuple{(), Tuple{}}})",
      "   @ Roots C:\\Users\\iwosz\\.julia\\packages\\Roots\\4RnyE\\src\\find_zero.jl:299",
      " [6] #solve#46",
      "   @ C:\\Users\\iwosz\\.julia\\packages\\Roots\\4RnyE\\src\\find_zero.jl:491 [inlined]",
      " [7] find_zero(f::Function, x0::Tuple{Int64, Int64}, M::Bisection, p′::Nothing; p::Nothing, verbose::Bool, tracks::Roots.Tracks{Float64, Float64}, kwargs::Base.Pairs{Symbol, Union{}, Tuple{}, NamedTuple{(), Tuple{}}})",
      "   @ Roots C:\\Users\\iwosz\\.julia\\packages\\Roots\\4RnyE\\src\\find_zero.jl:220",
      " [8] bisection(f::Function)",
      "   @ Main .\\In[192]:1",
      " [9] top-level scope",
      "   @ In[197]:1"
     ]
    }
   ],
   "source": [
    "res = bisection(f3)\n",
    "println(\"func (x+3)*(x-1)^2 | x:\", res, \" f(x):\", f3(res))"
   ]
  },
  {
   "attachments": {},
   "cell_type": "markdown",
   "metadata": {},
   "source": [
    "Newton Method\n",
    "- niedokładność floata"
   ]
  },
  {
   "cell_type": "code",
   "execution_count": 198,
   "metadata": {},
   "outputs": [
    {
     "data": {
      "image/svg+xml": [
       "<?xml version=\"1.0\" encoding=\"utf-8\"?>\n",
       "<svg xmlns=\"http://www.w3.org/2000/svg\" xmlns:xlink=\"http://www.w3.org/1999/xlink\" width=\"600\" height=\"400\" viewBox=\"0 0 2400 1600\">\n",
       "<defs>\n",
       "  <clipPath id=\"clip500\">\n",
       "    <rect x=\"0\" y=\"0\" width=\"2400\" height=\"1600\"/>\n",
       "  </clipPath>\n",
       "</defs>\n",
       "<path clip-path=\"url(#clip500)\" d=\"M0 1600 L2400 1600 L2400 0 L0 0  Z\" fill=\"#ffffff\" fill-rule=\"evenodd\" fill-opacity=\"1\"/>\n",
       "<defs>\n",
       "  <clipPath id=\"clip501\">\n",
       "    <rect x=\"480\" y=\"0\" width=\"1681\" height=\"1600\"/>\n",
       "  </clipPath>\n",
       "</defs>\n",
       "<path clip-path=\"url(#clip500)\" d=\"M209.029 1486.45 L2352.76 1486.45 L2352.76 47.2441 L209.029 47.2441  Z\" fill=\"#ffffff\" fill-rule=\"evenodd\" fill-opacity=\"1\"/>\n",
       "<defs>\n",
       "  <clipPath id=\"clip502\">\n",
       "    <rect x=\"209\" y=\"47\" width=\"2145\" height=\"1440\"/>\n",
       "  </clipPath>\n",
       "</defs>\n",
       "<polyline clip-path=\"url(#clip502)\" style=\"stroke:#000000; stroke-linecap:round; stroke-linejoin:round; stroke-width:2; stroke-opacity:0.1; fill:none\" points=\"471.938,1486.45 471.938,47.2441 \"/>\n",
       "<polyline clip-path=\"url(#clip502)\" style=\"stroke:#000000; stroke-linecap:round; stroke-linejoin:round; stroke-width:2; stroke-opacity:0.1; fill:none\" points=\"876.415,1486.45 876.415,47.2441 \"/>\n",
       "<polyline clip-path=\"url(#clip502)\" style=\"stroke:#000000; stroke-linecap:round; stroke-linejoin:round; stroke-width:2; stroke-opacity:0.1; fill:none\" points=\"1280.89,1486.45 1280.89,47.2441 \"/>\n",
       "<polyline clip-path=\"url(#clip502)\" style=\"stroke:#000000; stroke-linecap:round; stroke-linejoin:round; stroke-width:2; stroke-opacity:0.1; fill:none\" points=\"1685.37,1486.45 1685.37,47.2441 \"/>\n",
       "<polyline clip-path=\"url(#clip502)\" style=\"stroke:#000000; stroke-linecap:round; stroke-linejoin:round; stroke-width:2; stroke-opacity:0.1; fill:none\" points=\"2089.85,1486.45 2089.85,47.2441 \"/>\n",
       "<polyline clip-path=\"url(#clip500)\" style=\"stroke:#000000; stroke-linecap:round; stroke-linejoin:round; stroke-width:4; stroke-opacity:1; fill:none\" points=\"209.029,1486.45 2352.76,1486.45 \"/>\n",
       "<polyline clip-path=\"url(#clip500)\" style=\"stroke:#000000; stroke-linecap:round; stroke-linejoin:round; stroke-width:4; stroke-opacity:1; fill:none\" points=\"471.938,1486.45 471.938,1467.55 \"/>\n",
       "<polyline clip-path=\"url(#clip500)\" style=\"stroke:#000000; stroke-linecap:round; stroke-linejoin:round; stroke-width:4; stroke-opacity:1; fill:none\" points=\"876.415,1486.45 876.415,1467.55 \"/>\n",
       "<polyline clip-path=\"url(#clip500)\" style=\"stroke:#000000; stroke-linecap:round; stroke-linejoin:round; stroke-width:4; stroke-opacity:1; fill:none\" points=\"1280.89,1486.45 1280.89,1467.55 \"/>\n",
       "<polyline clip-path=\"url(#clip500)\" style=\"stroke:#000000; stroke-linecap:round; stroke-linejoin:round; stroke-width:4; stroke-opacity:1; fill:none\" points=\"1685.37,1486.45 1685.37,1467.55 \"/>\n",
       "<polyline clip-path=\"url(#clip500)\" style=\"stroke:#000000; stroke-linecap:round; stroke-linejoin:round; stroke-width:4; stroke-opacity:1; fill:none\" points=\"2089.85,1486.45 2089.85,1467.55 \"/>\n",
       "<path clip-path=\"url(#clip500)\" d=\"M440.839 1532.02 L470.515 1532.02 L470.515 1535.95 L440.839 1535.95 L440.839 1532.02 Z\" fill=\"#000000\" fill-rule=\"evenodd\" fill-opacity=\"1\" /><path clip-path=\"url(#clip500)\" d=\"M493.455 1518.36 L481.649 1536.81 L493.455 1536.81 L493.455 1518.36 M492.228 1514.29 L498.107 1514.29 L498.107 1536.81 L503.038 1536.81 L503.038 1540.7 L498.107 1540.7 L498.107 1548.85 L493.455 1548.85 L493.455 1540.7 L477.853 1540.7 L477.853 1536.19 L492.228 1514.29 Z\" fill=\"#000000\" fill-rule=\"evenodd\" fill-opacity=\"1\" /><path clip-path=\"url(#clip500)\" d=\"M846.358 1532.02 L876.033 1532.02 L876.033 1535.95 L846.358 1535.95 L846.358 1532.02 Z\" fill=\"#000000\" fill-rule=\"evenodd\" fill-opacity=\"1\" /><path clip-path=\"url(#clip500)\" d=\"M890.154 1544.91 L906.473 1544.91 L906.473 1548.85 L884.529 1548.85 L884.529 1544.91 Q887.191 1542.16 891.774 1537.53 Q896.381 1532.88 897.561 1531.53 Q899.806 1529.01 900.686 1527.27 Q901.589 1525.51 901.589 1523.82 Q901.589 1521.07 899.644 1519.33 Q897.723 1517.6 894.621 1517.6 Q892.422 1517.6 889.969 1518.36 Q887.538 1519.13 884.76 1520.68 L884.76 1515.95 Q887.584 1514.82 890.038 1514.24 Q892.492 1513.66 894.529 1513.66 Q899.899 1513.66 903.093 1516.35 Q906.288 1519.03 906.288 1523.52 Q906.288 1525.65 905.478 1527.57 Q904.691 1529.47 902.584 1532.07 Q902.005 1532.74 898.904 1535.95 Q895.802 1539.15 890.154 1544.91 Z\" fill=\"#000000\" fill-rule=\"evenodd\" fill-opacity=\"1\" /><path clip-path=\"url(#clip500)\" d=\"M1280.89 1517.37 Q1277.28 1517.37 1275.45 1520.93 Q1273.65 1524.47 1273.65 1531.6 Q1273.65 1538.71 1275.45 1542.27 Q1277.28 1545.82 1280.89 1545.82 Q1284.53 1545.82 1286.33 1542.27 Q1288.16 1538.71 1288.16 1531.6 Q1288.16 1524.47 1286.33 1520.93 Q1284.53 1517.37 1280.89 1517.37 M1280.89 1513.66 Q1286.7 1513.66 1289.76 1518.27 Q1292.84 1522.85 1292.84 1531.6 Q1292.84 1540.33 1289.76 1544.94 Q1286.7 1549.52 1280.89 1549.52 Q1275.08 1549.52 1272 1544.94 Q1268.95 1540.33 1268.95 1531.6 Q1268.95 1522.85 1272 1518.27 Q1275.08 1513.66 1280.89 1513.66 Z\" fill=\"#000000\" fill-rule=\"evenodd\" fill-opacity=\"1\" /><path clip-path=\"url(#clip500)\" d=\"M1680.02 1544.91 L1696.34 1544.91 L1696.34 1548.85 L1674.4 1548.85 L1674.4 1544.91 Q1677.06 1542.16 1681.64 1537.53 Q1686.25 1532.88 1687.43 1531.53 Q1689.67 1529.01 1690.55 1527.27 Q1691.46 1525.51 1691.46 1523.82 Q1691.46 1521.07 1689.51 1519.33 Q1687.59 1517.6 1684.49 1517.6 Q1682.29 1517.6 1679.84 1518.36 Q1677.41 1519.13 1674.63 1520.68 L1674.63 1515.95 Q1677.45 1514.82 1679.91 1514.24 Q1682.36 1513.66 1684.4 1513.66 Q1689.77 1513.66 1692.96 1516.35 Q1696.16 1519.03 1696.16 1523.52 Q1696.16 1525.65 1695.35 1527.57 Q1694.56 1529.47 1692.45 1532.07 Q1691.87 1532.74 1688.77 1535.95 Q1685.67 1539.15 1680.02 1544.91 Z\" fill=\"#000000\" fill-rule=\"evenodd\" fill-opacity=\"1\" /><path clip-path=\"url(#clip500)\" d=\"M2092.86 1518.36 L2081.05 1536.81 L2092.86 1536.81 L2092.86 1518.36 M2091.63 1514.29 L2097.51 1514.29 L2097.51 1536.81 L2102.44 1536.81 L2102.44 1540.7 L2097.51 1540.7 L2097.51 1548.85 L2092.86 1548.85 L2092.86 1540.7 L2077.25 1540.7 L2077.25 1536.19 L2091.63 1514.29 Z\" fill=\"#000000\" fill-rule=\"evenodd\" fill-opacity=\"1\" /><polyline clip-path=\"url(#clip502)\" style=\"stroke:#000000; stroke-linecap:round; stroke-linejoin:round; stroke-width:2; stroke-opacity:0.1; fill:none\" points=\"209.029,1377.89 2352.76,1377.89 \"/>\n",
       "<polyline clip-path=\"url(#clip502)\" style=\"stroke:#000000; stroke-linecap:round; stroke-linejoin:round; stroke-width:2; stroke-opacity:0.1; fill:none\" points=\"209.029,974.773 2352.76,974.773 \"/>\n",
       "<polyline clip-path=\"url(#clip502)\" style=\"stroke:#000000; stroke-linecap:round; stroke-linejoin:round; stroke-width:2; stroke-opacity:0.1; fill:none\" points=\"209.029,571.659 2352.76,571.659 \"/>\n",
       "<polyline clip-path=\"url(#clip502)\" style=\"stroke:#000000; stroke-linecap:round; stroke-linejoin:round; stroke-width:2; stroke-opacity:0.1; fill:none\" points=\"209.029,168.545 2352.76,168.545 \"/>\n",
       "<polyline clip-path=\"url(#clip500)\" style=\"stroke:#000000; stroke-linecap:round; stroke-linejoin:round; stroke-width:4; stroke-opacity:1; fill:none\" points=\"209.029,1486.45 209.029,47.2441 \"/>\n",
       "<polyline clip-path=\"url(#clip500)\" style=\"stroke:#000000; stroke-linecap:round; stroke-linejoin:round; stroke-width:4; stroke-opacity:1; fill:none\" points=\"209.029,1377.89 227.926,1377.89 \"/>\n",
       "<polyline clip-path=\"url(#clip500)\" style=\"stroke:#000000; stroke-linecap:round; stroke-linejoin:round; stroke-width:4; stroke-opacity:1; fill:none\" points=\"209.029,974.773 227.926,974.773 \"/>\n",
       "<polyline clip-path=\"url(#clip500)\" style=\"stroke:#000000; stroke-linecap:round; stroke-linejoin:round; stroke-width:4; stroke-opacity:1; fill:none\" points=\"209.029,571.659 227.926,571.659 \"/>\n",
       "<polyline clip-path=\"url(#clip500)\" style=\"stroke:#000000; stroke-linecap:round; stroke-linejoin:round; stroke-width:4; stroke-opacity:1; fill:none\" points=\"209.029,168.545 227.926,168.545 \"/>\n",
       "<path clip-path=\"url(#clip500)\" d=\"M50.9921 1378.34 L80.6679 1378.34 L80.6679 1382.27 L50.9921 1382.27 L50.9921 1378.34 Z\" fill=\"#000000\" fill-rule=\"evenodd\" fill-opacity=\"1\" /><path clip-path=\"url(#clip500)\" d=\"M91.5706 1391.23 L99.2095 1391.23 L99.2095 1364.87 L90.8993 1366.53 L90.8993 1362.27 L99.1632 1360.61 L103.839 1360.61 L103.839 1391.23 L111.478 1391.23 L111.478 1395.17 L91.5706 1395.17 L91.5706 1391.23 Z\" fill=\"#000000\" fill-rule=\"evenodd\" fill-opacity=\"1\" /><path clip-path=\"url(#clip500)\" d=\"M120.969 1360.61 L139.325 1360.61 L139.325 1364.54 L125.251 1364.54 L125.251 1373.01 Q126.27 1372.67 127.288 1372.5 Q128.307 1372.32 129.325 1372.32 Q135.112 1372.32 138.492 1375.49 Q141.871 1378.66 141.871 1384.08 Q141.871 1389.66 138.399 1392.76 Q134.927 1395.84 128.607 1395.84 Q126.432 1395.84 124.163 1395.47 Q121.918 1395.1 119.51 1394.36 L119.51 1389.66 Q121.594 1390.79 123.816 1391.35 Q126.038 1391.9 128.515 1391.9 Q132.519 1391.9 134.857 1389.8 Q137.195 1387.69 137.195 1384.08 Q137.195 1380.47 134.857 1378.36 Q132.519 1376.25 128.515 1376.25 Q126.64 1376.25 124.765 1376.67 Q122.913 1377.09 120.969 1377.97 L120.969 1360.61 Z\" fill=\"#000000\" fill-rule=\"evenodd\" fill-opacity=\"1\" /><path clip-path=\"url(#clip500)\" d=\"M161.084 1363.69 Q157.473 1363.69 155.644 1367.25 Q153.839 1370.79 153.839 1377.92 Q153.839 1385.03 155.644 1388.59 Q157.473 1392.13 161.084 1392.13 Q164.718 1392.13 166.524 1388.59 Q168.353 1385.03 168.353 1377.92 Q168.353 1370.79 166.524 1367.25 Q164.718 1363.69 161.084 1363.69 M161.084 1359.98 Q166.894 1359.98 169.95 1364.59 Q173.029 1369.17 173.029 1377.92 Q173.029 1386.65 169.95 1391.25 Q166.894 1395.84 161.084 1395.84 Q155.274 1395.84 152.195 1391.25 Q149.14 1386.65 149.14 1377.92 Q149.14 1369.17 152.195 1364.59 Q155.274 1359.98 161.084 1359.98 Z\" fill=\"#000000\" fill-rule=\"evenodd\" fill-opacity=\"1\" /><path clip-path=\"url(#clip500)\" d=\"M50.9921 975.224 L80.6679 975.224 L80.6679 979.159 L50.9921 979.159 L50.9921 975.224 Z\" fill=\"#000000\" fill-rule=\"evenodd\" fill-opacity=\"1\" /><path clip-path=\"url(#clip500)\" d=\"M91.5706 988.117 L99.2095 988.117 L99.2095 961.752 L90.8993 963.418 L90.8993 959.159 L99.1632 957.493 L103.839 957.493 L103.839 988.117 L111.478 988.117 L111.478 992.053 L91.5706 992.053 L91.5706 988.117 Z\" fill=\"#000000\" fill-rule=\"evenodd\" fill-opacity=\"1\" /><path clip-path=\"url(#clip500)\" d=\"M130.922 960.571 Q127.311 960.571 125.482 964.136 Q123.677 967.678 123.677 974.807 Q123.677 981.914 125.482 985.479 Q127.311 989.02 130.922 989.02 Q134.556 989.02 136.362 985.479 Q138.191 981.914 138.191 974.807 Q138.191 967.678 136.362 964.136 Q134.556 960.571 130.922 960.571 M130.922 956.868 Q136.732 956.868 139.788 961.474 Q142.867 966.057 142.867 974.807 Q142.867 983.534 139.788 988.141 Q136.732 992.724 130.922 992.724 Q125.112 992.724 122.033 988.141 Q118.978 983.534 118.978 974.807 Q118.978 966.057 122.033 961.474 Q125.112 956.868 130.922 956.868 Z\" fill=\"#000000\" fill-rule=\"evenodd\" fill-opacity=\"1\" /><path clip-path=\"url(#clip500)\" d=\"M161.084 960.571 Q157.473 960.571 155.644 964.136 Q153.839 967.678 153.839 974.807 Q153.839 981.914 155.644 985.479 Q157.473 989.02 161.084 989.02 Q164.718 989.02 166.524 985.479 Q168.353 981.914 168.353 974.807 Q168.353 967.678 166.524 964.136 Q164.718 960.571 161.084 960.571 M161.084 956.868 Q166.894 956.868 169.95 961.474 Q173.029 966.057 173.029 974.807 Q173.029 983.534 169.95 988.141 Q166.894 992.724 161.084 992.724 Q155.274 992.724 152.195 988.141 Q149.14 983.534 149.14 974.807 Q149.14 966.057 152.195 961.474 Q155.274 956.868 161.084 956.868 Z\" fill=\"#000000\" fill-rule=\"evenodd\" fill-opacity=\"1\" /><path clip-path=\"url(#clip500)\" d=\"M81.154 572.11 L110.83 572.11 L110.83 576.045 L81.154 576.045 L81.154 572.11 Z\" fill=\"#000000\" fill-rule=\"evenodd\" fill-opacity=\"1\" /><path clip-path=\"url(#clip500)\" d=\"M120.969 554.379 L139.325 554.379 L139.325 558.314 L125.251 558.314 L125.251 566.786 Q126.27 566.439 127.288 566.277 Q128.307 566.092 129.325 566.092 Q135.112 566.092 138.492 569.263 Q141.871 572.434 141.871 577.851 Q141.871 583.429 138.399 586.531 Q134.927 589.61 128.607 589.61 Q126.432 589.61 124.163 589.24 Q121.918 588.869 119.51 588.128 L119.51 583.429 Q121.594 584.564 123.816 585.119 Q126.038 585.675 128.515 585.675 Q132.519 585.675 134.857 583.568 Q137.195 581.462 137.195 577.851 Q137.195 574.24 134.857 572.133 Q132.519 570.027 128.515 570.027 Q126.64 570.027 124.765 570.443 Q122.913 570.86 120.969 571.74 L120.969 554.379 Z\" fill=\"#000000\" fill-rule=\"evenodd\" fill-opacity=\"1\" /><path clip-path=\"url(#clip500)\" d=\"M161.084 557.457 Q157.473 557.457 155.644 561.022 Q153.839 564.564 153.839 571.693 Q153.839 578.8 155.644 582.365 Q157.473 585.906 161.084 585.906 Q164.718 585.906 166.524 582.365 Q168.353 578.8 168.353 571.693 Q168.353 564.564 166.524 561.022 Q164.718 557.457 161.084 557.457 M161.084 553.754 Q166.894 553.754 169.95 558.36 Q173.029 562.943 173.029 571.693 Q173.029 580.42 169.95 585.027 Q166.894 589.61 161.084 589.61 Q155.274 589.61 152.195 585.027 Q149.14 580.42 149.14 571.693 Q149.14 562.943 152.195 558.36 Q155.274 553.754 161.084 553.754 Z\" fill=\"#000000\" fill-rule=\"evenodd\" fill-opacity=\"1\" /><path clip-path=\"url(#clip500)\" d=\"M161.084 154.343 Q157.473 154.343 155.644 157.908 Q153.839 161.45 153.839 168.579 Q153.839 175.686 155.644 179.251 Q157.473 182.792 161.084 182.792 Q164.718 182.792 166.524 179.251 Q168.353 175.686 168.353 168.579 Q168.353 161.45 166.524 157.908 Q164.718 154.343 161.084 154.343 M161.084 150.64 Q166.894 150.64 169.95 155.246 Q173.029 159.83 173.029 168.579 Q173.029 177.306 169.95 181.913 Q166.894 186.496 161.084 186.496 Q155.274 186.496 152.195 181.913 Q149.14 177.306 149.14 168.579 Q149.14 159.83 152.195 155.246 Q155.274 150.64 161.084 150.64 Z\" fill=\"#000000\" fill-rule=\"evenodd\" fill-opacity=\"1\" /><polyline clip-path=\"url(#clip502)\" style=\"stroke:#009af9; stroke-linecap:round; stroke-linejoin:round; stroke-width:4; stroke-opacity:1; fill:none\" points=\"269.7,1445.72 272.992,1426.14 276.283,1406.87 279.575,1387.91 282.867,1369.25 290.476,1327.24 298.085,1286.76 305.694,1247.76 313.303,1210.17 320.913,1173.95 328.522,1139.05 336.131,1105.41 343.74,1072.99 351.349,1041.74 358.958,1011.63 366.567,982.607 374.177,954.632 381.786,927.668 389.395,901.677 397.004,876.624 404.613,852.473 413.759,824.594 422.904,797.915 432.05,772.383 441.195,747.948 450.341,724.561 459.487,702.175 468.632,680.748 477.778,660.235 493.243,627.519 508.707,597.12 524.172,568.869 539.637,542.606 556.436,516.161 573.236,491.718 590.035,469.115 606.834,448.208 622.322,430.318 637.809,413.656 653.296,398.131 668.784,383.66 685.388,369.227 701.992,355.828 718.596,343.38 735.2,331.809 754.438,319.409 773.675,307.994 792.913,297.477 812.15,287.774 846.342,272.315 880.534,258.837 910.518,248.403 940.501,239.078 1005.88,221.879 1071.65,207.916 1144.36,195.266 1213.55,185.162 1285.49,176.059 1346.05,169.192 1419.98,161.508 1487.71,154.955 1550.26,149.196 1613.62,143.572 1684.63,137.45 1748.98,132.021 1822.65,125.903 1890.87,120.306 1958.12,114.832 2023.42,109.548 2090.36,104.153 2163.69,98.2611 2270.23,89.7251 2292.08,87.9763 \"/>\n",
       "<path clip-path=\"url(#clip500)\" d=\"M2014.5 1438.47 L2281.3 1438.47 L2281.3 1334.79 L2014.5 1334.79  Z\" fill=\"#ffffff\" fill-rule=\"evenodd\" fill-opacity=\"1\"/>\n",
       "<polyline clip-path=\"url(#clip500)\" style=\"stroke:#000000; stroke-linecap:round; stroke-linejoin:round; stroke-width:4; stroke-opacity:1; fill:none\" points=\"2014.5,1438.47 2281.3,1438.47 2281.3,1334.79 2014.5,1334.79 2014.5,1438.47 \"/>\n",
       "<polyline clip-path=\"url(#clip500)\" style=\"stroke:#009af9; stroke-linecap:round; stroke-linejoin:round; stroke-width:4; stroke-opacity:1; fill:none\" points=\"2038.31,1386.63 2181.23,1386.63 \"/>\n",
       "<path clip-path=\"url(#clip500)\" d=\"M2218.89 1406.32 Q2217.09 1410.95 2215.37 1412.36 Q2213.66 1413.78 2210.79 1413.78 L2207.39 1413.78 L2207.39 1410.21 L2209.89 1410.21 Q2211.65 1410.21 2212.62 1409.38 Q2213.59 1408.54 2214.77 1405.44 L2215.53 1403.5 L2205.05 1377.99 L2209.56 1377.99 L2217.66 1398.27 L2225.77 1377.99 L2230.28 1377.99 L2218.89 1406.32 Z\" fill=\"#000000\" fill-rule=\"evenodd\" fill-opacity=\"1\" /><path clip-path=\"url(#clip500)\" d=\"M2237.57 1399.98 L2245.21 1399.98 L2245.21 1373.61 L2236.9 1375.28 L2236.9 1371.02 L2245.16 1369.35 L2249.84 1369.35 L2249.84 1399.98 L2257.48 1399.98 L2257.48 1403.91 L2237.57 1403.91 L2237.57 1399.98 Z\" fill=\"#000000\" fill-rule=\"evenodd\" fill-opacity=\"1\" /></svg>\n"
      ]
     },
     "execution_count": 198,
     "metadata": {},
     "output_type": "execute_result"
    }
   ],
   "source": [
    "plot(f6)"
   ]
  },
  {
   "cell_type": "code",
   "execution_count": 199,
   "metadata": {},
   "outputs": [
    {
     "name": "stdout",
     "output_type": "stream",
     "text": [
      "func 2*x-exp(-x) | x:0.3517337112491958 f(x):-1.1102230246251565e-16\n"
     ]
    }
   ],
   "source": [
    "res = newtonMethod(f6)\n",
    "println(\"func 2*x-exp(-x) | x:\", res, \" f(x):\", f6(res))"
   ]
  },
  {
   "attachments": {},
   "cell_type": "markdown",
   "metadata": {},
   "source": [
    "## ZAD B\n",
    "Narysować <a href=\"https://pl.wikipedia.org/wiki/Wst%C4%99ga_Newtona\"> wstegę Newtona </a> i objaśnić, w jaki sposób powstała i jaki jest jej związek z metodą Newtona do znajdowania pierwiastków. Sposób i język - dowolny. (1 pkt)"
   ]
  }
 ],
 "metadata": {
  "kernelspec": {
   "display_name": "Julia 1.8.5",
   "language": "julia",
   "name": "julia-1.8"
  },
  "language_info": {
   "file_extension": ".jl",
   "mimetype": "application/julia",
   "name": "julia",
   "version": "1.8.5"
  },
  "orig_nbformat": 4
 },
 "nbformat": 4,
 "nbformat_minor": 2
}
