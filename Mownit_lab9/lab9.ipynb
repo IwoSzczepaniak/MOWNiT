{
 "cells": [
  {
   "cell_type": "code",
   "execution_count": 12,
   "metadata": {},
   "outputs": [],
   "source": [
    "using LinearAlgebra"
   ]
  },
  {
   "attachments": {},
   "cell_type": "markdown",
   "metadata": {},
   "source": [
    "#### Zadanie 1 (1pkt)\n",
    "Ustal losowe (referencyjne) x rozmiaru 1000 oraz losowe A rozmiaru 1000x1000, policz b=A*x.\n",
    "Nastepnie rozwiąż równanie Ax=b trzema metodami:\n",
    "- inv()\n",
    "- \\\n",
    "- factorize()\n",
    "\n",
    "Porównaj jakość wyniku (zmierzoną jako długość różnicy wektorów wyniku oraz referencyjnego x) oraz czas wykonania (@time). UWAGA: pierwsze wykonanie funkcji w Julii zawiera czas kompilacji tej funkcji, dlatego czas mierzymy  od drugiego wywołania !"
   ]
  },
  {
   "cell_type": "code",
   "execution_count": 13,
   "metadata": {},
   "outputs": [],
   "source": [
    "n = 1000\n",
    "x=rand(n)\n",
    "A=rand(n, n)\n",
    "b = A*x;"
   ]
  },
  {
   "cell_type": "code",
   "execution_count": 14,
   "metadata": {},
   "outputs": [],
   "source": [
    "x_inv = inv(A)*b;\n"
   ]
  },
  {
   "cell_type": "code",
   "execution_count": 15,
   "metadata": {},
   "outputs": [],
   "source": [
    "x_lu = A\\b;"
   ]
  },
  {
   "cell_type": "code",
   "execution_count": 16,
   "metadata": {},
   "outputs": [],
   "source": [
    "A_fac = factorize(A)\n",
    "x_fac = A\\b;"
   ]
  },
  {
   "cell_type": "code",
   "execution_count": 23,
   "metadata": {},
   "outputs": [
    {
     "name": "stdout",
     "output_type": "stream",
     "text": [
      "Error of inv: 1.731387827346171e-11\n",
      "Error of backslash: 7.643142147542573e-12\n",
      "Error of factorization: 7.643142147542573e-12\n"
     ]
    }
   ],
   "source": [
    "# calculate distances\n",
    "dist_inv = norm(x - x_inv)\n",
    "dist_lu = norm(x - x_lu)\n",
    "dist_fac = norm(x- x_fac)\n",
    "\n",
    "println(\"Error of inv: \", dist_inv)\n",
    "println(\"Error of backslash: \", dist_lu)\n",
    "println(\"Error of factorization: \", dist_fac)"
   ]
  },
  {
   "attachments": {},
   "cell_type": "markdown",
   "metadata": {},
   "source": [
    "#### Zadanie 2 (1pkt)\n",
    "Policz współczynniki wielomianu aproksymującego dowolne dane z poprzednich laboratoriów tworząc wprost układ równań i rozwiązujac go (metoda z użyciem faktoryzacji QR zaprezentowana na tym laboratorium).\n",
    "Porównaj wyniki z tymi otrzymanymi poprzednio."
   ]
  },
  {
   "cell_type": "code",
   "execution_count": null,
   "metadata": {},
   "outputs": [],
   "source": []
  }
 ],
 "metadata": {
  "kernelspec": {
   "display_name": "Julia 1.8.5",
   "language": "julia",
   "name": "julia-1.8"
  },
  "language_info": {
   "file_extension": ".jl",
   "mimetype": "application/julia",
   "name": "julia",
   "version": "1.8.5"
  },
  "orig_nbformat": 4
 },
 "nbformat": 4,
 "nbformat_minor": 2
}
