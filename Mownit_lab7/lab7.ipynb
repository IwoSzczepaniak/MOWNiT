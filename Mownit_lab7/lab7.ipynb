{
 "cells": [
  {
   "attachments": {},
   "cell_type": "markdown",
   "metadata": {},
   "source": [
    "## Zadanie 1 (1p)\n",
    "- Korzytając z pakietu <a href=\"https://github.com/JuliaMath/Polynomials.jl\">Polynomials</a> zaimplementuj wielomiany Legendre'a zdefiniowane w taki sposób:\n",
    "\n",
    "$P_{0}(x)=1$\n",
    "\n",
    "$P_{1}(x)=x$\n",
    "\n",
    "$P_{k+1}(x)=\\frac{2k+1}{k+1} x P_{k}(x)-\\frac{k}{k+1}P_{k-1}(x)$\n",
    "\n",
    "- narysuj ich wykresy w przedziale (-1,1). \n",
    "- sprawdź(np. za pomocą fukcji <i>roots</i> z pakietu Polynomials), że ich zera  sa odciętymi punktów Gaussa. Test wykonaj dla wielomianow od 2 do 4 stopnia\n",
    "- podaj związek tego faktu z podstawowym twierdzeniem kwadratur Gaussa (z wykładu)"
   ]
  },
  {
   "cell_type": "code",
   "execution_count": null,
   "metadata": {},
   "outputs": [],
   "source": []
  },
  {
   "attachments": {},
   "cell_type": "markdown",
   "metadata": {},
   "source": [
    "### Zadanie 2 (1p)\n",
    "- Napisz funkcję, która dla podanej liczby punktów Gaussa $k$ oraz funkcji $f$  policzy $\\int_{-1}^{1} f dx$\n",
    "metodą używającą funkcji:\n",
    "```julia\n",
    "gauss(k)\n",
    "```\n",
    "oraz sumy \n",
    "```julia\n",
    "sum(a .* f.(xp)) \n",
    "```\n",
    "- przetestuj dla wielomianów coraz większych stopni\n",
    "- sprawdz kiedy przestaje być dokładna, \n",
    "- podaj związek z twierdzeniem o  stopniu dokładności kwadratury Gaussa "
   ]
  }
 ],
 "metadata": {
  "kernelspec": {
   "display_name": "Julia 1.8.5",
   "language": "julia",
   "name": "julia-1.8"
  },
  "language_info": {
   "name": "julia"
  },
  "orig_nbformat": 4
 },
 "nbformat": 4,
 "nbformat_minor": 2
}
