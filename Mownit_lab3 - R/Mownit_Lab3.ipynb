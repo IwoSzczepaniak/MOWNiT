{
 "cells": [
  {
   "cell_type": "markdown",
   "metadata": {},
   "source": [
    "# Język R\n",
    "## Postawowe informacje\n",
    "Język programowania oraz implementujący go system R jest środowiskiem do statystycznej analizy danych. Umożliwia pracę interaktywną i skryptową.\n",
    " \n",
    "Instalacja na Ubuntu:\n",
    "\n",
    "```apt-get install r-base```\n",
    "\n",
    "Jak dodać kernel R do Jupitera:\n",
    "\n",
    "https://datatofish.com/r-tutorials/\n",
    "\n",
    "Linki:\n",
    " - Strona główna projektu R: http://www.r-project.org/\n",
    " - Quick R: http://www.statmethods.net/\n",
    " - RStudio: https://www.rstudio.com/\n",
    " - R for Data Science: https://r4ds.had.co.nz/\n",
    " - R Packages (zaawansowana): https://r-pkgs.org/\n",
    " - ggplot2: https://ggplot2-book.org/\n",
    "\n",
    "## Interaktywna praca z systemem\n",
    "\n",
    "Jest kilka możliwości:\n",
    "\n",
    " - Uruchamiamy RStudio, które zawiera zintegrowane środowisko do analizy danych w języku R\n",
    " - Można też uruchomić konsolę R bezpośrednio poleceniem R\n",
    " - W Jupyter tworzymy nowy notatnik z kernelem R"
   ]
  },
  {
   "cell_type": "markdown",
   "metadata": {},
   "source": [
    "### Instalacja pakietów"
   ]
  },
  {
   "cell_type": "markdown",
   "metadata": {},
   "source": [
    "`tidyverse` to zbiór kilku użytecznych pakietów, m.in. `dplyr` i `ggplot`. Więcej na https://www.tidyverse.org/packages/\n",
    "\n",
    "Na  https://jupyter.lab.ii.agh.edu.pl/ pakiet jest już zainstalowany."
   ]
  },
  {
   "cell_type": "code",
   "execution_count": 7,
   "metadata": {
    "vscode": {
     "languageId": "r"
    }
   },
   "outputs": [
    {
     "name": "stderr",
     "output_type": "stream",
     "text": [
      "Warning message:\n",
      "\"pakiet 'tidyverse' jest w użyciu i nie zostanie zainstalowany\"\n"
     ]
    }
   ],
   "source": [
    "install.packages('tidyverse')\n",
    "#albo dla Anacondy anaconda.org/r/r-tidyverse\n",
    "#w terminalu conda install -c r r-tidyverse "
   ]
  },
  {
   "cell_type": "code",
   "execution_count": 8,
   "metadata": {
    "vscode": {
     "languageId": "r"
    }
   },
   "outputs": [],
   "source": [
    "# pokazuje też ewentualne \"przykrycia\"\n",
    "library(\"tidyverse\")"
   ]
  },
  {
   "cell_type": "markdown",
   "metadata": {},
   "source": [
    "### R"
   ]
  },
  {
   "cell_type": "markdown",
   "metadata": {},
   "source": [
    "Wbudowana pomoc:"
   ]
  },
  {
   "cell_type": "code",
   "execution_count": 9,
   "metadata": {
    "vscode": {
     "languageId": "r"
    }
   },
   "outputs": [
    {
     "name": "stdout",
     "output_type": "stream",
     "text": [
      "help                   package:utils                   R Documentation\n",
      "\n",
      "_\bD_\bo_\bc_\bu_\bm_\be_\bn_\bt_\ba_\bt_\bi_\bo_\bn\n",
      "\n",
      "_\bD_\be_\bs_\bc_\br_\bi_\bp_\bt_\bi_\bo_\bn:\n",
      "\n",
      "     'help' is the primary interface to the help systems.\n",
      "\n",
      "_\bU_\bs_\ba_\bg_\be:\n",
      "\n",
      "     help(topic, package = NULL, lib.loc = NULL,\n",
      "          verbose = getOption(\"verbose\"),\n",
      "          try.all.packages = getOption(\"help.try.all.packages\"),\n",
      "          help_type = getOption(\"help_type\"))\n",
      "     \n",
      "_\bA_\br_\bg_\bu_\bm_\be_\bn_\bt_\bs:\n",
      "\n",
      "   topic: usually, a name or character string specifying the topic for\n",
      "          which help is sought.  A character string (enclosed in\n",
      "          explicit single or double quotes) is always taken as naming a\n",
      "          topic.\n",
      "\n",
      "          If the value of 'topic' is a length-one character vector the\n",
      "          topic is taken to be the value of the only element.\n",
      "          Otherwise 'topic' must be a name or a reserved word (if\n",
      "          syntactically valid) or character string.\n",
      "\n",
      "          See 'Details' for what happens if this is omitted.\n",
      "\n",
      " package: a name or character vector giving the packages to look into\n",
      "          for documentation, or 'NULL'.  By default, all packages whose\n",
      "          namespaces are loaded are used.  To avoid a name being\n",
      "          deparsed use e.g.  '(pkg_ref)' (see the examples).\n",
      "\n",
      " lib.loc: a character vector of directory names of R libraries, or\n",
      "          'NULL'.  The default value of 'NULL' corresponds to all\n",
      "          libraries currently known.  If the default is used, the\n",
      "          loaded packages are searched before the libraries.  This is\n",
      "          not used for HTML help (see 'Details').\n",
      "\n",
      " verbose: logical; if 'TRUE', the file name is reported.\n",
      "\n",
      "try.all.packages: logical; see 'Note'.\n",
      "\n",
      "help_type: character string: the type of help required.  Possible\n",
      "          values are '\"text\"', '\"html\"' and '\"pdf\"'.  Case is ignored,\n",
      "          and partial matching is allowed.\n",
      "\n",
      "_\bD_\be_\bt_\ba_\bi_\bl_\bs:\n",
      "\n",
      "     The following types of help are available:\n",
      "\n",
      "        * Plain text help\n",
      "\n",
      "        * HTML help pages with hyperlinks to other topics, shown in a\n",
      "          browser by 'browseURL'.\n",
      "\n",
      "          (On Unix-alikes, where possible an existing browser window is\n",
      "          re-used: the macOS GUI uses its own browser window.)\n",
      "\n",
      "          If for some reason HTML help is unavailable (see\n",
      "          'startDynamicHelp'), plain text help will be used instead.\n",
      "\n",
      "        * For 'help' only, typeset as PDF - see the section on 'Offline\n",
      "          help'.\n",
      "\n",
      "     On Unix-alikes: The 'factory-fresh' default is text help except\n",
      "          from the macOS GUI, which uses HTML help displayed in its own\n",
      "          browser window.\n",
      "\n",
      "     On Windows: The default for the type of help is selected when R is\n",
      "          installed - the 'factory-fresh' default is HTML help.\n",
      "\n",
      "     The rendering of text help will use directional quotes in suitable\n",
      "     locales (UTF-8 and single-byte Windows locales): sometimes the\n",
      "     fonts used do not support these quotes so this can be turned off\n",
      "     by setting 'options(useFancyQuotes = FALSE)'.\n",
      "\n",
      "     'topic' is not optional: if it is omitted R will give\n",
      "\n",
      "        * If a package is specified, (text or, in interactive use only,\n",
      "          HTML) information on the package, including hints/links to\n",
      "          suitable help topics.\n",
      "\n",
      "        * If 'lib.loc' only is specified, a (text) list of available\n",
      "          packages.\n",
      "\n",
      "        * Help on 'help' itself if none of the first three arguments is\n",
      "          specified.\n",
      "\n",
      "     Some topics need to be quoted (by backticks) or given as a\n",
      "     character string.  These include those which cannot syntactically\n",
      "     appear on their own such as unary and binary operators, 'function'\n",
      "     and control-flow reserved words (including 'if', 'else' 'for',\n",
      "     'in', 'repeat', 'while', 'break' and 'next').  The other\n",
      "     'reserved' words can be used as if they were names, for example\n",
      "     'TRUE', 'NA' and 'Inf'.\n",
      "\n",
      "     If multiple help files matching 'topic' are found, in interactive\n",
      "     use a menu is presented for the user to choose one: in batch use\n",
      "     the first on the search path is used.  (For HTML help the menu\n",
      "     will be an HTML page, otherwise a graphical menu if possible if\n",
      "     'getOption(\"menu.graphics\")' is true, the default.)\n",
      "\n",
      "     Note that HTML help does not make use of 'lib.loc': it will always\n",
      "     look first in the loaded packages and then along '.libPaths()'.\n",
      "\n",
      "_\bO_\bf_\bf_\bl_\bi_\bn_\be _\bh_\be_\bl_\bp:\n",
      "\n",
      "     Typeset documentation is produced by running the LaTeX version of\n",
      "     the help page through 'pdflatex': this will produce a PDF file.\n",
      "\n",
      "     The appearance of the output can be customized through a file\n",
      "     'Rhelp.cfg' somewhere in your LaTeX search path: this will be\n",
      "     input as a LaTeX style file after 'Rd.sty'.  Some environment\n",
      "     variables are consulted, notably 'R_PAPERSIZE' (_via_\n",
      "     'getOption(\"papersize\")') and 'R_RD4PDF' (see 'Making manuals' in\n",
      "     the 'R Installation and Administration' manual).\n",
      "\n",
      "     If there is a function 'offline_help_helper' in the workspace or\n",
      "     further down the search path it is used to do the typesetting,\n",
      "     otherwise the function of that name in the 'utils' namespace (to\n",
      "     which the first paragraph applies).  It should accept at least two\n",
      "     arguments, the name of the LaTeX file to be typeset and the type\n",
      "     (which is nowadays ignored).  It accepts a third argument,\n",
      "     'texinputs', which will give the graphics path when the help\n",
      "     document contains figures, and will otherwise not be supplied.\n",
      "\n",
      "_\bN_\bo_\bt_\be:\n",
      "\n",
      "     Unless 'lib.loc' is specified explicitly, the loaded packages are\n",
      "     searched before those in the specified libraries.  This ensures\n",
      "     that if a library is loaded from a library not in the known\n",
      "     library trees, then the help from the loaded library is used.  If\n",
      "     'lib.loc' is specified explicitly, the loaded packages are _not_\n",
      "     searched.\n",
      "\n",
      "     If this search fails and argument 'try.all.packages' is 'TRUE' and\n",
      "     neither 'packages' nor 'lib.loc' is specified, then all the\n",
      "     packages in the known library trees are searched for help on\n",
      "     'topic' and a list of (any) packages where help may be found is\n",
      "     displayed (with hyperlinks for 'help_type = \"html\"').  *NB:*\n",
      "     searching all packages can be slow, especially the first time\n",
      "     (caching of files by the OS can expedite subsequent searches\n",
      "     dramatically).\n",
      "\n",
      "_\bR_\be_\bf_\be_\br_\be_\bn_\bc_\be_\bs:\n",
      "\n",
      "     Becker, R. A., Chambers, J. M. and Wilks, A. R. (1988) _The New S\n",
      "     Language_.  Wadsworth & Brooks/Cole.\n",
      "\n",
      "_\bS_\be_\be _\bA_\bl_\bs_\bo:\n",
      "\n",
      "     '?' for shortcuts to help topics.\n",
      "\n",
      "     'help.search()' or '??' for finding help pages on a vague topic;\n",
      "     'help.start()' which opens the HTML version of the R help pages;\n",
      "     'library()' for listing available packages and the help objects\n",
      "     they contain; 'data()' for listing available data sets;\n",
      "     'methods()'.\n",
      "\n",
      "     Use 'prompt()' to get a prototype for writing 'help' pages of your\n",
      "     own package.\n",
      "\n",
      "_\bE_\bx_\ba_\bm_\bp_\bl_\be_\bs:\n",
      "\n",
      "     help()\n",
      "     help(help)              # the same\n",
      "     \n",
      "     help(lapply)\n",
      "     \n",
      "     help(\"for\")             # or ?\"for\", but quotes/backticks are needed\n",
      "     \n",
      "     try({# requires working TeX installation:\n",
      "      help(dgamma, help_type = \"pdf\")\n",
      "      ## -> nicely formatted pdf -- including math formula -- for help(dgamma):\n",
      "      system2(getOption(\"pdfviewer\"), \"dgamma.pdf\", wait = FALSE)\n",
      "     })\n",
      "     \n",
      "     help(package = \"splines\") # get help even when package is not loaded\n",
      "     \n",
      "     topi <- \"women\"\n",
      "     help(topi)\n",
      "     \n",
      "     try(help(\"bs\", try.all.packages = FALSE)) # reports not found (an error)\n",
      "     help(\"bs\", try.all.packages = TRUE)       # reports can be found\n",
      "                                               # in package 'splines'\n",
      "     \n",
      "     ## For programmatic use:\n",
      "     topic <- \"family\"; pkg_ref <- \"stats\"\n",
      "     help((topic), (pkg_ref))\n",
      "     "
     ]
    }
   ],
   "source": [
    "help()"
   ]
  },
  {
   "cell_type": "code",
   "execution_count": 10,
   "metadata": {
    "vscode": {
     "languageId": "r"
    }
   },
   "outputs": [
    {
     "name": "stdout",
     "output_type": "stream",
     "text": [
      "plot                   package:base                    R Documentation\n",
      "\n",
      "_\bG_\be_\bn_\be_\br_\bi_\bc _\bX-_\bY _\bP_\bl_\bo_\bt_\bt_\bi_\bn_\bg\n",
      "\n",
      "_\bD_\be_\bs_\bc_\br_\bi_\bp_\bt_\bi_\bo_\bn:\n",
      "\n",
      "     Generic function for plotting of R objects.\n",
      "\n",
      "     For simple scatter plots, 'plot.default' will be used.  However,\n",
      "     there are 'plot' methods for many R objects, including\n",
      "     'function's, 'data.frame's, 'density' objects, etc.  Use\n",
      "     'methods(plot)' and the documentation for these. Most of these\n",
      "     methods are implemented using traditional graphics (the 'graphics'\n",
      "     package), but this is not mandatory.\n",
      "\n",
      "     For more details about graphical parameter arguments used by\n",
      "     traditional graphics, see 'par'.\n",
      "\n",
      "_\bU_\bs_\ba_\bg_\be:\n",
      "\n",
      "     plot(x, y, ...)\n",
      "     \n",
      "_\bA_\br_\bg_\bu_\bm_\be_\bn_\bt_\bs:\n",
      "\n",
      "       x: the coordinates of points in the plot. Alternatively, a\n",
      "          single plotting structure, function or _any R object with a\n",
      "          'plot' method_ can be provided.\n",
      "\n",
      "       y: the y coordinates of points in the plot, _optional_ if 'x' is\n",
      "          an appropriate structure.\n",
      "\n",
      "     ...: Arguments to be passed to methods, such as graphical\n",
      "          parameters (see 'par').  Many methods will accept the\n",
      "          following arguments:\n",
      "\n",
      "          'type' what type of plot should be drawn.  Possible types are\n",
      "\n",
      "                * '\"p\"' for *p*oints,\n",
      "\n",
      "                * '\"l\"' for *l*ines,\n",
      "\n",
      "                * '\"b\"' for *b*oth,\n",
      "\n",
      "                * '\"c\"' for the lines part alone of '\"b\"',\n",
      "\n",
      "                * '\"o\"' for both '*o*verplotted',\n",
      "\n",
      "                * '\"h\"' for '*h*istogram' like (or 'high-density')\n",
      "                  vertical lines,\n",
      "\n",
      "                * '\"s\"' for stair *s*teps,\n",
      "\n",
      "                * '\"S\"' for other *s*teps, see 'Details' below,\n",
      "\n",
      "                * '\"n\"' for no plotting.\n",
      "\n",
      "              All other 'type's give a warning or an error; using,\n",
      "              e.g., 'type = \"punkte\"' being equivalent to 'type = \"p\"'\n",
      "              for S compatibility.  Note that some methods, e.g.\n",
      "              'plot.factor', do not accept this.\n",
      "\n",
      "          'main' an overall title for the plot: see 'title'.\n",
      "\n",
      "          'sub' a subtitle for the plot: see 'title'.\n",
      "\n",
      "          'xlab' a title for the x axis: see 'title'.\n",
      "\n",
      "          'ylab' a title for the y axis: see 'title'.\n",
      "\n",
      "          'asp' the y/x aspect ratio, see 'plot.window'.\n",
      "\n",
      "_\bD_\be_\bt_\ba_\bi_\bl_\bs:\n",
      "\n",
      "     The two step types differ in their x-y preference: Going from\n",
      "     (x1,y1) to (x2,y2) with x1 < x2, 'type = \"s\"' moves first\n",
      "     horizontal, then vertical, whereas 'type = \"S\"' moves the other\n",
      "     way around.\n",
      "\n",
      "_\bN_\bo_\bt_\be:\n",
      "\n",
      "     The 'plot' generic was moved from the 'graphics' package to the\n",
      "     'base' package in R 4.0.0. It is currently re-exported from the\n",
      "     'graphics' namespace to allow packages importing it from there to\n",
      "     continue working, but this may change in future versions of R.\n",
      "\n",
      "_\bS_\be_\be _\bA_\bl_\bs_\bo:\n",
      "\n",
      "     'plot.default', 'plot.formula' and other methods; 'points',\n",
      "     'lines', 'par'.  For thousands of points, consider using\n",
      "     'smoothScatter()' instead of 'plot()'.\n",
      "\n",
      "     For X-Y-Z plotting see 'contour', 'persp' and 'image'.\n",
      "\n",
      "_\bE_\bx_\ba_\bm_\bp_\bl_\be_\bs:\n",
      "\n",
      "     require(stats) # for lowess, rpois, rnorm\n",
      "     require(graphics) # for plot methods\n",
      "     plot(cars)\n",
      "     lines(lowess(cars))\n",
      "     \n",
      "     plot(sin, -pi, 2*pi) # see ?plot.function\n",
      "     \n",
      "     ## Discrete Distribution Plot:\n",
      "     plot(table(rpois(100, 5)), type = \"h\", col = \"red\", lwd = 10,\n",
      "          main = \"rpois(100, lambda = 5)\")\n",
      "     \n",
      "     ## Simple quantiles/ECDF, see ecdf() {library(stats)} for a better one:\n",
      "     plot(x <- sort(rnorm(47)), type = \"s\", main = \"plot(x, type = \\\"s\\\")\")\n",
      "     points(x, cex = .5, col = \"dark red\")\n",
      "     "
     ]
    }
   ],
   "source": [
    "help(plot)"
   ]
  },
  {
   "cell_type": "markdown",
   "metadata": {},
   "source": [
    "bieżący katalog"
   ]
  },
  {
   "cell_type": "code",
   "execution_count": 11,
   "metadata": {
    "vscode": {
     "languageId": "r"
    }
   },
   "outputs": [
    {
     "data": {
      "text/html": [
       "'c:/Users/iwosz/RProjects/mownit_lab3'"
      ],
      "text/latex": [
       "'c:/Users/iwosz/RProjects/mownit\\_lab3'"
      ],
      "text/markdown": [
       "'c:/Users/iwosz/RProjects/mownit_lab3'"
      ],
      "text/plain": [
       "[1] \"c:/Users/iwosz/RProjects/mownit_lab3\""
      ]
     },
     "metadata": {},
     "output_type": "display_data"
    }
   ],
   "source": [
    "getwd()"
   ]
  },
  {
   "cell_type": "markdown",
   "metadata": {},
   "source": [
    "zmiana katalogu bieżącego\n",
    "```\n",
    "setwd(\"~\")\n",
    "```"
   ]
  },
  {
   "cell_type": "markdown",
   "metadata": {},
   "source": [
    "#### Proste obliczenia"
   ]
  },
  {
   "cell_type": "code",
   "execution_count": 12,
   "metadata": {
    "vscode": {
     "languageId": "r"
    }
   },
   "outputs": [
    {
     "data": {
      "text/html": [
       "4"
      ],
      "text/latex": [
       "4"
      ],
      "text/markdown": [
       "4"
      ],
      "text/plain": [
       "[1] 4"
      ]
     },
     "metadata": {},
     "output_type": "display_data"
    }
   ],
   "source": [
    "2+2"
   ]
  },
  {
   "cell_type": "markdown",
   "metadata": {},
   "source": [
    "Przypisanie \n",
    "\n",
    "więcej o rodzajach przypisania: http://stat.ethz.ch/R-manual/R-patched/library/base/html/assignOps.html"
   ]
  },
  {
   "cell_type": "code",
   "execution_count": 13,
   "metadata": {
    "vscode": {
     "languageId": "r"
    }
   },
   "outputs": [],
   "source": [
    "a <- 2 # najczęściej stosowane"
   ]
  },
  {
   "cell_type": "code",
   "execution_count": 14,
   "metadata": {
    "vscode": {
     "languageId": "r"
    }
   },
   "outputs": [],
   "source": [
    "a = 2"
   ]
  },
  {
   "cell_type": "markdown",
   "metadata": {},
   "source": [
    "Działanie:"
   ]
  },
  {
   "cell_type": "code",
   "execution_count": 15,
   "metadata": {
    "vscode": {
     "languageId": "r"
    }
   },
   "outputs": [
    {
     "data": {
      "text/html": [
       "4"
      ],
      "text/latex": [
       "4"
      ],
      "text/markdown": [
       "4"
      ],
      "text/plain": [
       "[1] 4"
      ]
     },
     "metadata": {},
     "output_type": "display_data"
    }
   ],
   "source": [
    "a * 2"
   ]
  },
  {
   "cell_type": "markdown",
   "metadata": {},
   "source": [
    "#### Wektory\n",
    "\n",
    "Tworzenie wektorów - funkcja `c()` "
   ]
  },
  {
   "cell_type": "code",
   "execution_count": 16,
   "metadata": {
    "vscode": {
     "languageId": "r"
    }
   },
   "outputs": [
    {
     "data": {
      "text/html": [
       "<style>\n",
       ".list-inline {list-style: none; margin:0; padding: 0}\n",
       ".list-inline>li {display: inline-block}\n",
       ".list-inline>li:not(:last-child)::after {content: \"\\00b7\"; padding: 0 .5ex}\n",
       "</style>\n",
       "<ol class=list-inline><li>2</li><li>4</li><li>6</li><li>8</li></ol>\n"
      ],
      "text/latex": [
       "\\begin{enumerate*}\n",
       "\\item 2\n",
       "\\item 4\n",
       "\\item 6\n",
       "\\item 8\n",
       "\\end{enumerate*}\n"
      ],
      "text/markdown": [
       "1. 2\n",
       "2. 4\n",
       "3. 6\n",
       "4. 8\n",
       "\n",
       "\n"
      ],
      "text/plain": [
       "[1] 2 4 6 8"
      ]
     },
     "metadata": {},
     "output_type": "display_data"
    }
   ],
   "source": [
    "x <- c(1,2,3,4)\n",
    "z <- x*2\n",
    "z"
   ]
  },
  {
   "cell_type": "code",
   "execution_count": 17,
   "metadata": {
    "vscode": {
     "languageId": "r"
    }
   },
   "outputs": [
    {
     "data": {
      "text/html": [
       "<style>\n",
       ".list-inline {list-style: none; margin:0; padding: 0}\n",
       ".list-inline>li {display: inline-block}\n",
       ".list-inline>li:not(:last-child)::after {content: \"\\00b7\"; padding: 0 .5ex}\n",
       "</style>\n",
       "<ol class=list-inline><li>3</li><li>6</li><li>9</li><li>12</li></ol>\n"
      ],
      "text/latex": [
       "\\begin{enumerate*}\n",
       "\\item 3\n",
       "\\item 6\n",
       "\\item 9\n",
       "\\item 12\n",
       "\\end{enumerate*}\n"
      ],
      "text/markdown": [
       "1. 3\n",
       "2. 6\n",
       "3. 9\n",
       "4. 12\n",
       "\n",
       "\n"
      ],
      "text/plain": [
       "[1]  3  6  9 12"
      ]
     },
     "metadata": {},
     "output_type": "display_data"
    }
   ],
   "source": [
    "y <- 2*(1:4)\n",
    "x+y"
   ]
  },
  {
   "cell_type": "markdown",
   "metadata": {},
   "source": [
    "Funkcje"
   ]
  },
  {
   "cell_type": "code",
   "execution_count": 18,
   "metadata": {
    "vscode": {
     "languageId": "r"
    }
   },
   "outputs": [
    {
     "data": {
      "text/html": [
       "<style>\n",
       ".list-inline {list-style: none; margin:0; padding: 0}\n",
       ".list-inline>li {display: inline-block}\n",
       ".list-inline>li:not(:last-child)::after {content: \"\\00b7\"; padding: 0 .5ex}\n",
       "</style>\n",
       "<ol class=list-inline><li>1</li><li>3</li><li>5</li><li>7</li><li>9</li></ol>\n"
      ],
      "text/latex": [
       "\\begin{enumerate*}\n",
       "\\item 1\n",
       "\\item 3\n",
       "\\item 5\n",
       "\\item 7\n",
       "\\item 9\n",
       "\\end{enumerate*}\n"
      ],
      "text/markdown": [
       "1. 1\n",
       "2. 3\n",
       "3. 5\n",
       "4. 7\n",
       "5. 9\n",
       "\n",
       "\n"
      ],
      "text/plain": [
       "[1] 1 3 5 7 9"
      ]
     },
     "metadata": {},
     "output_type": "display_data"
    }
   ],
   "source": [
    "seq(1, 10, 2) "
   ]
  },
  {
   "cell_type": "code",
   "execution_count": 19,
   "metadata": {
    "vscode": {
     "languageId": "r"
    }
   },
   "outputs": [],
   "source": [
    "x <- seq(1, 10)"
   ]
  },
  {
   "cell_type": "code",
   "execution_count": 20,
   "metadata": {
    "vscode": {
     "languageId": "r"
    }
   },
   "outputs": [
    {
     "data": {
      "text/html": [
       "55"
      ],
      "text/latex": [
       "55"
      ],
      "text/markdown": [
       "55"
      ],
      "text/plain": [
       "[1] 55"
      ]
     },
     "metadata": {},
     "output_type": "display_data"
    }
   ],
   "source": [
    "sum(x)"
   ]
  },
  {
   "cell_type": "code",
   "execution_count": 21,
   "metadata": {
    "vscode": {
     "languageId": "r"
    }
   },
   "outputs": [
    {
     "data": {
      "text/html": [
       "<style>\n",
       ".list-inline {list-style: none; margin:0; padding: 0}\n",
       ".list-inline>li {display: inline-block}\n",
       ".list-inline>li:not(:last-child)::after {content: \"\\00b7\"; padding: 0 .5ex}\n",
       "</style>\n",
       "<ol class=list-inline><li>1</li><li>1.4142135623731</li><li>1.73205080756888</li><li>2</li><li>2.23606797749979</li><li>2.44948974278318</li><li>2.64575131106459</li><li>2.82842712474619</li><li>3</li><li>3.16227766016838</li></ol>\n"
      ],
      "text/latex": [
       "\\begin{enumerate*}\n",
       "\\item 1\n",
       "\\item 1.4142135623731\n",
       "\\item 1.73205080756888\n",
       "\\item 2\n",
       "\\item 2.23606797749979\n",
       "\\item 2.44948974278318\n",
       "\\item 2.64575131106459\n",
       "\\item 2.82842712474619\n",
       "\\item 3\n",
       "\\item 3.16227766016838\n",
       "\\end{enumerate*}\n"
      ],
      "text/markdown": [
       "1. 1\n",
       "2. 1.4142135623731\n",
       "3. 1.73205080756888\n",
       "4. 2\n",
       "5. 2.23606797749979\n",
       "6. 2.44948974278318\n",
       "7. 2.64575131106459\n",
       "8. 2.82842712474619\n",
       "9. 3\n",
       "10. 3.16227766016838\n",
       "\n",
       "\n"
      ],
      "text/plain": [
       " [1] 1.000000 1.414214 1.732051 2.000000 2.236068 2.449490 2.645751 2.828427\n",
       " [9] 3.000000 3.162278"
      ]
     },
     "metadata": {},
     "output_type": "display_data"
    }
   ],
   "source": [
    "sqrt(x)"
   ]
  },
  {
   "cell_type": "markdown",
   "metadata": {},
   "source": [
    "## Import i przekształcanie danych"
   ]
  },
  {
   "cell_type": "markdown",
   "metadata": {},
   "source": [
    "R umożliwia wczytywanie danych z baz danych i plików w różnych formatach.\n",
    "\n",
    "Przykład: import z pliku CSV.\n",
    "\n",
    "Do importu służy funkcja `read.csv`\n",
    "\n",
    "Przykładowy plik: [data1.txt](https://www.icsr.agh.edu.pl/~malawski/dydakt/mownit/R/data1.txt)\n",
    "\n",
    "Kolumny `t1` i `t2` zawierają wyniki \"pomiarów\" czasu dla 2 \"algorytmów\"."
   ]
  },
  {
   "cell_type": "code",
   "execution_count": 22,
   "metadata": {
    "vscode": {
     "languageId": "r"
    }
   },
   "outputs": [],
   "source": [
    "results = read.csv(\"data1.txt\")"
   ]
  },
  {
   "cell_type": "markdown",
   "metadata": {},
   "source": [
    "Zaimportowane dane są w postaci tabeli (data frame)."
   ]
  },
  {
   "cell_type": "code",
   "execution_count": 23,
   "metadata": {
    "vscode": {
     "languageId": "r"
    }
   },
   "outputs": [
    {
     "data": {
      "text/html": [
       "<table class=\"dataframe\">\n",
       "<caption>A data.frame: 10 × 3</caption>\n",
       "<thead>\n",
       "\t<tr><th scope=col>n</th><th scope=col>t1</th><th scope=col>t2</th></tr>\n",
       "\t<tr><th scope=col>&lt;int&gt;</th><th scope=col>&lt;dbl&gt;</th><th scope=col>&lt;dbl&gt;</th></tr>\n",
       "</thead>\n",
       "<tbody>\n",
       "\t<tr><td> 1</td><td> 1.1</td><td> 2.3</td></tr>\n",
       "\t<tr><td> 2</td><td> 2.0</td><td> 4.1</td></tr>\n",
       "\t<tr><td> 3</td><td> 2.8</td><td> 6.0</td></tr>\n",
       "\t<tr><td> 4</td><td> 4.2</td><td> 8.2</td></tr>\n",
       "\t<tr><td> 5</td><td> 5.1</td><td> 9.9</td></tr>\n",
       "\t<tr><td> 6</td><td> 5.9</td><td>12.1</td></tr>\n",
       "\t<tr><td> 7</td><td> 6.7</td><td>14.1</td></tr>\n",
       "\t<tr><td> 8</td><td> 8.0</td><td>15.9</td></tr>\n",
       "\t<tr><td> 9</td><td> 9.1</td><td>18.1</td></tr>\n",
       "\t<tr><td>10</td><td>10.1</td><td>19.9</td></tr>\n",
       "</tbody>\n",
       "</table>\n"
      ],
      "text/latex": [
       "A data.frame: 10 × 3\n",
       "\\begin{tabular}{lll}\n",
       " n & t1 & t2\\\\\n",
       " <int> & <dbl> & <dbl>\\\\\n",
       "\\hline\n",
       "\t  1 &  1.1 &  2.3\\\\\n",
       "\t  2 &  2.0 &  4.1\\\\\n",
       "\t  3 &  2.8 &  6.0\\\\\n",
       "\t  4 &  4.2 &  8.2\\\\\n",
       "\t  5 &  5.1 &  9.9\\\\\n",
       "\t  6 &  5.9 & 12.1\\\\\n",
       "\t  7 &  6.7 & 14.1\\\\\n",
       "\t  8 &  8.0 & 15.9\\\\\n",
       "\t  9 &  9.1 & 18.1\\\\\n",
       "\t 10 & 10.1 & 19.9\\\\\n",
       "\\end{tabular}\n"
      ],
      "text/markdown": [
       "\n",
       "A data.frame: 10 × 3\n",
       "\n",
       "| n &lt;int&gt; | t1 &lt;dbl&gt; | t2 &lt;dbl&gt; |\n",
       "|---|---|---|\n",
       "|  1 |  1.1 |  2.3 |\n",
       "|  2 |  2.0 |  4.1 |\n",
       "|  3 |  2.8 |  6.0 |\n",
       "|  4 |  4.2 |  8.2 |\n",
       "|  5 |  5.1 |  9.9 |\n",
       "|  6 |  5.9 | 12.1 |\n",
       "|  7 |  6.7 | 14.1 |\n",
       "|  8 |  8.0 | 15.9 |\n",
       "|  9 |  9.1 | 18.1 |\n",
       "| 10 | 10.1 | 19.9 |\n",
       "\n"
      ],
      "text/plain": [
       "   n  t1   t2  \n",
       "1   1  1.1  2.3\n",
       "2   2  2.0  4.1\n",
       "3   3  2.8  6.0\n",
       "4   4  4.2  8.2\n",
       "5   5  5.1  9.9\n",
       "6   6  5.9 12.1\n",
       "7   7  6.7 14.1\n",
       "8   8  8.0 15.9\n",
       "9   9  9.1 18.1\n",
       "10 10 10.1 19.9"
      ]
     },
     "metadata": {},
     "output_type": "display_data"
    }
   ],
   "source": [
    "results"
   ]
  },
  {
   "cell_type": "code",
   "execution_count": 24,
   "metadata": {
    "vscode": {
     "languageId": "r"
    }
   },
   "outputs": [
    {
     "name": "stdout",
     "output_type": "stream",
     "text": [
      "    n   t1   t2\n",
      "1   1  1.1  2.3\n",
      "2   2  2.0  4.1\n",
      "3   3  2.8  6.0\n",
      "4   4  4.2  8.2\n",
      "5   5  5.1  9.9\n",
      "6   6  5.9 12.1\n",
      "7   7  6.7 14.1\n",
      "8   8  8.0 15.9\n",
      "9   9  9.1 18.1\n",
      "10 10 10.1 19.9\n"
     ]
    }
   ],
   "source": [
    "print(results)"
   ]
  },
  {
   "cell_type": "markdown",
   "metadata": {},
   "source": [
    "Pobranie kolumny (data frame):"
   ]
  },
  {
   "cell_type": "code",
   "execution_count": 25,
   "metadata": {
    "vscode": {
     "languageId": "r"
    }
   },
   "outputs": [
    {
     "data": {
      "text/html": [
       "<table class=\"dataframe\">\n",
       "<caption>A data.frame: 10 × 1</caption>\n",
       "<thead>\n",
       "\t<tr><th scope=col>n</th></tr>\n",
       "\t<tr><th scope=col>&lt;int&gt;</th></tr>\n",
       "</thead>\n",
       "<tbody>\n",
       "\t<tr><td> 1</td></tr>\n",
       "\t<tr><td> 2</td></tr>\n",
       "\t<tr><td> 3</td></tr>\n",
       "\t<tr><td> 4</td></tr>\n",
       "\t<tr><td> 5</td></tr>\n",
       "\t<tr><td> 6</td></tr>\n",
       "\t<tr><td> 7</td></tr>\n",
       "\t<tr><td> 8</td></tr>\n",
       "\t<tr><td> 9</td></tr>\n",
       "\t<tr><td>10</td></tr>\n",
       "</tbody>\n",
       "</table>\n"
      ],
      "text/latex": [
       "A data.frame: 10 × 1\n",
       "\\begin{tabular}{l}\n",
       " n\\\\\n",
       " <int>\\\\\n",
       "\\hline\n",
       "\t  1\\\\\n",
       "\t  2\\\\\n",
       "\t  3\\\\\n",
       "\t  4\\\\\n",
       "\t  5\\\\\n",
       "\t  6\\\\\n",
       "\t  7\\\\\n",
       "\t  8\\\\\n",
       "\t  9\\\\\n",
       "\t 10\\\\\n",
       "\\end{tabular}\n"
      ],
      "text/markdown": [
       "\n",
       "A data.frame: 10 × 1\n",
       "\n",
       "| n &lt;int&gt; |\n",
       "|---|\n",
       "|  1 |\n",
       "|  2 |\n",
       "|  3 |\n",
       "|  4 |\n",
       "|  5 |\n",
       "|  6 |\n",
       "|  7 |\n",
       "|  8 |\n",
       "|  9 |\n",
       "| 10 |\n",
       "\n"
      ],
      "text/plain": [
       "   n \n",
       "1   1\n",
       "2   2\n",
       "3   3\n",
       "4   4\n",
       "5   5\n",
       "6   6\n",
       "7   7\n",
       "8   8\n",
       "9   9\n",
       "10 10"
      ]
     },
     "metadata": {},
     "output_type": "display_data"
    }
   ],
   "source": [
    "results[1]"
   ]
  },
  {
   "cell_type": "markdown",
   "metadata": {},
   "source": [
    "Pobranie kolumny jako wektor:"
   ]
  },
  {
   "cell_type": "code",
   "execution_count": 26,
   "metadata": {
    "vscode": {
     "languageId": "r"
    }
   },
   "outputs": [
    {
     "data": {
      "text/html": [
       "<style>\n",
       ".list-inline {list-style: none; margin:0; padding: 0}\n",
       ".list-inline>li {display: inline-block}\n",
       ".list-inline>li:not(:last-child)::after {content: \"\\00b7\"; padding: 0 .5ex}\n",
       "</style>\n",
       "<ol class=list-inline><li>1</li><li>2</li><li>3</li><li>4</li><li>5</li><li>6</li><li>7</li><li>8</li><li>9</li><li>10</li></ol>\n"
      ],
      "text/latex": [
       "\\begin{enumerate*}\n",
       "\\item 1\n",
       "\\item 2\n",
       "\\item 3\n",
       "\\item 4\n",
       "\\item 5\n",
       "\\item 6\n",
       "\\item 7\n",
       "\\item 8\n",
       "\\item 9\n",
       "\\item 10\n",
       "\\end{enumerate*}\n"
      ],
      "text/markdown": [
       "1. 1\n",
       "2. 2\n",
       "3. 3\n",
       "4. 4\n",
       "5. 5\n",
       "6. 6\n",
       "7. 7\n",
       "8. 8\n",
       "9. 9\n",
       "10. 10\n",
       "\n",
       "\n"
      ],
      "text/plain": [
       " [1]  1  2  3  4  5  6  7  8  9 10"
      ]
     },
     "metadata": {},
     "output_type": "display_data"
    }
   ],
   "source": [
    "results[[1]]"
   ]
  },
  {
   "cell_type": "markdown",
   "metadata": {},
   "source": [
    "pobranie kolumny po nazwie:"
   ]
  },
  {
   "cell_type": "code",
   "execution_count": 27,
   "metadata": {
    "vscode": {
     "languageId": "r"
    }
   },
   "outputs": [
    {
     "data": {
      "text/html": [
       "<table class=\"dataframe\">\n",
       "<caption>A data.frame: 10 × 1</caption>\n",
       "<thead>\n",
       "\t<tr><th scope=col>t1</th></tr>\n",
       "\t<tr><th scope=col>&lt;dbl&gt;</th></tr>\n",
       "</thead>\n",
       "<tbody>\n",
       "\t<tr><td> 1.1</td></tr>\n",
       "\t<tr><td> 2.0</td></tr>\n",
       "\t<tr><td> 2.8</td></tr>\n",
       "\t<tr><td> 4.2</td></tr>\n",
       "\t<tr><td> 5.1</td></tr>\n",
       "\t<tr><td> 5.9</td></tr>\n",
       "\t<tr><td> 6.7</td></tr>\n",
       "\t<tr><td> 8.0</td></tr>\n",
       "\t<tr><td> 9.1</td></tr>\n",
       "\t<tr><td>10.1</td></tr>\n",
       "</tbody>\n",
       "</table>\n"
      ],
      "text/latex": [
       "A data.frame: 10 × 1\n",
       "\\begin{tabular}{l}\n",
       " t1\\\\\n",
       " <dbl>\\\\\n",
       "\\hline\n",
       "\t  1.1\\\\\n",
       "\t  2.0\\\\\n",
       "\t  2.8\\\\\n",
       "\t  4.2\\\\\n",
       "\t  5.1\\\\\n",
       "\t  5.9\\\\\n",
       "\t  6.7\\\\\n",
       "\t  8.0\\\\\n",
       "\t  9.1\\\\\n",
       "\t 10.1\\\\\n",
       "\\end{tabular}\n"
      ],
      "text/markdown": [
       "\n",
       "A data.frame: 10 × 1\n",
       "\n",
       "| t1 &lt;dbl&gt; |\n",
       "|---|\n",
       "|  1.1 |\n",
       "|  2.0 |\n",
       "|  2.8 |\n",
       "|  4.2 |\n",
       "|  5.1 |\n",
       "|  5.9 |\n",
       "|  6.7 |\n",
       "|  8.0 |\n",
       "|  9.1 |\n",
       "| 10.1 |\n",
       "\n"
      ],
      "text/plain": [
       "   t1  \n",
       "1   1.1\n",
       "2   2.0\n",
       "3   2.8\n",
       "4   4.2\n",
       "5   5.1\n",
       "6   5.9\n",
       "7   6.7\n",
       "8   8.0\n",
       "9   9.1\n",
       "10 10.1"
      ]
     },
     "metadata": {},
     "output_type": "display_data"
    }
   ],
   "source": [
    "results[\"t1\"]"
   ]
  },
  {
   "cell_type": "markdown",
   "metadata": {},
   "source": [
    "Pobranie wiersza lub wierszy:"
   ]
  },
  {
   "cell_type": "code",
   "execution_count": 28,
   "metadata": {
    "vscode": {
     "languageId": "r"
    }
   },
   "outputs": [
    {
     "data": {
      "text/html": [
       "<table class=\"dataframe\">\n",
       "<caption>A data.frame: 1 × 3</caption>\n",
       "<thead>\n",
       "\t<tr><th></th><th scope=col>n</th><th scope=col>t1</th><th scope=col>t2</th></tr>\n",
       "\t<tr><th></th><th scope=col>&lt;int&gt;</th><th scope=col>&lt;dbl&gt;</th><th scope=col>&lt;dbl&gt;</th></tr>\n",
       "</thead>\n",
       "<tbody>\n",
       "\t<tr><th scope=row>2</th><td>2</td><td>2</td><td>4.1</td></tr>\n",
       "</tbody>\n",
       "</table>\n"
      ],
      "text/latex": [
       "A data.frame: 1 × 3\n",
       "\\begin{tabular}{r|lll}\n",
       "  & n & t1 & t2\\\\\n",
       "  & <int> & <dbl> & <dbl>\\\\\n",
       "\\hline\n",
       "\t2 & 2 & 2 & 4.1\\\\\n",
       "\\end{tabular}\n"
      ],
      "text/markdown": [
       "\n",
       "A data.frame: 1 × 3\n",
       "\n",
       "| <!--/--> | n &lt;int&gt; | t1 &lt;dbl&gt; | t2 &lt;dbl&gt; |\n",
       "|---|---|---|---|\n",
       "| 2 | 2 | 2 | 4.1 |\n",
       "\n"
      ],
      "text/plain": [
       "  n t1 t2 \n",
       "2 2 2  4.1"
      ]
     },
     "metadata": {},
     "output_type": "display_data"
    }
   ],
   "source": [
    "results[2,] # drugi wiersz, wszystkie kolumny"
   ]
  },
  {
   "cell_type": "code",
   "execution_count": 36,
   "metadata": {
    "vscode": {
     "languageId": "r"
    }
   },
   "outputs": [
    {
     "name": "stdout",
     "output_type": "stream",
     "text": [
      "  n  t1   t2\n",
      "2 2 2.0  4.1\n",
      "4 4 4.2  8.2\n",
      "6 6 5.9 12.1\n"
     ]
    }
   ],
   "source": [
    "print(results[c(2,4,6),])"
   ]
  },
  {
   "cell_type": "markdown",
   "metadata": {},
   "source": [
    "`attach` (dodanie tabeli do kontekstu) pozwala na pojedyncze odwołania do kolumn (jako wektorów) bez odwoływania sie do calej tabeli:"
   ]
  },
  {
   "cell_type": "code",
   "execution_count": 30,
   "metadata": {
    "vscode": {
     "languageId": "r"
    }
   },
   "outputs": [
    {
     "data": {
      "text/html": [
       "<style>\n",
       ".list-inline {list-style: none; margin:0; padding: 0}\n",
       ".list-inline>li {display: inline-block}\n",
       ".list-inline>li:not(:last-child)::after {content: \"\\00b7\"; padding: 0 .5ex}\n",
       "</style>\n",
       "<ol class=list-inline><li>1.1</li><li>2</li><li>2.8</li><li>4.2</li><li>5.1</li><li>5.9</li><li>6.7</li><li>8</li><li>9.1</li><li>10.1</li></ol>\n"
      ],
      "text/latex": [
       "\\begin{enumerate*}\n",
       "\\item 1.1\n",
       "\\item 2\n",
       "\\item 2.8\n",
       "\\item 4.2\n",
       "\\item 5.1\n",
       "\\item 5.9\n",
       "\\item 6.7\n",
       "\\item 8\n",
       "\\item 9.1\n",
       "\\item 10.1\n",
       "\\end{enumerate*}\n"
      ],
      "text/markdown": [
       "1. 1.1\n",
       "2. 2\n",
       "3. 2.8\n",
       "4. 4.2\n",
       "5. 5.1\n",
       "6. 5.9\n",
       "7. 6.7\n",
       "8. 8\n",
       "9. 9.1\n",
       "10. 10.1\n",
       "\n",
       "\n"
      ],
      "text/plain": [
       " [1]  1.1  2.0  2.8  4.2  5.1  5.9  6.7  8.0  9.1 10.1"
      ]
     },
     "metadata": {},
     "output_type": "display_data"
    }
   ],
   "source": [
    "attach(results)\n",
    "\n",
    "t1"
   ]
  },
  {
   "cell_type": "code",
   "execution_count": 31,
   "metadata": {
    "vscode": {
     "languageId": "r"
    }
   },
   "outputs": [
    {
     "data": {
      "text/html": [
       "<style>\n",
       ".list-inline {list-style: none; margin:0; padding: 0}\n",
       ".list-inline>li {display: inline-block}\n",
       ".list-inline>li:not(:last-child)::after {content: \"\\00b7\"; padding: 0 .5ex}\n",
       "</style>\n",
       "<ol class=list-inline><li>2.3</li><li>4.1</li><li>6</li><li>8.2</li><li>9.9</li><li>12.1</li><li>14.1</li><li>15.9</li><li>18.1</li><li>19.9</li></ol>\n"
      ],
      "text/latex": [
       "\\begin{enumerate*}\n",
       "\\item 2.3\n",
       "\\item 4.1\n",
       "\\item 6\n",
       "\\item 8.2\n",
       "\\item 9.9\n",
       "\\item 12.1\n",
       "\\item 14.1\n",
       "\\item 15.9\n",
       "\\item 18.1\n",
       "\\item 19.9\n",
       "\\end{enumerate*}\n"
      ],
      "text/markdown": [
       "1. 2.3\n",
       "2. 4.1\n",
       "3. 6\n",
       "4. 8.2\n",
       "5. 9.9\n",
       "6. 12.1\n",
       "7. 14.1\n",
       "8. 15.9\n",
       "9. 18.1\n",
       "10. 19.9\n",
       "\n",
       "\n"
      ],
      "text/plain": [
       " [1]  2.3  4.1  6.0  8.2  9.9 12.1 14.1 15.9 18.1 19.9"
      ]
     },
     "metadata": {},
     "output_type": "display_data"
    }
   ],
   "source": [
    "t2"
   ]
  },
  {
   "cell_type": "code",
   "execution_count": 32,
   "metadata": {
    "vscode": {
     "languageId": "r"
    }
   },
   "outputs": [
    {
     "data": {
      "text/html": [
       "<style>\n",
       ".list-inline {list-style: none; margin:0; padding: 0}\n",
       ".list-inline>li {display: inline-block}\n",
       ".list-inline>li:not(:last-child)::after {content: \"\\00b7\"; padding: 0 .5ex}\n",
       "</style>\n",
       "<ol class=list-inline><li>1</li><li>2</li><li>3</li><li>4</li><li>5</li><li>6</li><li>7</li><li>8</li><li>9</li><li>10</li></ol>\n"
      ],
      "text/latex": [
       "\\begin{enumerate*}\n",
       "\\item 1\n",
       "\\item 2\n",
       "\\item 3\n",
       "\\item 4\n",
       "\\item 5\n",
       "\\item 6\n",
       "\\item 7\n",
       "\\item 8\n",
       "\\item 9\n",
       "\\item 10\n",
       "\\end{enumerate*}\n"
      ],
      "text/markdown": [
       "1. 1\n",
       "2. 2\n",
       "3. 3\n",
       "4. 4\n",
       "5. 5\n",
       "6. 6\n",
       "7. 7\n",
       "8. 8\n",
       "9. 9\n",
       "10. 10\n",
       "\n",
       "\n"
      ],
      "text/plain": [
       " [1]  1  2  3  4  5  6  7  8  9 10"
      ]
     },
     "metadata": {},
     "output_type": "display_data"
    }
   ],
   "source": [
    "n"
   ]
  },
  {
   "cell_type": "code",
   "execution_count": 33,
   "metadata": {
    "vscode": {
     "languageId": "r"
    }
   },
   "outputs": [],
   "source": [
    "detach(results)"
   ]
  },
  {
   "cell_type": "code",
   "execution_count": 34,
   "metadata": {
    "vscode": {
     "languageId": "r"
    }
   },
   "outputs": [
    {
     "ename": "ERROR",
     "evalue": "Error in eval(expr, envir, enclos): nie znaleziono obiektu 't1'\n",
     "output_type": "error",
     "traceback": [
      "Error in eval(expr, envir, enclos): nie znaleziono obiektu 't1'\nTraceback:\n"
     ]
    }
   ],
   "source": [
    "# generuje blad \n",
    "t1"
   ]
  },
  {
   "cell_type": "markdown",
   "metadata": {},
   "source": [
    "### Wczytywanie w tidyverse"
   ]
  },
  {
   "cell_type": "markdown",
   "metadata": {},
   "source": [
    "W tidyverse dane wczytywane są do `tibble` - \"ulepszony\" data.frame"
   ]
  },
  {
   "cell_type": "code",
   "execution_count": null,
   "metadata": {
    "vscode": {
     "languageId": "r"
    }
   },
   "outputs": [],
   "source": [
    "# proszę zwrócić uwagę na _ zamiast .\n",
    "results2 = read_csv(\"data1.txt\")"
   ]
  },
  {
   "cell_type": "code",
   "execution_count": null,
   "metadata": {
    "vscode": {
     "languageId": "r"
    }
   },
   "outputs": [],
   "source": [
    "results2\n",
    "# to samo co data.frame"
   ]
  },
  {
   "cell_type": "code",
   "execution_count": null,
   "metadata": {
    "vscode": {
     "languageId": "r"
    }
   },
   "outputs": [],
   "source": [
    "print(results2)\n",
    "# zawiera rozmiar i informacje o typach"
   ]
  },
  {
   "cell_type": "markdown",
   "metadata": {},
   "source": [
    "## Rysowanie wykresów"
   ]
  },
  {
   "cell_type": "code",
   "execution_count": null,
   "metadata": {
    "vscode": {
     "languageId": "r"
    }
   },
   "outputs": [],
   "source": [
    "results"
   ]
  },
  {
   "cell_type": "code",
   "execution_count": null,
   "metadata": {
    "vscode": {
     "languageId": "r"
    }
   },
   "outputs": [],
   "source": [
    "a <- ggplot(results, aes(x=n, y=t2)) + geom_point()\n",
    "a\n",
    "# nie używamy \"\" w aes!"
   ]
  },
  {
   "cell_type": "code",
   "execution_count": null,
   "metadata": {
    "vscode": {
     "languageId": "r"
    }
   },
   "outputs": [],
   "source": [
    "a + geom_line()\n",
    "# nie podano nic do geom_line więc wykorzystano argumenty do ggplot(...)"
   ]
  },
  {
   "cell_type": "code",
   "execution_count": null,
   "metadata": {
    "vscode": {
     "languageId": "r"
    }
   },
   "outputs": [],
   "source": [
    "last_plot() + geom_line(aes(x=n, y=t1))\n",
    "# tutaj podano inny aes, ale dalej odnosimy się do \"results\""
   ]
  },
  {
   "cell_type": "markdown",
   "metadata": {},
   "source": [
    "## Przykład analizy danych w czystym R"
   ]
  },
  {
   "cell_type": "markdown",
   "metadata": {},
   "source": [
    "Przetwarzanie danych w tabeli\n",
    "\n",
    "Dane w pliku [data2.txt](https://www.icsr.agh.edu.pl/~malawski/dydakt/mownit/R/data2.txt) mają postać tabeli faktów, w której wiersze są wynikami pomiarów. \n",
    "\n",
    "Przykładowo, zmierzono czas (time) dla różnych algorytmów (t1, t2).\n",
    "\n",
    "Kolumna `alg` jest typu `factor` - jest to typ wyliczeniowy w R."
   ]
  },
  {
   "cell_type": "code",
   "execution_count": null,
   "metadata": {
    "vscode": {
     "languageId": "r"
    }
   },
   "outputs": [],
   "source": [
    "results <- read.csv(\"data2.txt\")\n",
    "\n",
    "results"
   ]
  },
  {
   "cell_type": "markdown",
   "metadata": {},
   "source": [
    "Dodanie nowej kolumny:"
   ]
  },
  {
   "cell_type": "code",
   "execution_count": null,
   "metadata": {
    "vscode": {
     "languageId": "r"
    }
   },
   "outputs": [],
   "source": [
    "results$speed <- results$n / results$time\n",
    "\n",
    "results"
   ]
  },
  {
   "cell_type": "markdown",
   "metadata": {},
   "source": [
    "Grupowanie (agregacja)\n",
    "\n",
    "Przyklad: zastosowanie funkcji FUN (tutaj: mean czyli obliczającej średnią) do wszystkich wartosci time dla takich samych n i alg:"
   ]
  },
  {
   "cell_type": "code",
   "execution_count": null,
   "metadata": {
    "vscode": {
     "languageId": "r"
    }
   },
   "outputs": [],
   "source": [
    "avg_results <- aggregate(time ~ n:alg, data=results, FUN=mean)\n",
    "\n",
    "avg_results"
   ]
  },
  {
   "cell_type": "markdown",
   "metadata": {},
   "source": [
    "Dołączenie kolumny z obliczonym odchyleniem standardowym (sd) do tabeli:"
   ]
  },
  {
   "cell_type": "code",
   "execution_count": null,
   "metadata": {
    "vscode": {
     "languageId": "r"
    }
   },
   "outputs": [],
   "source": [
    "avg_results$sd <- aggregate(time ~ n:alg, data=results, FUN=sd)$time"
   ]
  },
  {
   "cell_type": "code",
   "execution_count": null,
   "metadata": {
    "vscode": {
     "languageId": "r"
    }
   },
   "outputs": [],
   "source": [
    "avg_results"
   ]
  },
  {
   "cell_type": "markdown",
   "metadata": {},
   "source": [
    "Agregacja kilku wielkości:"
   ]
  },
  {
   "cell_type": "code",
   "execution_count": null,
   "metadata": {
    "vscode": {
     "languageId": "r"
    }
   },
   "outputs": [],
   "source": [
    "avg_results <- aggregate(cbind(time,speed) ~ n:alg, data=results, FUN=mean) "
   ]
  },
  {
   "cell_type": "code",
   "execution_count": null,
   "metadata": {
    "vscode": {
     "languageId": "r"
    }
   },
   "outputs": [],
   "source": [
    "avg_results"
   ]
  },
  {
   "cell_type": "markdown",
   "metadata": {},
   "source": [
    "Filtrowanie danych:"
   ]
  },
  {
   "cell_type": "code",
   "execution_count": null,
   "metadata": {
    "vscode": {
     "languageId": "r"
    }
   },
   "outputs": [],
   "source": [
    "avg_results$alg==\"t1\""
   ]
  },
  {
   "cell_type": "code",
   "execution_count": null,
   "metadata": {
    "vscode": {
     "languageId": "r"
    }
   },
   "outputs": [],
   "source": [
    "avg_results[avg_results$alg==\"t1\",]"
   ]
  },
  {
   "cell_type": "markdown",
   "metadata": {},
   "source": [
    "Rysowanie wykresów.\n",
    "\n",
    "Wykres time w funkcji n:"
   ]
  },
  {
   "cell_type": "code",
   "execution_count": null,
   "metadata": {
    "vscode": {
     "languageId": "r"
    }
   },
   "outputs": [],
   "source": [
    "ggplot(avg_results, aes(n,time)) + geom_point()"
   ]
  },
  {
   "cell_type": "markdown",
   "metadata": {},
   "source": [
    "Przykład skryptu rysującego wykres. "
   ]
  },
  {
   "cell_type": "code",
   "execution_count": null,
   "metadata": {
    "vscode": {
     "languageId": "r"
    }
   },
   "outputs": [],
   "source": [
    "results <- read.csv(\"data2.txt\")\n",
    "results$speed <- results$n / results$time\n",
    "avg_results <- aggregate( cbind(time,speed) ~ n:alg, data=results, FUN=mean) \n",
    "ggplot(avg_results, aes(n,time,color=alg)) + geom_point() + ylab(\"Computing time in seconds\")"
   ]
  },
  {
   "cell_type": "markdown",
   "metadata": {},
   "source": [
    "Możemy też uruchomić kod tworzący wykres z osobnego pliku"
   ]
  },
  {
   "cell_type": "code",
   "execution_count": null,
   "metadata": {
    "vscode": {
     "languageId": "r"
    }
   },
   "outputs": [],
   "source": [
    "source(\"data2_plot.R\")"
   ]
  },
  {
   "cell_type": "markdown",
   "metadata": {},
   "source": [
    "w bashu za pomoca polecenia:"
   ]
  },
  {
   "cell_type": "markdown",
   "metadata": {},
   "source": [
    "```Rscript data2_plot.R```"
   ]
  },
  {
   "cell_type": "markdown",
   "metadata": {},
   "source": [
    "W wyniku powstaje plik [myplot.png](myplot.png)"
   ]
  },
  {
   "cell_type": "markdown",
   "metadata": {},
   "source": [
    "### Powyższy przykład z wykorzystaniem tidyverse"
   ]
  },
  {
   "cell_type": "code",
   "execution_count": null,
   "metadata": {
    "scrolled": true,
    "vscode": {
     "languageId": "r"
    }
   },
   "outputs": [],
   "source": [
    "results <- read_csv(\"data2.txt\")"
   ]
  },
  {
   "cell_type": "markdown",
   "metadata": {},
   "source": [
    "Operator `%>%` pozwala przekazywać wyjście z jednej funkcji jako wejście kolejnej, co pozwala na tworzenie łańcucha wywołań funkcji (analogiczne do '|' w bashu)."
   ]
  },
  {
   "cell_type": "code",
   "execution_count": null,
   "metadata": {
    "vscode": {
     "languageId": "r"
    }
   },
   "outputs": [],
   "source": [
    "avg_dplyr <- results %>% \n",
    "    mutate(speed = n/time) %>% # tylko aby pokazać mutate, nie wykorzystujemy do plota\n",
    "    group_by(n, alg) %>%\n",
    "    summarise(\n",
    "        time_sd = sd(time),\n",
    "        time = mean(time),\n",
    "        speed = mean(speed)\n",
    "    )  %>% \n",
    "    arrange(alg, n) #sortowanie\n",
    "    \n",
    "    "
   ]
  },
  {
   "cell_type": "code",
   "execution_count": null,
   "metadata": {
    "vscode": {
     "languageId": "r"
    }
   },
   "outputs": [],
   "source": [
    "avg_dplyr"
   ]
  },
  {
   "cell_type": "markdown",
   "metadata": {},
   "source": [
    "Kolejność operacji w `summarise` ma znaczenie!"
   ]
  },
  {
   "cell_type": "code",
   "execution_count": null,
   "metadata": {
    "vscode": {
     "languageId": "r"
    }
   },
   "outputs": [],
   "source": [
    "# zamieniona kolejność mean i sd\n",
    "results %>%\n",
    "    group_by(n, alg) %>%\n",
    "    summarise(\n",
    "        time = mean(time),\n",
    "        time_sd = sd(time) # sd jest liczone dla jednego wiersza po agregracji, stad NA w wynikach\n",
    "    )  %>% \n",
    "    arrange(alg, n)"
   ]
  },
  {
   "cell_type": "markdown",
   "metadata": {},
   "source": [
    "Wykres rysowany jak poprzednio"
   ]
  },
  {
   "cell_type": "code",
   "execution_count": null,
   "metadata": {
    "vscode": {
     "languageId": "r"
    }
   },
   "outputs": [],
   "source": [
    "ggplot(avg_dplyr, aes(n, time, color=alg)) + geom_point() + ylab(\"Computing time in seconds\") + \n",
    "    geom_errorbar(aes(ymin = time-time_sd, ymax = time+time_sd, width=.25))"
   ]
  },
  {
   "cell_type": "markdown",
   "metadata": {},
   "source": [
    "Przykład filtrowania i wybierania kolumn"
   ]
  },
  {
   "cell_type": "code",
   "execution_count": null,
   "metadata": {
    "vscode": {
     "languageId": "r"
    }
   },
   "outputs": [],
   "source": [
    "# wybieranie wierszy spełniających warunek\n",
    "avg_dplyr %>% filter(alg==\"t1\")"
   ]
  },
  {
   "cell_type": "code",
   "execution_count": null,
   "metadata": {
    "vscode": {
     "languageId": "r"
    }
   },
   "outputs": [],
   "source": [
    "avg_dplyr"
   ]
  },
  {
   "cell_type": "code",
   "execution_count": null,
   "metadata": {
    "vscode": {
     "languageId": "r"
    }
   },
   "outputs": [],
   "source": [
    "# wybór kolumn\n",
    "avg_dplyr %>% ungroup() %>% select(time, speed) %>% head()"
   ]
  },
  {
   "cell_type": "code",
   "execution_count": null,
   "metadata": {
    "vscode": {
     "languageId": "r"
    }
   },
   "outputs": [],
   "source": [
    "# usuwanie kolumn\n",
    "avg_dplyr %>% select(-alg) %>% head()"
   ]
  },
  {
   "cell_type": "markdown",
   "metadata": {},
   "source": [
    "## Zadanie"
   ]
  },
  {
   "cell_type": "markdown",
   "metadata": {},
   "source": [
    "Za pomocą języka R przeanalizować dowolne dane z poprzednich laboratoriów. Elementy obowiązkowe:\n",
    "\n",
    "1. W jednej tabeli języka R należy umieścić wyniki dwóch różnych eksperymentów (t.j. czas działania dwóch różnych funkcji) dla różnych parametrów (t.j. rozmiarów wektora(macierzy)). Tabela powinna zawierać dane z 10-krotnego uruchomienia tego samego eksperymentu dla tych samych parametrów (dla każdego takiego zestawu)  **(1p.)**\n",
    "2. Należy przedstawić wykresy średnich czasów obliczenia wybranych funkcji w zależności od rozmiaru wektora (macierzy) **(1p.)**\n",
    "3. Wykresy powinny zawierać informację o odchyleniu standardowym dla uzyskanych wyników (słupki błędów)  **(1p.)**"
   ]
  }
 ],
 "metadata": {
  "kernelspec": {
   "display_name": "R",
   "language": "R",
   "name": "ir"
  },
  "language_info": {
   "codemirror_mode": "r",
   "file_extension": ".r",
   "mimetype": "text/x-r-source",
   "name": "R",
   "pygments_lexer": "r",
   "version": "4.2.1"
  }
 },
 "nbformat": 4,
 "nbformat_minor": 4
}
